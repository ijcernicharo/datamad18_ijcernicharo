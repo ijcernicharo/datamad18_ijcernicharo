{
 "cells": [
  {
   "cell_type": "code",
   "execution_count": 30,
   "metadata": {},
   "outputs": [
    {
     "data": {
      "text/html": [
       "<style>.container { width:100% !important; }</style>"
      ],
      "text/plain": [
       "<IPython.core.display.HTML object>"
      ]
     },
     "metadata": {},
     "output_type": "display_data"
    }
   ],
   "source": [
    "import pandas as pd\n",
    "import numpy as np \n",
    "import matplotlib.pyplot as plt\n",
    "import seaborn as sns\n",
    "import sklearn as sk\n",
    "import matplotlib.pyplot as plt\n",
    "\n",
    "from IPython.core.display import display, HTML\n",
    "display(HTML(\"<style>.container { width:100% !important; }</style>\"))\n",
    "\n",
    "from IPython.display import display\n",
    "pd.options.display.max_columns = None"
   ]
  },
  {
   "cell_type": "code",
   "execution_count": 2,
   "metadata": {},
   "outputs": [],
   "source": [
    "df = pd.read_pickle('physical_activity.pkl')"
   ]
  },
  {
   "cell_type": "code",
   "execution_count": 31,
   "metadata": {},
   "outputs": [],
   "source": [
    "df_id,df_data = [df['Activity ID'],df[[item for item in df.columns if not item=='Activity ID']]]\n",
    "del df"
   ]
  },
  {
   "cell_type": "code",
   "execution_count": 32,
   "metadata": {},
   "outputs": [],
   "source": [
    "from sklearn.preprocessing import StandardScaler\n",
    "from sklearn.cluster import KMeans"
   ]
  },
  {
   "cell_type": "code",
   "execution_count": 33,
   "metadata": {},
   "outputs": [],
   "source": [
    "scaler = StandardScaler()"
   ]
  },
  {
   "cell_type": "code",
   "execution_count": 34,
   "metadata": {},
   "outputs": [
    {
     "data": {
      "text/plain": [
       "StandardScaler(copy=True, with_mean=True, with_std=True)"
      ]
     },
     "execution_count": 34,
     "metadata": {},
     "output_type": "execute_result"
    }
   ],
   "source": [
    "scaler.fit(df_data)"
   ]
  },
  {
   "cell_type": "code",
   "execution_count": 35,
   "metadata": {},
   "outputs": [
    {
     "data": {
      "text/plain": [
       "array([[-0.09287586, -1.29176023,  0.94434284, ..., -1.62318102,\n",
       "        -1.74360738, -3.73021787],\n",
       "       [-0.09287586, -1.29176023,  0.95649874, ..., -1.6119905 ,\n",
       "        -1.71875434, -3.73002233],\n",
       "       [-0.09287586, -1.29176023,  0.95633066, ..., -1.58351542,\n",
       "        -1.69428514, -3.74206267],\n",
       "       ...,\n",
       "       [ 2.76161597, -4.19265443, -0.42457267, ..., -0.49866077,\n",
       "        -0.96720018,  0.39279389],\n",
       "       [ 2.76161597, -4.19265443, -0.43136894, ..., -0.46536834,\n",
       "        -0.9804332 ,  0.39292099],\n",
       "       [ 2.76161597, -4.19265443, -0.46141619, ..., -0.47287865,\n",
       "        -0.93890637,  0.39977953]])"
      ]
     },
     "metadata": {},
     "output_type": "display_data"
    }
   ],
   "source": [
    "X = scaler.transform(df_data)\n",
    "display(X)"
   ]
  },
  {
   "cell_type": "code",
   "execution_count": 36,
   "metadata": {},
   "outputs": [
    {
     "data": {
      "text/html": [
       "<div>\n",
       "<style scoped>\n",
       "    .dataframe tbody tr th:only-of-type {\n",
       "        vertical-align: middle;\n",
       "    }\n",
       "\n",
       "    .dataframe tbody tr th {\n",
       "        vertical-align: top;\n",
       "    }\n",
       "\n",
       "    .dataframe thead th {\n",
       "        text-align: right;\n",
       "    }\n",
       "</style>\n",
       "<table border=\"1\" class=\"dataframe\">\n",
       "  <thead>\n",
       "    <tr style=\"text-align: right;\">\n",
       "      <th></th>\n",
       "      <th>Heart Rate (bpm)</th>\n",
       "      <th>Hand Temp (°C)</th>\n",
       "      <th>Hand AX</th>\n",
       "      <th>Hand AY</th>\n",
       "      <th>Hand AZ</th>\n",
       "      <th>Hand Giros1</th>\n",
       "      <th>Hand Giros2</th>\n",
       "      <th>Hand Giros3</th>\n",
       "      <th>Hand MX</th>\n",
       "      <th>Hand MY</th>\n",
       "      <th>Hand MZ</th>\n",
       "      <th>Chest AX</th>\n",
       "      <th>Chest AY</th>\n",
       "      <th>Chest AZ</th>\n",
       "      <th>Chest Giros1</th>\n",
       "      <th>Chest Giros2</th>\n",
       "      <th>Chest Giros3</th>\n",
       "      <th>Chest MX</th>\n",
       "      <th>Chest MY</th>\n",
       "      <th>Ankle Temp (°C)</th>\n",
       "      <th>Ankle AX</th>\n",
       "      <th>Ankle AY</th>\n",
       "      <th>Ankle AZ</th>\n",
       "      <th>Ankle Giros1</th>\n",
       "      <th>Ankle Giros2</th>\n",
       "      <th>Ankle Giros3</th>\n",
       "      <th>Ankle MX</th>\n",
       "      <th>Ankle MY</th>\n",
       "      <th>Ankle MZ</th>\n",
       "    </tr>\n",
       "  </thead>\n",
       "  <tbody>\n",
       "    <tr>\n",
       "      <th>0</th>\n",
       "      <td>-0.092876</td>\n",
       "      <td>-1.29176</td>\n",
       "      <td>0.944343</td>\n",
       "      <td>0.706373</td>\n",
       "      <td>0.378938</td>\n",
       "      <td>-0.003876</td>\n",
       "      <td>0.002470</td>\n",
       "      <td>-0.003982</td>\n",
       "      <td>-0.347953</td>\n",
       "      <td>-2.051224</td>\n",
       "      <td>0.255004</td>\n",
       "      <td>-0.146315</td>\n",
       "      <td>0.339175</td>\n",
       "      <td>-0.050229</td>\n",
       "      <td>0.076235</td>\n",
       "      <td>0.018907</td>\n",
       "      <td>-0.100855</td>\n",
       "      <td>-0.114083</td>\n",
       "      <td>-1.100787</td>\n",
       "      <td>-2.219572</td>\n",
       "      <td>0.115985</td>\n",
       "      <td>-0.217991</td>\n",
       "      <td>0.747288</td>\n",
       "      <td>-0.003099</td>\n",
       "      <td>-0.007453</td>\n",
       "      <td>-0.000665</td>\n",
       "      <td>-1.623181</td>\n",
       "      <td>-1.743607</td>\n",
       "      <td>-3.730218</td>\n",
       "    </tr>\n",
       "    <tr>\n",
       "      <th>1</th>\n",
       "      <td>-0.092876</td>\n",
       "      <td>-1.29176</td>\n",
       "      <td>0.956499</td>\n",
       "      <td>0.614122</td>\n",
       "      <td>0.416197</td>\n",
       "      <td>-0.132182</td>\n",
       "      <td>-0.010355</td>\n",
       "      <td>-0.002876</td>\n",
       "      <td>-0.320655</td>\n",
       "      <td>-2.052252</td>\n",
       "      <td>0.215013</td>\n",
       "      <td>-0.100762</td>\n",
       "      <td>0.339123</td>\n",
       "      <td>-0.049941</td>\n",
       "      <td>0.035369</td>\n",
       "      <td>-0.055006</td>\n",
       "      <td>-0.123469</td>\n",
       "      <td>-0.093882</td>\n",
       "      <td>-1.088561</td>\n",
       "      <td>-2.219572</td>\n",
       "      <td>0.109252</td>\n",
       "      <td>-0.223160</td>\n",
       "      <td>0.716996</td>\n",
       "      <td>0.014122</td>\n",
       "      <td>0.042025</td>\n",
       "      <td>0.001760</td>\n",
       "      <td>-1.611990</td>\n",
       "      <td>-1.718754</td>\n",
       "      <td>-3.730022</td>\n",
       "    </tr>\n",
       "    <tr>\n",
       "      <th>2</th>\n",
       "      <td>-0.092876</td>\n",
       "      <td>-1.29176</td>\n",
       "      <td>0.956331</td>\n",
       "      <td>0.533404</td>\n",
       "      <td>0.434870</td>\n",
       "      <td>-0.183311</td>\n",
       "      <td>-0.025476</td>\n",
       "      <td>0.004260</td>\n",
       "      <td>-0.342789</td>\n",
       "      <td>-2.030054</td>\n",
       "      <td>0.275017</td>\n",
       "      <td>-0.059191</td>\n",
       "      <td>0.355753</td>\n",
       "      <td>-0.098247</td>\n",
       "      <td>-0.013621</td>\n",
       "      <td>0.058533</td>\n",
       "      <td>-0.080563</td>\n",
       "      <td>-0.120793</td>\n",
       "      <td>-1.100451</td>\n",
       "      <td>-2.219572</td>\n",
       "      <td>0.109039</td>\n",
       "      <td>-0.228454</td>\n",
       "      <td>0.706972</td>\n",
       "      <td>-0.039797</td>\n",
       "      <td>-0.050111</td>\n",
       "      <td>-0.004447</td>\n",
       "      <td>-1.583515</td>\n",
       "      <td>-1.694285</td>\n",
       "      <td>-3.742063</td>\n",
       "    </tr>\n",
       "    <tr>\n",
       "      <th>3</th>\n",
       "      <td>-0.092876</td>\n",
       "      <td>-1.29176</td>\n",
       "      <td>0.944771</td>\n",
       "      <td>0.533594</td>\n",
       "      <td>0.452862</td>\n",
       "      <td>-0.148476</td>\n",
       "      <td>-0.017166</td>\n",
       "      <td>0.012894</td>\n",
       "      <td>-0.306232</td>\n",
       "      <td>-2.031530</td>\n",
       "      <td>0.229958</td>\n",
       "      <td>-0.079234</td>\n",
       "      <td>0.356016</td>\n",
       "      <td>-0.066028</td>\n",
       "      <td>0.030497</td>\n",
       "      <td>-0.098857</td>\n",
       "      <td>-0.171908</td>\n",
       "      <td>-0.128647</td>\n",
       "      <td>-1.068812</td>\n",
       "      <td>-2.219572</td>\n",
       "      <td>0.103671</td>\n",
       "      <td>-0.217925</td>\n",
       "      <td>0.747087</td>\n",
       "      <td>-0.037038</td>\n",
       "      <td>0.007861</td>\n",
       "      <td>0.013698</td>\n",
       "      <td>-1.605426</td>\n",
       "      <td>-1.754537</td>\n",
       "      <td>-3.706279</td>\n",
       "    </tr>\n",
       "    <tr>\n",
       "      <th>4</th>\n",
       "      <td>-0.092876</td>\n",
       "      <td>-1.29176</td>\n",
       "      <td>0.957942</td>\n",
       "      <td>0.551081</td>\n",
       "      <td>0.498693</td>\n",
       "      <td>-0.053990</td>\n",
       "      <td>-0.056788</td>\n",
       "      <td>0.006842</td>\n",
       "      <td>-0.338550</td>\n",
       "      <td>-2.021314</td>\n",
       "      <td>0.250284</td>\n",
       "      <td>-0.010220</td>\n",
       "      <td>0.355993</td>\n",
       "      <td>-0.057505</td>\n",
       "      <td>-0.009606</td>\n",
       "      <td>-0.035196</td>\n",
       "      <td>-0.057635</td>\n",
       "      <td>-0.120384</td>\n",
       "      <td>-1.099898</td>\n",
       "      <td>-2.219572</td>\n",
       "      <td>0.122111</td>\n",
       "      <td>-0.223363</td>\n",
       "      <td>0.747450</td>\n",
       "      <td>-0.004591</td>\n",
       "      <td>-0.043993</td>\n",
       "      <td>-0.005271</td>\n",
       "      <td>-1.576450</td>\n",
       "      <td>-1.755438</td>\n",
       "      <td>-3.706514</td>\n",
       "    </tr>\n",
       "  </tbody>\n",
       "</table>\n",
       "</div>"
      ],
      "text/plain": [
       "   Heart Rate (bpm)  Hand Temp (°C)   Hand AX   Hand AY   Hand AZ  \\\n",
       "0         -0.092876        -1.29176  0.944343  0.706373  0.378938   \n",
       "1         -0.092876        -1.29176  0.956499  0.614122  0.416197   \n",
       "2         -0.092876        -1.29176  0.956331  0.533404  0.434870   \n",
       "3         -0.092876        -1.29176  0.944771  0.533594  0.452862   \n",
       "4         -0.092876        -1.29176  0.957942  0.551081  0.498693   \n",
       "\n",
       "   Hand Giros1  Hand Giros2  Hand Giros3   Hand MX   Hand MY   Hand MZ  \\\n",
       "0    -0.003876     0.002470    -0.003982 -0.347953 -2.051224  0.255004   \n",
       "1    -0.132182    -0.010355    -0.002876 -0.320655 -2.052252  0.215013   \n",
       "2    -0.183311    -0.025476     0.004260 -0.342789 -2.030054  0.275017   \n",
       "3    -0.148476    -0.017166     0.012894 -0.306232 -2.031530  0.229958   \n",
       "4    -0.053990    -0.056788     0.006842 -0.338550 -2.021314  0.250284   \n",
       "\n",
       "   Chest AX  Chest AY  Chest AZ  Chest Giros1  Chest Giros2  Chest Giros3  \\\n",
       "0 -0.146315  0.339175 -0.050229      0.076235      0.018907     -0.100855   \n",
       "1 -0.100762  0.339123 -0.049941      0.035369     -0.055006     -0.123469   \n",
       "2 -0.059191  0.355753 -0.098247     -0.013621      0.058533     -0.080563   \n",
       "3 -0.079234  0.356016 -0.066028      0.030497     -0.098857     -0.171908   \n",
       "4 -0.010220  0.355993 -0.057505     -0.009606     -0.035196     -0.057635   \n",
       "\n",
       "   Chest MX  Chest MY  Ankle Temp (°C)  Ankle AX  Ankle AY  Ankle AZ  \\\n",
       "0 -0.114083 -1.100787        -2.219572  0.115985 -0.217991  0.747288   \n",
       "1 -0.093882 -1.088561        -2.219572  0.109252 -0.223160  0.716996   \n",
       "2 -0.120793 -1.100451        -2.219572  0.109039 -0.228454  0.706972   \n",
       "3 -0.128647 -1.068812        -2.219572  0.103671 -0.217925  0.747087   \n",
       "4 -0.120384 -1.099898        -2.219572  0.122111 -0.223363  0.747450   \n",
       "\n",
       "   Ankle Giros1  Ankle Giros2  Ankle Giros3  Ankle MX  Ankle MY  Ankle MZ  \n",
       "0     -0.003099     -0.007453     -0.000665 -1.623181 -1.743607 -3.730218  \n",
       "1      0.014122      0.042025      0.001760 -1.611990 -1.718754 -3.730022  \n",
       "2     -0.039797     -0.050111     -0.004447 -1.583515 -1.694285 -3.742063  \n",
       "3     -0.037038      0.007861      0.013698 -1.605426 -1.754537 -3.706279  \n",
       "4     -0.004591     -0.043993     -0.005271 -1.576450 -1.755438 -3.706514  "
      ]
     },
     "metadata": {},
     "output_type": "display_data"
    }
   ],
   "source": [
    "df_scaled = pd.DataFrame(X,columns=df_data.columns)\n",
    "display(df_scaled.head())"
   ]
  },
  {
   "cell_type": "code",
   "execution_count": 37,
   "metadata": {},
   "outputs": [
    {
     "name": "stdout",
     "output_type": "stream",
     "text": [
      "KMeans(algorithm='auto', copy_x=True, init='k-means++', max_iter=300,\n",
      "    n_clusters=4, n_init=10, n_jobs=None, precompute_distances='auto',\n",
      "    random_state=None, tol=0.0001, verbose=0)\n"
     ]
    }
   ],
   "source": [
    "Kmodel = KMeans(n_clusters=4)\n",
    "print(Kmodel)"
   ]
  },
  {
   "cell_type": "code",
   "execution_count": 38,
   "metadata": {},
   "outputs": [
    {
     "data": {
      "text/plain": [
       "KMeans(algorithm='auto', copy_x=True, init='k-means++', max_iter=300,\n",
       "    n_clusters=4, n_init=10, n_jobs=None, precompute_distances='auto',\n",
       "    random_state=None, tol=0.0001, verbose=0)"
      ]
     },
     "execution_count": 38,
     "metadata": {},
     "output_type": "execute_result"
    }
   ],
   "source": [
    "Kmodel.fit(X)"
   ]
  },
  {
   "cell_type": "code",
   "execution_count": 43,
   "metadata": {},
   "outputs": [
    {
     "data": {
      "image/png": "[encoded data removed]",
      "text/plain": [
       "<Figure size 432x288 with 1 Axes>"
      ]
     },
     "metadata": {
      "needs_background": "light"
     },
     "output_type": "display_data"
    }
   ],
   "source": [
    "plt.hist(Kmodel.labels_)\n",
    "plt.show()"
   ]
  },
  {
   "cell_type": "code",
   "execution_count": 41,
   "metadata": {},
   "outputs": [
    {
     "data": {
      "text/plain": [
       "array([0, 1, 2, 3], dtype=int32)"
      ]
     },
     "execution_count": 41,
     "metadata": {},
     "output_type": "execute_result"
    }
   ],
   "source": [
    "np.unique(Kmodel.labels_)"
   ]
  },
  {
   "cell_type": "code",
   "execution_count": null,
   "metadata": {},
   "outputs": [],
   "source": []
  }
 ],
 "metadata": {
  "kernelspec": {
   "display_name": "Python 3",
   "language": "python",
   "name": "python3"
  },
  "language_info": {
   "codemirror_mode": {
    "name": "ipython",
    "version": 3
   },
   "file_extension": ".py",
   "mimetype": "text/x-python",
   "name": "python",
   "nbconvert_exporter": "python",
   "pygments_lexer": "ipython3",
   "version": "3.6.7"
  }
 },
 "nbformat": 4,
 "nbformat_minor": 2
}
