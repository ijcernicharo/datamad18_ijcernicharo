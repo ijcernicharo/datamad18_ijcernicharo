{
 "cells": [
  {
   "cell_type": "code",
   "execution_count": 1,
   "metadata": {},
   "outputs": [
    {
     "data": {
      "text/html": [
       "<style>.container { width:100% !important; }</style>"
      ],
      "text/plain": [
       "<IPython.core.display.HTML object>"
      ]
     },
     "metadata": {},
     "output_type": "display_data"
    }
   ],
   "source": [
    "import pandas as pd\n",
    "import numpy as np\n",
    "import datetime,os,sys,time\n",
    "import matplotlib.pyplot as plt\n",
    "import scipy as sc\n",
    "import pandas_profiling\n",
    "import seaborn as sns\n",
    "\n",
    "from IPython.core.display import display, HTML\n",
    "display(HTML(\"<style>.container { width:100% !important; }</style>\"))\n",
    "\n",
    "from IPython.display import display\n",
    "pd.options.display.max_columns = None"
   ]
  },
  {
   "cell_type": "markdown",
   "metadata": {},
   "source": [
    "# Lets explore the data"
   ]
  },
  {
   "cell_type": "code",
   "execution_count": 2,
   "metadata": {},
   "outputs": [],
   "source": [
    "def list_files_2(startpath,form):\n",
    "    gd=[os.path.join(root,f) for root,dirs,files in os.walk(startpath) for f in files if f.endswith(form)]\n",
    "    return gd"
   ]
  },
  {
   "cell_type": "code",
   "execution_count": 3,
   "metadata": {},
   "outputs": [],
   "source": [
    "actual_path = os.getcwd()"
   ]
  },
  {
   "cell_type": "code",
   "execution_count": 4,
   "metadata": {},
   "outputs": [
    {
     "name": "stdout",
     "output_type": "stream",
     "text": [
      "Files available for this study: \n",
      "   >> Optional\n",
      "       ** /home/ivan/Desktop/IRONHACK_DATA_ANALYTICS/Final_project/Optional/subject101.dat\n",
      "       ** /home/ivan/Desktop/IRONHACK_DATA_ANALYTICS/Final_project/Optional/subject105.dat\n",
      "       ** /home/ivan/Desktop/IRONHACK_DATA_ANALYTICS/Final_project/Optional/subject106.dat\n",
      "       ** /home/ivan/Desktop/IRONHACK_DATA_ANALYTICS/Final_project/Optional/subject108.dat\n",
      "       ** /home/ivan/Desktop/IRONHACK_DATA_ANALYTICS/Final_project/Optional/subject109.dat\n",
      "   >> Protocol\n",
      "       ** /home/ivan/Desktop/IRONHACK_DATA_ANALYTICS/Final_project/Protocol/subject101.dat\n",
      "       ** /home/ivan/Desktop/IRONHACK_DATA_ANALYTICS/Final_project/Protocol/subject102.dat\n",
      "       ** /home/ivan/Desktop/IRONHACK_DATA_ANALYTICS/Final_project/Protocol/subject103.dat\n",
      "       ** /home/ivan/Desktop/IRONHACK_DATA_ANALYTICS/Final_project/Protocol/subject104.dat\n",
      "       ** /home/ivan/Desktop/IRONHACK_DATA_ANALYTICS/Final_project/Protocol/subject105.dat\n",
      "       ** /home/ivan/Desktop/IRONHACK_DATA_ANALYTICS/Final_project/Protocol/subject106.dat\n",
      "       ** /home/ivan/Desktop/IRONHACK_DATA_ANALYTICS/Final_project/Protocol/subject107.dat\n",
      "       ** /home/ivan/Desktop/IRONHACK_DATA_ANALYTICS/Final_project/Protocol/subject108.dat\n",
      "       ** /home/ivan/Desktop/IRONHACK_DATA_ANALYTICS/Final_project/Protocol/subject109.dat\n"
     ]
    }
   ],
   "source": [
    "files = list_files_2(actual_path,'.dat')\n",
    "files.sort()\n",
    "types = np.unique([item.split('/')[-2] for item in files])\n",
    "print('Files available for this study: ')\n",
    "counter0,counter1,optional,protocol = [0,0,[],[]]\n",
    "for item in files:\n",
    "    if types[0] in item:\n",
    "        counter0 += 1\n",
    "        if counter0 == 1:\n",
    "            print('   >> '+types[0])\n",
    "        print('       ** '+item)\n",
    "        if types[0] == 'Optional': optional.append(item)\n",
    "        if types[0] == 'Protocol': protocol.append(item)\n",
    "    if types[1] in item:\n",
    "        counter1 += 1\n",
    "        if counter1 == 1:\n",
    "            print('   >> '+types[1])\n",
    "        print('       ** '+item)\n",
    "        if types[1] == 'Optional': optional.append(item)\n",
    "        if types[1] == 'Protocol': protocol.append(item)"
   ]
  },
  {
   "cell_type": "code",
   "execution_count": 5,
   "metadata": {},
   "outputs": [],
   "source": [
    "IMU = ['Temp (°C)','AX','AY','AZ','AX2','AY2','AZ2','Giros1','Giros2','Giros3','MX','MY','MZ','O1','O2','O3','O4']\n",
    "cols = ['Time (s)','Activity ID','Heart Rate (bpm)']+['Hand '+item for item in IMU]+['Chest '+item for item in IMU]+['Ankle '+item for item in IMU]"
   ]
  },
  {
   "cell_type": "code",
   "execution_count": 6,
   "metadata": {},
   "outputs": [
    {
     "name": "stdout",
     "output_type": "stream",
     "text": [
      "Iteration 0 | File: /home/ivan/Desktop/IRONHACK_DATA_ANALYTICS/Final_project/Protocol/subject101.dat\n",
      "Iteration 1 | File: /home/ivan/Desktop/IRONHACK_DATA_ANALYTICS/Final_project/Protocol/subject102.dat\n",
      "Iteration 2 | File: /home/ivan/Desktop/IRONHACK_DATA_ANALYTICS/Final_project/Protocol/subject103.dat\n",
      "Iteration 3 | File: /home/ivan/Desktop/IRONHACK_DATA_ANALYTICS/Final_project/Protocol/subject104.dat\n",
      "Iteration 4 | File: /home/ivan/Desktop/IRONHACK_DATA_ANALYTICS/Final_project/Protocol/subject105.dat\n",
      "Iteration 5 | File: /home/ivan/Desktop/IRONHACK_DATA_ANALYTICS/Final_project/Protocol/subject106.dat\n",
      "Iteration 6 | File: /home/ivan/Desktop/IRONHACK_DATA_ANALYTICS/Final_project/Protocol/subject107.dat\n",
      "Iteration 7 | File: /home/ivan/Desktop/IRONHACK_DATA_ANALYTICS/Final_project/Protocol/subject108.dat\n",
      "Iteration 8 | File: /home/ivan/Desktop/IRONHACK_DATA_ANALYTICS/Final_project/Protocol/subject109.dat\n",
      "CPU times: user 2min 13s, sys: 12.8 s, total: 2min 26s\n",
      "Wall time: 2min 26s\n"
     ]
    }
   ],
   "source": [
    "%%time\n",
    "counter = 0\n",
    "for item in protocol:\n",
    "    print('Iteration '+str(counter)+' | File: '+item)\n",
    "    data = pd.read_csv(item, sep=r'\\s{1,}', engine='python', header=None)\n",
    "    data.columns = cols\n",
    "    data['User ID'] = int(''.join([e for e in item.split('/')[-1].split('.')[0] if e.isnumeric()]))\n",
    "    if counter == 0:\n",
    "        final_data = data\n",
    "    else:\n",
    "        final_data = pd.concat([final_data,data])\n",
    "        final_data = final_data.reset_index(drop=True)\n",
    "    del data\n",
    "    counter += 1"
   ]
  },
  {
   "cell_type": "code",
   "execution_count": null,
   "metadata": {},
   "outputs": [],
   "source": [
    "%%time\n",
    "counter = 0\n",
    "for item in optional:\n",
    "    print('Iteration '+str(counter)+' | File: '+item)\n",
    "    data = pd.read_csv(item, sep=r'\\s{1,}', engine='python', header=None)\n",
    "    data.columns = cols\n",
    "    data['User ID'] = int(''.join([e for e in item.split('/')[-1].split('.')[0] if e.isnumeric()]))\n",
    "    if counter == 0:\n",
    "        final_data_optional = data\n",
    "    else:\n",
    "        final_data_optional = pd.concat([final_data_optional,data])\n",
    "        final_data_optional = final_data_optional.reset_index(drop=True)\n",
    "    del data\n",
    "    counter += 1"
   ]
  },
  {
   "cell_type": "code",
   "execution_count": null,
   "metadata": {},
   "outputs": [],
   "source": [
    "display(final_data.head())"
   ]
  },
  {
   "cell_type": "code",
   "execution_count": null,
   "metadata": {},
   "outputs": [],
   "source": [
    "display(final_data.describe())"
   ]
  },
  {
   "cell_type": "code",
   "execution_count": null,
   "metadata": {},
   "outputs": [],
   "source": [
    "display(final_data.dtypes.T)"
   ]
  },
  {
   "cell_type": "code",
   "execution_count": null,
   "metadata": {},
   "outputs": [],
   "source": [
    "final_data.isna().sum()"
   ]
  },
  {
   "cell_type": "markdown",
   "metadata": {},
   "source": [
    "# First Step > DELETE O1, O2 and O3 Attributes"
   ]
  },
  {
   "cell_type": "code",
   "execution_count": null,
   "metadata": {},
   "outputs": [],
   "source": [
    "final_cols = [e for e in final_data.columns.tolist() if not 'O' in e]\n",
    "df = final_data[final_cols]\n",
    "del final_data"
   ]
  },
  {
   "cell_type": "markdown",
   "metadata": {},
   "source": [
    "# Lets check the missing data by USER ID in %"
   ]
  },
  {
   "cell_type": "code",
   "execution_count": null,
   "metadata": {},
   "outputs": [],
   "source": [
    "counter = 0\n",
    "missing = []\n",
    "for item in df['User ID'].unique():\n",
    "    a = df[df['User ID'] == item]\n",
    "    print('User ID: ',item)\n",
    "    b = a.isna().sum()\n",
    "    if counter == 0:\n",
    "        ind = b.index.tolist()\n",
    "    missing.append(np.round(b.values*100/len(a),2))"
   ]
  },
  {
   "cell_type": "code",
   "execution_count": null,
   "metadata": {},
   "outputs": [],
   "source": [
    "missing_df_user = pd.DataFrame(np.asarray(missing).T,columns=df['User ID'].unique(),index=ind)\n",
    "display(missing_df_user)"
   ]
  },
  {
   "cell_type": "markdown",
   "metadata": {},
   "source": [
    "# Lets check the missing values by Activity ID"
   ]
  },
  {
   "cell_type": "code",
   "execution_count": null,
   "metadata": {},
   "outputs": [],
   "source": [
    "counter = 0\n",
    "missing = []\n",
    "act_list = df['Activity ID'].unique()\n",
    "act_list.sort()\n",
    "for item in act_list:\n",
    "    a = df[df['Activity ID'] == item]\n",
    "    print('Activity ID: ',item)\n",
    "    b = a.isna().sum()\n",
    "    if counter == 0:\n",
    "        ind = b.index.tolist()\n",
    "    missing.append(np.round(b.values*100/len(a),2))"
   ]
  },
  {
   "cell_type": "code",
   "execution_count": null,
   "metadata": {},
   "outputs": [],
   "source": [
    "missing_df_act = pd.DataFrame(np.asarray(missing).T,columns=act_list,index=ind)\n",
    "display(missing_df_act)"
   ]
  },
  {
   "cell_type": "code",
   "execution_count": null,
   "metadata": {},
   "outputs": [],
   "source": []
  }
 ],
 "metadata": {
  "kernelspec": {
   "display_name": "Python 3",
   "language": "python",
   "name": "python3"
  },
  "language_info": {
   "codemirror_mode": {
    "name": "ipython",
    "version": 3
   },
   "file_extension": ".py",
   "mimetype": "text/x-python",
   "name": "python",
   "nbconvert_exporter": "python",
   "pygments_lexer": "ipython3",
   "version": "3.6.7"
  }
 },
 "nbformat": 4,
 "nbformat_minor": 2
}
