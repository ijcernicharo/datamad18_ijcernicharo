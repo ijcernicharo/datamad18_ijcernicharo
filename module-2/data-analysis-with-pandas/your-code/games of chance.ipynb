{
 "cells": [
  {
   "cell_type": "markdown",
   "metadata": {},
   "source": [
    "Import the necessary modules"
   ]
  },
  {
   "cell_type": "code",
   "execution_count": 6,
   "metadata": {},
   "outputs": [],
   "source": [
    "import numpy as np\n",
    "from scipy.misc import comb\n",
    "from math import factorial"
   ]
  },
  {
   "cell_type": "code",
   "execution_count": 38,
   "metadata": {},
   "outputs": [],
   "source": [
    "# Function to calculate the odds:\n",
    "def odds(prob):\n",
    "    return(prob/(1-prob))"
   ]
  },
  {
   "cell_type": "code",
   "execution_count": 65,
   "metadata": {},
   "outputs": [],
   "source": [
    "def calculate_odds(p):\n",
    "    return (1/p)-1"
   ]
  },
  {
   "cell_type": "markdown",
   "metadata": {},
   "source": [
    "___"
   ]
  },
  {
   "cell_type": "markdown",
   "metadata": {},
   "source": [
    "## CRAPS"
   ]
  },
  {
   "cell_type": "markdown",
   "metadata": {},
   "source": [
    "We have 6 different faces in a Die, so n=6.<br>\n",
    "We have 2 dice. So k=2"
   ]
  },
  {
   "cell_type": "code",
   "execution_count": 46,
   "metadata": {},
   "outputs": [],
   "source": [
    "n=6\n",
    "k=2"
   ]
  },
  {
   "cell_type": "code",
   "execution_count": 62,
   "metadata": {},
   "outputs": [
    {
     "name": "stdout",
     "output_type": "stream",
     "text": [
      "Number of different Combinations:  11\n"
     ]
    }
   ],
   "source": [
    "# Number of different combinations:\n",
    "print('Number of different Combinations: ',(n*k-1))"
   ]
  },
  {
   "cell_type": "code",
   "execution_count": 66,
   "metadata": {},
   "outputs": [
    {
     "name": "stdout",
     "output_type": "stream",
     "text": [
      "Number of permutations:  36\n"
     ]
    }
   ],
   "source": [
    "# Number of permutations\n",
    "total_permutations=n**k\n",
    "print('Number of permutations: ',total_permutations)"
   ]
  },
  {
   "cell_type": "code",
   "execution_count": 12,
   "metadata": {},
   "outputs": [
    {
     "data": {
      "text/plain": [
       "30.0"
      ]
     },
     "execution_count": 12,
     "metadata": {},
     "output_type": "execute_result"
    }
   ],
   "source": [
    "factorial(6)/factorial(6-2)"
   ]
  },
  {
   "cell_type": "code",
   "execution_count": 67,
   "metadata": {},
   "outputs": [
    {
     "name": "stdout",
     "output_type": "stream",
     "text": [
      "Probability to obtain any outcome:  0.027777777777777776\n"
     ]
    }
   ],
   "source": [
    "print('Probability to obtain any outcome: ',1/total_permutations)"
   ]
  },
  {
   "cell_type": "code",
   "execution_count": 114,
   "metadata": {},
   "outputs": [
    {
     "name": "stdout",
     "output_type": "stream",
     "text": [
      "\n",
      "Probability to obtain 2 as result with 2 dice:  2.778 % || Odds: 1 to  35.0\n",
      "\n",
      "Probability to obtain 3 as result with 2 dice:  5.556 % || Odds: 1 to  17.0\n",
      "\n",
      "Probability to obtain 4 as result with 2 dice:  8.333 % || Odds: 1 to  11.0\n",
      "\n",
      "Probability to obtain 5 as result with 2 dice:  11.111 % || Odds: 1 to  8.0\n",
      "\n",
      "Probability to obtain 6 as result with 2 dice:  13.889 % || Odds: 1 to  6.2\n",
      "\n",
      "Probability to obtain 7 as result with 2 dice:  16.667 % || Odds: 1 to  5.0\n",
      "\n",
      "Probability to obtain 8 as result with 2 dice:  13.889 % || Odds: 1 to  6.2\n",
      "\n",
      "Probability to obtain 9 as result with 2 dice:  11.111 % || Odds: 1 to  8.0\n",
      "\n",
      "Probability to obtain 10 as result with 2 dice:  8.333 % || Odds: 1 to  11.0\n",
      "\n",
      "Probability to obtain 11 as result with 2 dice:  5.556 % || Odds: 1 to  17.0\n",
      "\n",
      "Probability to obtain 12 as result with 2 dice:  2.778 % || Odds: 1 to  35.0\n"
     ]
    }
   ],
   "source": [
    "counter=0\n",
    "for i in range(2,13):\n",
    "    print('')\n",
    "    if i>7:\n",
    "        counter-=1\n",
    "    num_of_comb=sum([True if e+h==i else False for h in range(1,i+counter) for e in range(1,i+counter)])\n",
    "    prob=num_of_comb/total_permutations\n",
    "    print('Probability to obtain %s as result with 2 dice: '%i,round(prob*100,3),'% || Odds: 1 to ',round(calculate_odds(prob),2))"
   ]
  },
  {
   "cell_type": "markdown",
   "metadata": {},
   "source": [
    "___"
   ]
  },
  {
   "cell_type": "markdown",
   "metadata": {},
   "source": [
    "## ROULETTE"
   ]
  },
  {
   "cell_type": "markdown",
   "metadata": {},
   "source": [
    "Standard Roulette, from 0 to 36<br>\n",
    "For Green color we have 18 samples<br>\n",
    "For Black color we have 18 samples<br>\n",
    "We have one sample (0) with no color"
   ]
  },
  {
   "cell_type": "code",
   "execution_count": 118,
   "metadata": {},
   "outputs": [],
   "source": [
    "number_of_elements=37\n",
    "num_black=18\n",
    "num_red=18\n",
    "num_non_col=1"
   ]
  },
  {
   "cell_type": "code",
   "execution_count": 123,
   "metadata": {},
   "outputs": [
    {
     "name": "stdout",
     "output_type": "stream",
     "text": [
      "2.7 %\n"
     ]
    }
   ],
   "source": [
    "# Probability to obtain any outcome:\n",
    "prob_any_number=1/number_of_elements\n",
    "print(round(1*100/number_of_elements,2),'%')"
   ]
  },
  {
   "cell_type": "code",
   "execution_count": 122,
   "metadata": {},
   "outputs": [
    {
     "name": "stdout",
     "output_type": "stream",
     "text": [
      "48.65 %\n"
     ]
    }
   ],
   "source": [
    "# Probability to obtain blacks or reds:\n",
    "prob_col=num_red/number_of_elements\n",
    "print(round(num_red*100/number_of_elements,2),'%')"
   ]
  },
  {
   "cell_type": "code",
   "execution_count": null,
   "metadata": {},
   "outputs": [],
   "source": [
    "# Conditioned probability: Any number "
   ]
  },
  {
   "cell_type": "code",
   "execution_count": null,
   "metadata": {},
   "outputs": [],
   "source": []
  },
  {
   "cell_type": "code",
   "execution_count": null,
   "metadata": {},
   "outputs": [],
   "source": []
  },
  {
   "cell_type": "code",
   "execution_count": null,
   "metadata": {},
   "outputs": [],
   "source": []
  },
  {
   "cell_type": "code",
   "execution_count": null,
   "metadata": {},
   "outputs": [],
   "source": []
  },
  {
   "cell_type": "code",
   "execution_count": null,
   "metadata": {},
   "outputs": [],
   "source": []
  },
  {
   "cell_type": "code",
   "execution_count": null,
   "metadata": {},
   "outputs": [],
   "source": []
  },
  {
   "cell_type": "code",
   "execution_count": null,
   "metadata": {},
   "outputs": [],
   "source": []
  },
  {
   "cell_type": "code",
   "execution_count": null,
   "metadata": {},
   "outputs": [],
   "source": []
  },
  {
   "cell_type": "code",
   "execution_count": null,
   "metadata": {},
   "outputs": [],
   "source": []
  },
  {
   "cell_type": "code",
   "execution_count": null,
   "metadata": {},
   "outputs": [],
   "source": []
  }
 ],
 "metadata": {
  "kernelspec": {
   "display_name": "Python 3",
   "language": "python",
   "name": "python3"
  },
  "language_info": {
   "codemirror_mode": {
    "name": "ipython",
    "version": 3
   },
   "file_extension": ".py",
   "mimetype": "text/x-python",
   "name": "python",
   "nbconvert_exporter": "python",
   "pygments_lexer": "ipython3",
   "version": "3.6.6"
  }
 },
 "nbformat": 4,
 "nbformat_minor": 2
}
