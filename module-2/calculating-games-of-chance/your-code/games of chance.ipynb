{
 "cells": [
  {
   "cell_type": "code",
   "execution_count": null,
   "metadata": {},
   "outputs": [],
   "source": []
  },
  {
   "cell_type": "markdown",
   "metadata": {},
   "source": [
    "Import the necessary modules"
   ]
  },
  {
   "cell_type": "code",
   "execution_count": null,
   "metadata": {},
   "outputs": [],
   "source": [
    "import numpy as np\n",
    "from scipy.misc import comb\n",
    "from math import factorial"
   ]
  },
  {
   "cell_type": "code",
   "execution_count": null,
   "metadata": {},
   "outputs": [],
   "source": [
    "# Function to calculate the odds:\n",
    "def odds(prob):\n",
    "    return(prob/(1-prob))"
   ]
  },
  {
   "cell_type": "code",
   "execution_count": null,
   "metadata": {},
   "outputs": [],
   "source": [
    "def calculate_odds(p):\n",
    "    return (1/p)-1"
   ]
  },
  {
   "cell_type": "markdown",
   "metadata": {},
   "source": [
    "___"
   ]
  },
  {
   "cell_type": "markdown",
   "metadata": {},
   "source": [
    "## CRAPS"
   ]
  },
  {
   "cell_type": "markdown",
   "metadata": {},
   "source": [
    "We have 6 different faces in a Die, so n=6.<br>\n",
    "We have 2 dice. So k=2"
   ]
  },
  {
   "cell_type": "code",
   "execution_count": null,
   "metadata": {},
   "outputs": [],
   "source": [
    "n=6\n",
    "k=2"
   ]
  },
  {
   "cell_type": "code",
   "execution_count": null,
   "metadata": {},
   "outputs": [],
   "source": [
    "# Number of different combinations:\n",
    "print('Number of different Combinations: ',(n*k-1))"
   ]
  },
  {
   "cell_type": "code",
   "execution_count": null,
   "metadata": {},
   "outputs": [],
   "source": [
    "# Number of permutations\n",
    "total_permutations=n**k\n",
    "print('Number of permutations: ',total_permutations)"
   ]
  },
  {
   "cell_type": "code",
   "execution_count": null,
   "metadata": {},
   "outputs": [],
   "source": [
    "factorial(6)/factorial(6-2)"
   ]
  },
  {
   "cell_type": "code",
   "execution_count": null,
   "metadata": {},
   "outputs": [],
   "source": [
    "print('Probability to obtain any outcome: ',1/total_permutations)"
   ]
  },
  {
   "cell_type": "code",
   "execution_count": null,
   "metadata": {},
   "outputs": [],
   "source": [
    "counter=0\n",
    "for i in range(2,13):\n",
    "    print('')\n",
    "    if i>7:\n",
    "        counter-=1\n",
    "    num_of_comb=sum([True if e+h==i else False for h in range(1,i+counter) for e in range(1,i+counter)])\n",
    "    prob=num_of_comb/total_permutations\n",
    "    print('Probability to obtain %s as result with 2 dice: '%i,round(prob*100,3),'% || Odds: 1 to ',round(calculate_odds(prob),2))"
   ]
  },
  {
   "cell_type": "markdown",
   "metadata": {},
   "source": [
    "___"
   ]
  },
  {
   "cell_type": "markdown",
   "metadata": {},
   "source": [
    "## ROULETTE"
   ]
  },
  {
   "cell_type": "markdown",
   "metadata": {},
   "source": [
    "Standard Roulette, from 0 to 36<br>\n",
    "For Green color we have 18 samples<br>\n",
    "For Black color we have 18 samples<br>\n",
    "We have one sample (0) with no color"
   ]
  },
  {
   "cell_type": "code",
   "execution_count": null,
   "metadata": {},
   "outputs": [],
   "source": [
    "number_of_elements=37\n",
    "num_black=18\n",
    "num_red=18\n",
    "num_non_col=1"
   ]
  },
  {
   "cell_type": "code",
   "execution_count": null,
   "metadata": {},
   "outputs": [],
   "source": [
    "# Probability to obtain any outcome:\n",
    "prob_any_number=1/number_of_elements\n",
    "print(round(1*100/number_of_elements,2),'%')"
   ]
  },
  {
   "cell_type": "code",
   "execution_count": null,
   "metadata": {},
   "outputs": [],
   "source": [
    "# Probability to obtain blacks or reds:\n",
    "prob_col=num_red/number_of_elements\n",
    "print(round(num_red*100/number_of_elements,2),'%')"
   ]
  },
  {
   "cell_type": "code",
   "execution_count": null,
   "metadata": {},
   "outputs": [],
   "source": [
    "# Conditioned probability: A black number below 20 considering that colors have a uniform distribution. \n",
    "# 0 is not considered here because it hasn't got defined a color"
   ]
  },
  {
   "cell_type": "code",
   "execution_count": null,
   "metadata": {},
   "outputs": [],
   "source": [
    "# Number below 20 > 19 elements\n",
    "prob_below_20=19/number_of_elements\n",
    "print(round(prob_below_20*100,2),'%')"
   ]
  },
  {
   "cell_type": "code",
   "execution_count": null,
   "metadata": {},
   "outputs": [],
   "source": [
    "# Below 20 and being black\n",
    "prob_20B=prob_below_20*prob_col\n",
    "print('Conditioned probability: ',round(prob_20B*100,2),'%')"
   ]
  },
  {
   "cell_type": "markdown",
   "metadata": {},
   "source": [
    "___"
   ]
  }
 ],
 "metadata": {
  "kernelspec": {
   "display_name": "Python 3",
   "language": "python",
   "name": "python3"
  },
  "language_info": {
   "codemirror_mode": {
    "name": "ipython",
    "version": 3
   },
   "file_extension": ".py",
   "mimetype": "text/x-python",
   "name": "python",
   "nbconvert_exporter": "python",
   "pygments_lexer": "ipython3",
   "version": "3.6.6"
  }
 },
 "nbformat": 4,
 "nbformat_minor": 2
}
