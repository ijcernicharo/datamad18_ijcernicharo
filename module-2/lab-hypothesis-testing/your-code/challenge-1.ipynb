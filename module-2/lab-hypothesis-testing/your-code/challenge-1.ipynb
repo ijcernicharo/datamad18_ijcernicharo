{
 "cells": [
  {
   "cell_type": "markdown",
   "metadata": {},
   "source": [
    "# Challenge 1 - T-test\n",
    "\n",
    "In statistics, t-test is used to test if two data samples have a significant difference between their means. There are two types of t-test:\n",
    "\n",
    "* **Student's t-test** (a.k.a. independent or uncorrelated t-test). This type of t-test is to compare the samples of **two independent populations** (e.g. test scores of students in two different classes). `scipy` provides the [`ttest_ind`](https://docs.scipy.org/doc/scipy-0.15.1/reference/generated/scipy.stats.ttest_ind.html) method to conduct student's t-test.\n",
    "\n",
    "* **Paired t-test** (a.k.a. dependent or correlated t-test). This type of t-test is to compare the samples of **the same population** (e.g. scores of different tests of students in the same class). `scipy` provides the [`ttest_re`](https://docs.scipy.org/doc/scipy-0.15.1/reference/generated/scipy.stats.ttest_rel.html) method to conduct paired t-test.\n",
    "\n",
    "Both types of t-tests return a number which is called the **p-value**. If p-value is below 0.05, we can confidently declare the null-hypothesis is rejected and the difference is significant. If p-value is between 0.05 and 0.1, we may also declare the null-hypothesis is rejected but we are not highly confident. If p-value is above 0.1 we do not reject the null-hypothesis.\n",
    "\n",
    "Read more about the t-test in [this article](https://researchbasics.education.uconn.edu/t-test/) and [this Quora](https://www.quora.com/What-is-the-difference-between-a-paired-and-unpaired-t-test). Make sure you understand when to use which type of t-test. "
   ]
  },
  {
   "cell_type": "code",
   "execution_count": 1,
   "metadata": {},
   "outputs": [],
   "source": [
    "# Import libraries\n",
    "\n",
    "import pandas as pd\n",
    "from scipy import stats\n",
    "import numpy as np\n",
    "import random"
   ]
  },
  {
   "cell_type": "markdown",
   "metadata": {},
   "source": [
    "#### Import dataset\n",
    "\n",
    "In this challenge we will work on the Pokemon dataset you have used last week. The goal is to test whether different groups of pokemon (e.g. Legendary vs Normal, Generation 1 vs 2, single-type vs dual-type) have different stats (e.g. HP, Attack, Defense, etc.)."
   ]
  },
  {
   "cell_type": "code",
   "execution_count": 2,
   "metadata": {},
   "outputs": [
    {
     "data": {
      "text/html": [
       "<div>\n",
       "<style scoped>\n",
       "    .dataframe tbody tr th:only-of-type {\n",
       "        vertical-align: middle;\n",
       "    }\n",
       "\n",
       "    .dataframe tbody tr th {\n",
       "        vertical-align: top;\n",
       "    }\n",
       "\n",
       "    .dataframe thead th {\n",
       "        text-align: right;\n",
       "    }\n",
       "</style>\n",
       "<table border=\"1\" class=\"dataframe\">\n",
       "  <thead>\n",
       "    <tr style=\"text-align: right;\">\n",
       "      <th></th>\n",
       "      <th>#</th>\n",
       "      <th>Name</th>\n",
       "      <th>Type 1</th>\n",
       "      <th>Type 2</th>\n",
       "      <th>Total</th>\n",
       "      <th>HP</th>\n",
       "      <th>Attack</th>\n",
       "      <th>Defense</th>\n",
       "      <th>Sp. Atk</th>\n",
       "      <th>Sp. Def</th>\n",
       "      <th>Speed</th>\n",
       "      <th>Generation</th>\n",
       "      <th>Legendary</th>\n",
       "    </tr>\n",
       "  </thead>\n",
       "  <tbody>\n",
       "    <tr>\n",
       "      <th>0</th>\n",
       "      <td>1</td>\n",
       "      <td>Bulbasaur</td>\n",
       "      <td>Grass</td>\n",
       "      <td>Poison</td>\n",
       "      <td>318</td>\n",
       "      <td>45</td>\n",
       "      <td>49</td>\n",
       "      <td>49</td>\n",
       "      <td>65</td>\n",
       "      <td>65</td>\n",
       "      <td>45</td>\n",
       "      <td>1</td>\n",
       "      <td>False</td>\n",
       "    </tr>\n",
       "    <tr>\n",
       "      <th>1</th>\n",
       "      <td>2</td>\n",
       "      <td>Ivysaur</td>\n",
       "      <td>Grass</td>\n",
       "      <td>Poison</td>\n",
       "      <td>405</td>\n",
       "      <td>60</td>\n",
       "      <td>62</td>\n",
       "      <td>63</td>\n",
       "      <td>80</td>\n",
       "      <td>80</td>\n",
       "      <td>60</td>\n",
       "      <td>1</td>\n",
       "      <td>False</td>\n",
       "    </tr>\n",
       "    <tr>\n",
       "      <th>2</th>\n",
       "      <td>3</td>\n",
       "      <td>Venusaur</td>\n",
       "      <td>Grass</td>\n",
       "      <td>Poison</td>\n",
       "      <td>525</td>\n",
       "      <td>80</td>\n",
       "      <td>82</td>\n",
       "      <td>83</td>\n",
       "      <td>100</td>\n",
       "      <td>100</td>\n",
       "      <td>80</td>\n",
       "      <td>1</td>\n",
       "      <td>False</td>\n",
       "    </tr>\n",
       "    <tr>\n",
       "      <th>3</th>\n",
       "      <td>3</td>\n",
       "      <td>VenusaurMega Venusaur</td>\n",
       "      <td>Grass</td>\n",
       "      <td>Poison</td>\n",
       "      <td>625</td>\n",
       "      <td>80</td>\n",
       "      <td>100</td>\n",
       "      <td>123</td>\n",
       "      <td>122</td>\n",
       "      <td>120</td>\n",
       "      <td>80</td>\n",
       "      <td>1</td>\n",
       "      <td>False</td>\n",
       "    </tr>\n",
       "    <tr>\n",
       "      <th>4</th>\n",
       "      <td>4</td>\n",
       "      <td>Charmander</td>\n",
       "      <td>Fire</td>\n",
       "      <td>NaN</td>\n",
       "      <td>309</td>\n",
       "      <td>39</td>\n",
       "      <td>52</td>\n",
       "      <td>43</td>\n",
       "      <td>60</td>\n",
       "      <td>50</td>\n",
       "      <td>65</td>\n",
       "      <td>1</td>\n",
       "      <td>False</td>\n",
       "    </tr>\n",
       "  </tbody>\n",
       "</table>\n",
       "</div>"
      ],
      "text/plain": [
       "   #                   Name Type 1  Type 2  Total  HP  Attack  Defense  \\\n",
       "0  1              Bulbasaur  Grass  Poison    318  45      49       49   \n",
       "1  2                Ivysaur  Grass  Poison    405  60      62       63   \n",
       "2  3               Venusaur  Grass  Poison    525  80      82       83   \n",
       "3  3  VenusaurMega Venusaur  Grass  Poison    625  80     100      123   \n",
       "4  4             Charmander   Fire     NaN    309  39      52       43   \n",
       "\n",
       "   Sp. Atk  Sp. Def  Speed  Generation  Legendary  \n",
       "0       65       65     45           1      False  \n",
       "1       80       80     60           1      False  \n",
       "2      100      100     80           1      False  \n",
       "3      122      120     80           1      False  \n",
       "4       60       50     65           1      False  "
      ]
     },
     "execution_count": 2,
     "metadata": {},
     "output_type": "execute_result"
    }
   ],
   "source": [
    "# Import dataset\n",
    "\n",
    "pokemon = pd.read_csv('../../lab-df-calculation-and-transformation/your-code/Pokemon.csv')\n",
    "\n",
    "pokemon.head()"
   ]
  },
  {
   "cell_type": "markdown",
   "metadata": {},
   "source": [
    "#### First we want to define a function with which we can test the means of a feature set of two samples. \n",
    "\n",
    "In the next cell you'll see the annotations of the Python function that explains what this function does and its arguments and returned value. This type of annotation is called **docstring** which is a convention used among Python developers. The docstring convention allows developers to write consistent tech documentations for their codes so that others can read. It also allows some websites to automatically parse the docstrings and display user-friendly documentations.\n",
    "\n",
    "Follow the specifications of the docstring and complete the function."
   ]
  },
  {
   "cell_type": "code",
   "execution_count": 3,
   "metadata": {},
   "outputs": [],
   "source": [
    "def t_test_features(s1, s2, features=['HP', 'Attack', 'Defense', 'Sp. Atk', 'Sp. Def', 'Speed', 'Total']):\n",
    "    \"\"\"Test means of a feature set of two samples\n",
    "    \n",
    "    Args:\n",
    "        s1 (dataframe): sample 1\n",
    "        s2 (dataframe): sample 2\n",
    "        features (list): an array of features to test\n",
    "    \n",
    "    Returns:\n",
    "        dict: a dictionary of t-test scores for each feature where the feature name is the key and the p-value is the value\n",
    "    \"\"\" \n",
    "    \n",
    "    results = dict(zip(features,stats.ttest_ind(s1[features],s2[features],equal_var=False)[1]))\n",
    "\n",
    "    # Your code here\n",
    "    \n",
    "    return results"
   ]
  },
  {
   "cell_type": "markdown",
   "metadata": {},
   "source": [
    "#### Using the `t_test_features` function, conduct t-test for Lengendary vs non-Legendary pokemons.\n",
    "\n",
    "*Hint: your output should look like below:*\n",
    "\n",
    "```\n",
    "{'HP': 1.0026911708035284e-13,\n",
    " 'Attack': 2.520372449236646e-16,\n",
    " 'Defense': 4.8269984949193316e-11,\n",
    " 'Sp. Atk': 1.5514614112239812e-21,\n",
    " 'Sp. Def': 2.2949327864052826e-15,\n",
    " 'Speed': 1.049016311882451e-18,\n",
    " 'Total': 9.357954335957446e-47}\n",
    " ```"
   ]
  },
  {
   "cell_type": "code",
   "execution_count": 4,
   "metadata": {},
   "outputs": [
    {
     "name": "stdout",
     "output_type": "stream",
     "text": [
      "Original Len of Legendary 65 | Of Random Sample of Legendary 8\n",
      "Original Len of Non Legendary 735 | Of Random Sample of Non Legendary 181\n",
      "\n",
      "T test Features:\n"
     ]
    },
    {
     "data": {
      "text/plain": [
       "{'HP': 0.0077958855015028816,\n",
       " 'Attack': 0.0005191305544098539,\n",
       " 'Defense': 0.008516601138911548,\n",
       " 'Sp. Atk': 0.0010768427956310811,\n",
       " 'Sp. Def': 0.0010762562394978396,\n",
       " 'Speed': 0.0005382364438292854,\n",
       " 'Total': 1.982997538419366e-07}"
      ]
     },
     "metadata": {},
     "output_type": "display_data"
    },
    {
     "name": "stdout",
     "output_type": "stream",
     "text": [
      "\n",
      "T test Features for the whole sample of Legendary and Non Legendary Pokemons:\n"
     ]
    },
    {
     "data": {
      "text/plain": [
       "{'HP': 1.0026911708035284e-13,\n",
       " 'Attack': 2.520372449236646e-16,\n",
       " 'Defense': 4.8269984949193316e-11,\n",
       " 'Sp. Atk': 1.5514614112239812e-21,\n",
       " 'Sp. Def': 2.2949327864052826e-15,\n",
       " 'Speed': 1.049016311882451e-18,\n",
       " 'Total': 9.357954335957446e-47}"
      ]
     },
     "metadata": {},
     "output_type": "display_data"
    }
   ],
   "source": [
    "# Your code here\n",
    "s1=pokemon[pokemon['Legendary']==True]\n",
    "ns1=len(s1)\n",
    "ns1_rand=random.randint(1,ns1*3//4)\n",
    "s1_rand_ind=random.sample(range(ns1),ns1_rand)\n",
    "s1_sample=s1.iloc[s1_rand_ind]\n",
    "print('Original Len of Legendary %s | Of Random Sample of Legendary %s' %(ns1,len(s1_rand_ind)))\n",
    "\n",
    "s2=pokemon[~pokemon['Legendary']==True]\n",
    "ns2=len(s2)\n",
    "ns2_rand=random.randint(1,ns2*3//4)\n",
    "s2_rand_ind=random.sample(range(ns2),ns2_rand)\n",
    "s2_sample=s2.iloc[s2_rand_ind]\n",
    "print('Original Len of Non Legendary %s | Of Random Sample of Non Legendary %s' %(ns2,len(s2_rand_ind)))\n",
    "\n",
    "print('')\n",
    "print('T test Features:')\n",
    "display(t_test_features(s1_sample,s2_sample))\n",
    "\n",
    "print('')\n",
    "print('T test Features for the whole sample of Legendary and Non Legendary Pokemons:')\n",
    "display(t_test_features(s1,s2))"
   ]
  },
  {
   "cell_type": "markdown",
   "metadata": {},
   "source": [
    "#### From the test results above, what conclusion can you make? Do Legendary and non-Legendary pokemons have significantly different stats on each feature?"
   ]
  },
  {
   "cell_type": "code",
   "execution_count": 5,
   "metadata": {},
   "outputs": [],
   "source": [
    "# Your comment here\n",
    "# Being all P values less than 0.05, so we reject the Null Hypothesis and there are significant differences"
   ]
  },
  {
   "cell_type": "markdown",
   "metadata": {},
   "source": [
    "#### Next, conduct t-test for Generation 1 and Generation 2 pokemons."
   ]
  },
  {
   "cell_type": "code",
   "execution_count": 6,
   "metadata": {},
   "outputs": [
    {
     "name": "stdout",
     "output_type": "stream",
     "text": [
      "Original Len of Generation 1 166 | Of Random Sample of Generation 1 6\n",
      "Original Len of Non Generation 2 106 | Of Random Sample of Non Generation 2 17\n",
      "\n",
      "T test Features:\n"
     ]
    },
    {
     "data": {
      "text/plain": [
       "{'HP': 0.03941090005550371,\n",
       " 'Attack': 0.036364155162347804,\n",
       " 'Defense': 0.04615248714655086,\n",
       " 'Sp. Atk': 0.7057105268149023,\n",
       " 'Sp. Def': 0.2172546139484077,\n",
       " 'Speed': 0.2854912073972732,\n",
       " 'Total': 0.4294660365758832}"
      ]
     },
     "metadata": {},
     "output_type": "display_data"
    },
    {
     "name": "stdout",
     "output_type": "stream",
     "text": [
      "\n",
      "T test Features for the whole sample of Generation and Non Generation Pokemons:\n",
      "Generation 1 samples:  166\n",
      "Generation 2 samples:  106\n"
     ]
    },
    {
     "data": {
      "text/plain": [
       "{'HP': 0.14551697834219623,\n",
       " 'Attack': 0.24721958967217725,\n",
       " 'Defense': 0.5677711011725426,\n",
       " 'Sp. Atk': 0.12332165977104394,\n",
       " 'Sp. Def': 0.18829872292645752,\n",
       " 'Speed': 0.00239265937312135,\n",
       " 'Total': 0.5631377907941676}"
      ]
     },
     "metadata": {},
     "output_type": "display_data"
    }
   ],
   "source": [
    "# Your code here\n",
    "s1=pokemon[pokemon['Generation']==1]\n",
    "ns1=len(s1)\n",
    "ns1_rand=random.randint(1,ns1*3//4)\n",
    "s1_rand_ind=random.sample(range(ns1),ns1_rand)\n",
    "s1_sample=s1.iloc[s1_rand_ind]\n",
    "print('Original Len of Generation 1 %s | Of Random Sample of Generation 1 %s' %(ns1,len(s1_rand_ind)))\n",
    "\n",
    "s2=pokemon[pokemon['Generation']==2]\n",
    "ns2=len(s2)\n",
    "ns2_rand=random.randint(1,ns2*3//4)\n",
    "s2_rand_ind=random.sample(range(ns2),ns2_rand)\n",
    "s2_sample=s2.iloc[s2_rand_ind]\n",
    "print('Original Len of Non Generation 2 %s | Of Random Sample of Non Generation 2 %s' %(ns2,len(s2_rand_ind)))\n",
    "\n",
    "print('')\n",
    "print('T test Features:')\n",
    "display(t_test_features(s1_sample,s2_sample))\n",
    "\n",
    "print('')\n",
    "print('T test Features for the whole sample of Generation and Non Generation Pokemons:')\n",
    "print('Generation 1 samples: ',ns1)\n",
    "print('Generation 2 samples: ',ns2)\n",
    "display(t_test_features(s1,s2))"
   ]
  },
  {
   "cell_type": "markdown",
   "metadata": {},
   "source": [
    "#### What conclusions can you make?"
   ]
  },
  {
   "cell_type": "code",
   "execution_count": 7,
   "metadata": {},
   "outputs": [],
   "source": [
    "# Your comment here\n",
    "# Hipothesis 0 confirmed for all features except Speed (>0.05=True) Have the same stats for these features\n",
    "# Speed is the only changing feature of them"
   ]
  },
  {
   "cell_type": "markdown",
   "metadata": {},
   "source": [
    "#### Compare pokemons who have single type vs those having two types."
   ]
  },
  {
   "cell_type": "code",
   "execution_count": 8,
   "metadata": {},
   "outputs": [
    {
     "name": "stdout",
     "output_type": "stream",
     "text": [
      "Original Len of 1 type 386 | Of Random Sample of 1 type 155\n",
      "Original Len of 2 Types 414 | Of Random Sample of 2 types 271\n",
      "\n",
      "T test Features:\n"
     ]
    },
    {
     "data": {
      "text/plain": [
       "{'HP': 0.4873612507166769,\n",
       " 'Attack': 0.01980173821873032,\n",
       " 'Defense': 0.000749568496664526,\n",
       " 'Sp. Atk': 0.07178444973090284,\n",
       " 'Sp. Def': 0.15117917621536756,\n",
       " 'Speed': 0.25266788550983993,\n",
       " 'Total': 0.006110223160253867}"
      ]
     },
     "metadata": {},
     "output_type": "display_data"
    },
    {
     "name": "stdout",
     "output_type": "stream",
     "text": [
      "\n",
      "T test Features for the whole sample of 1 and 2 Different Types Pokemons:\n",
      "1 Type samples:  386\n",
      "2 Types samples:  414\n"
     ]
    },
    {
     "data": {
      "text/plain": [
       "{'HP': 0.11314389855379421,\n",
       " 'Attack': 0.00014932578145948305,\n",
       " 'Defense': 2.7978540411514693e-08,\n",
       " 'Sp. Atk': 0.00013876216585667842,\n",
       " 'Sp. Def': 0.00010730610934512779,\n",
       " 'Speed': 0.02421703281819094,\n",
       " 'Total': 1.1157056505229961e-07}"
      ]
     },
     "metadata": {},
     "output_type": "display_data"
    }
   ],
   "source": [
    "# Your code here\n",
    "\n",
    "s1 = pokemon[pokemon['Type 2'].isnull()] # 1 Type\n",
    "s2 = pokemon[~pokemon['Type 2'].isnull()] # 2 Types \n",
    "\n",
    "# Your code here\n",
    "ns1=len(s1)\n",
    "ns1_rand=random.randint(1,ns1*3//4)\n",
    "s1_rand_ind=random.sample(range(ns1),ns1_rand)\n",
    "s1_sample=s1.iloc[s1_rand_ind]\n",
    "print('Original Len of 1 type %s | Of Random Sample of 1 type %s' %(ns1,len(s1_rand_ind)))\n",
    "\n",
    "ns2=len(s2)\n",
    "ns2_rand=random.randint(1,ns2*3//4)\n",
    "s2_rand_ind=random.sample(range(ns2),ns2_rand)\n",
    "s2_sample=s2.iloc[s2_rand_ind]\n",
    "print('Original Len of 2 Types %s | Of Random Sample of 2 types %s' %(ns2,len(s2_rand_ind)))\n",
    "\n",
    "print('')\n",
    "print('T test Features:')\n",
    "display(t_test_features(s1_sample,s2_sample))\n",
    "\n",
    "print('')\n",
    "print('T test Features for the whole sample of 1 and 2 Different Types Pokemons:')\n",
    "print('1 Type samples: ',ns1)\n",
    "print('2 Types samples: ',ns2)\n",
    "display(t_test_features(s1,s2))"
   ]
  },
  {
   "cell_type": "markdown",
   "metadata": {},
   "source": [
    "#### What conclusions can you make?"
   ]
  },
  {
   "cell_type": "code",
   "execution_count": 9,
   "metadata": {},
   "outputs": [],
   "source": [
    "# Your comment here"
   ]
  },
  {
   "cell_type": "markdown",
   "metadata": {},
   "source": [
    "#### Now, we want to compare whether there are significant differences of `Attack` vs `Defense`  and  `Sp. Atk` vs `Sp. Def` of all pokemons. Please write your code below.\n",
    "\n",
    "*Hint: are you comparing different populations or the same population?*"
   ]
  },
  {
   "cell_type": "code",
   "execution_count": 10,
   "metadata": {},
   "outputs": [
    {
     "name": "stdout",
     "output_type": "stream",
     "text": [
      "\n",
      "\n",
      "-------------------------------------------\n",
      "\n",
      "ITREATION 1\n",
      "\n",
      "Attack vs Defense:  0.00029614527424039856  >>  H0 confirmed\n",
      "\n",
      "Attack vs Defense:  0.21471300016154213  >>  H0 refuted\n",
      "\n",
      "-------------------------------------------\n",
      "\n",
      "ITREATION 2\n",
      "\n",
      "Attack vs Defense:  4.397218759821185e-05  >>  H0 confirmed\n",
      "\n",
      "Attack vs Defense:  0.5187151030324425  >>  H0 refuted\n",
      "\n",
      "-------------------------------------------\n",
      "\n",
      "ITREATION 3\n",
      "\n",
      "Attack vs Defense:  0.0006101263187522369  >>  H0 confirmed\n",
      "\n",
      "Attack vs Defense:  0.7085694074723637  >>  H0 refuted\n",
      "\n",
      "-------------------------------------------\n",
      "\n",
      "ITREATION 4\n",
      "\n",
      "Attack vs Defense:  5.520516140626564e-05  >>  H0 confirmed\n",
      "\n",
      "Attack vs Defense:  0.5572189342657287  >>  H0 refuted\n",
      "\n",
      "-------------------------------------------\n",
      "\n",
      "ITREATION 5\n",
      "\n",
      "Attack vs Defense:  6.029105314672335e-05  >>  H0 confirmed\n",
      "\n",
      "Attack vs Defense:  0.08182746434201667  >>  H0 refuted\n",
      "\n",
      "-------------------------------------------\n",
      "\n",
      "ITREATION 6\n",
      "\n",
      "Attack vs Defense:  4.884073803050531e-05  >>  H0 confirmed\n",
      "\n",
      "Attack vs Defense:  0.5891132644212982  >>  H0 refuted\n",
      "\n",
      "-------------------------------------------\n",
      "\n",
      "ITREATION 7\n",
      "\n",
      "Attack vs Defense:  0.00011616235662650772  >>  H0 confirmed\n",
      "\n",
      "Attack vs Defense:  0.2622189201366896  >>  H0 refuted\n",
      "\n",
      "-------------------------------------------\n",
      "\n",
      "ITREATION 8\n",
      "\n",
      "Attack vs Defense:  2.6599464388992783e-05  >>  H0 confirmed\n",
      "\n",
      "Attack vs Defense:  0.2055258873738548  >>  H0 refuted\n",
      "\n",
      "-------------------------------------------\n",
      "\n",
      "ITREATION 9\n",
      "\n",
      "Attack vs Defense:  5.6017415991970724e-05  >>  H0 confirmed\n",
      "\n",
      "Attack vs Defense:  0.290176990063713  >>  H0 refuted\n",
      "\n",
      "-------------------------------------------\n",
      "\n",
      "ITREATION 10\n",
      "\n",
      "Attack vs Defense:  0.001477617838944572  >>  H0 confirmed\n",
      "\n",
      "Attack vs Defense:  0.44744363156961053  >>  H0 refuted\n"
     ]
    }
   ],
   "source": [
    "# Your code here\n",
    "print('')\n",
    "list_of_AD=[]\n",
    "list_of_SASD=[]\n",
    "for m in range(10):\n",
    "    print('')\n",
    "    print('-------------------------------------------')\n",
    "    print('')\n",
    "    print('ITREATION %s' %(m+1))\n",
    "    print('')\n",
    "    pok=pokemon.sample(600)\n",
    "    s1 = pok['Attack']\n",
    "    s2 = pok['Defense']\n",
    "    testt=stats.ttest_rel(s1,s2)[1]\n",
    "    list_of_AD.append('H0 refuted' if testt>0.05 else 'H0 confirmed')\n",
    "    print('Attack vs Defense: ',testt,' >> ','H0 refuted' if testt>0.05 else 'H0 confirmed')\n",
    "\n",
    "    print('')\n",
    "    s1 = pok['Sp. Atk']\n",
    "    s2 = pok['Sp. Def']\n",
    "    testt=stats.ttest_rel(s1,s2)[1]\n",
    "    list_of_SASD.append('H0 refuted' if testt>0.05 else 'H0 confirmed')\n",
    "    print('Attack vs Defense: ',testt,' >> ','H0 refuted' if testt>0.05 else 'H0 confirmed')"
   ]
  },
  {
   "cell_type": "markdown",
   "metadata": {},
   "source": [
    "#### What conclusions can you make?"
   ]
  },
  {
   "cell_type": "code",
   "execution_count": 11,
   "metadata": {},
   "outputs": [
    {
     "name": "stdout",
     "output_type": "stream",
     "text": [
      "Attack vs defense Tests: Refuted  0 confirmed  10\n",
      "  >>  There are significant differences\n",
      "\n",
      "Sp. Atk vs Sp. Def Tests: Refuted  10 confirmed  0\n",
      "  >>  No differences\n"
     ]
    }
   ],
   "source": [
    "# Your comment here\n",
    "print('Attack vs defense Tests: Refuted ',list_of_AD.count('H0 refuted'),'confirmed ',list_of_AD.count('H0 confirmed'))\n",
    "print('  >>  No differences' if list_of_AD.count('H0 refuted')>list_of_AD.count('H0 confirmed') else '  >>  There are significant differences')\n",
    "print('')\n",
    "print('Sp. Atk vs Sp. Def Tests: Refuted ',list_of_SASD.count('H0 refuted'),'confirmed ',list_of_SASD.count('H0 confirmed'))\n",
    "print('  >>  No differences' if list_of_SASD.count('H0 refuted')>list_of_SASD.count('H0 confirmed') else '  >>  There are significant differences')"
   ]
  },
  {
   "cell_type": "markdown",
   "metadata": {},
   "source": [
    "___"
   ]
  }
 ],
 "metadata": {
  "kernelspec": {
   "display_name": "Python 3",
   "language": "python",
   "name": "python3"
  },
  "language_info": {
   "codemirror_mode": {
    "name": "ipython",
    "version": 3
   },
   "file_extension": ".py",
   "mimetype": "text/x-python",
   "name": "python",
   "nbconvert_exporter": "python",
   "pygments_lexer": "ipython3",
   "version": "3.6.6"
  }
 },
 "nbformat": 4,
 "nbformat_minor": 2
}
