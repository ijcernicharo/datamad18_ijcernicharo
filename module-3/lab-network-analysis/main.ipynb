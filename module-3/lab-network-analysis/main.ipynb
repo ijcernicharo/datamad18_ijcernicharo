{
 "cells": [
  {
   "cell_type": "markdown",
   "metadata": {},
   "source": [
    "## Graph Theory and Network Composition"
   ]
  },
  {
   "cell_type": "code",
   "execution_count": 33,
   "metadata": {},
   "outputs": [],
   "source": [
    "import networkx as nx\n",
    "import matplotlib.pyplot as plt"
   ]
  },
  {
   "cell_type": "code",
   "execution_count": 2,
   "metadata": {},
   "outputs": [],
   "source": [
    "G = nx.Graph()"
   ]
  },
  {
   "cell_type": "code",
   "execution_count": 3,
   "metadata": {},
   "outputs": [],
   "source": [
    "G.add_node(1)\n",
    "G.add_nodes_from([2, 3])\n",
    "\n",
    "G.add_edge(1, 2)\n",
    "G.add_edges_from([(1, 2), (1, 3)])"
   ]
  },
  {
   "cell_type": "code",
   "execution_count": 5,
   "metadata": {},
   "outputs": [
    {
     "name": "stdout",
     "output_type": "stream",
     "text": [
      "Order:  3\n",
      "Number of nodes:  3\n",
      "Size:  2\n",
      "Number of edges:  2\n"
     ]
    }
   ],
   "source": [
    "print('Order: ',G.order())\n",
    "print('Number of nodes: ',G.number_of_nodes())\n",
    "print('Size: ',G.size())\n",
    "print('Number of edges: ',G.number_of_edges())"
   ]
  },
  {
   "cell_type": "code",
   "execution_count": 6,
   "metadata": {},
   "outputs": [
    {
     "name": "stdout",
     "output_type": "stream",
     "text": [
      "Average degree:  1.3333333333333333\n"
     ]
    }
   ],
   "source": [
    "print('Average degree: ',sum(dict(G.degree()).values())/G.order())"
   ]
  },
  {
   "cell_type": "code",
   "execution_count": 18,
   "metadata": {},
   "outputs": [
    {
     "name": "stdout",
     "output_type": "stream",
     "text": [
      "Density:  0.6666666666666666\n",
      "Diameter:  2\n",
      "Average shortest path length:  1.3333333333333333\n"
     ]
    }
   ],
   "source": [
    "print('Density: ',nx.density(G))\n",
    "print('Diameter: ',nx.diameter(G))\n",
    "print('Average shortest path length: ',nx.average_shortest_path_length(G))"
   ]
  },
  {
   "cell_type": "markdown",
   "metadata": {},
   "source": [
    "___"
   ]
  },
  {
   "cell_type": "markdown",
   "metadata": {},
   "source": [
    "## Node Centrality Metrics"
   ]
  },
  {
   "cell_type": "code",
   "execution_count": 19,
   "metadata": {},
   "outputs": [],
   "source": [
    "betweenness = nx.betweenness_centrality(G, weight='edge')\n",
    "closeness = nx.closeness_centrality(G, distance='edge')\n",
    "eigenvector = nx.eigenvector_centrality_numpy(G)\n",
    "degree = nx.degree_centrality(G)\n",
    "pagerank = nx.pagerank(G)"
   ]
  },
  {
   "cell_type": "code",
   "execution_count": 57,
   "metadata": {},
   "outputs": [
    {
     "name": "stdout",
     "output_type": "stream",
     "text": [
      "betweenness:  {1: 1.0, 2: 0.0, 3: 0.0}\n",
      "closeness:  {1: 1.0, 2: 0.6666666666666666, 3: 0.6666666666666666}\n",
      "eigenvector:  {1: 0.7071067811865476, 2: 0.49999999999999983, 3: 0.5000000000000001}\n",
      "degree:  {1: 1.0, 2: 0.5, 3: 0.5}\n",
      "pagerank:  {1: 0.48648582432442095, 2: 0.25675708783778944, 3: 0.25675708783778944}\n"
     ]
    }
   ],
   "source": [
    "print('betweenness: ',betweenness)\n",
    "print('closeness: ',closeness)\n",
    "print('eigenvector: ',eigenvector)\n",
    "print('degree: ',degree)\n",
    "print('pagerank: ',pagerank)"
   ]
  },
  {
   "cell_type": "markdown",
   "metadata": {},
   "source": [
    "___"
   ]
  },
  {
   "cell_type": "markdown",
   "metadata": {},
   "source": [
    "## Loading Tabular Data"
   ]
  },
  {
   "cell_type": "code",
   "execution_count": 58,
   "metadata": {},
   "outputs": [],
   "source": [
    "import pandas as pd"
   ]
  },
  {
   "cell_type": "code",
   "execution_count": 59,
   "metadata": {},
   "outputs": [
    {
     "data": {
      "text/html": [
       "<div>\n",
       "<style scoped>\n",
       "    .dataframe tbody tr th:only-of-type {\n",
       "        vertical-align: middle;\n",
       "    }\n",
       "\n",
       "    .dataframe tbody tr th {\n",
       "        vertical-align: top;\n",
       "    }\n",
       "\n",
       "    .dataframe thead th {\n",
       "        text-align: right;\n",
       "    }\n",
       "</style>\n",
       "<table border=\"1\" class=\"dataframe\">\n",
       "  <thead>\n",
       "    <tr style=\"text-align: right;\">\n",
       "      <th></th>\n",
       "      <th>Name_x</th>\n",
       "      <th>Name_y</th>\n",
       "      <th>Games</th>\n",
       "      <th>Event</th>\n",
       "    </tr>\n",
       "  </thead>\n",
       "  <tbody>\n",
       "    <tr>\n",
       "      <th>0</th>\n",
       "      <td>Ladislava Aloisie \"Laddie\" Bakanic (Hniz-)</td>\n",
       "      <td>Marian Emma Barone (Twining-)</td>\n",
       "      <td>1948 Summer</td>\n",
       "      <td>Gymnastics Women's Team All-Around</td>\n",
       "    </tr>\n",
       "    <tr>\n",
       "      <th>1</th>\n",
       "      <td>Ladislava Aloisie \"Laddie\" Bakanic (Hniz-)</td>\n",
       "      <td>Consetta Anne \"Connie\" Caruccio-Lenz</td>\n",
       "      <td>1948 Summer</td>\n",
       "      <td>Gymnastics Women's Team All-Around</td>\n",
       "    </tr>\n",
       "    <tr>\n",
       "      <th>2</th>\n",
       "      <td>Ladislava Aloisie \"Laddie\" Bakanic (Hniz-)</td>\n",
       "      <td>Dorothy Katherine Dalton</td>\n",
       "      <td>1948 Summer</td>\n",
       "      <td>Gymnastics Women's Team All-Around</td>\n",
       "    </tr>\n",
       "    <tr>\n",
       "      <th>3</th>\n",
       "      <td>Ladislava Aloisie \"Laddie\" Bakanic (Hniz-)</td>\n",
       "      <td>Meta Elste (Neumann-)</td>\n",
       "      <td>1948 Summer</td>\n",
       "      <td>Gymnastics Women's Team All-Around</td>\n",
       "    </tr>\n",
       "    <tr>\n",
       "      <th>4</th>\n",
       "      <td>Ladislava Aloisie \"Laddie\" Bakanic (Hniz-)</td>\n",
       "      <td>Helen Mary Schifano (-Sjursen)</td>\n",
       "      <td>1948 Summer</td>\n",
       "      <td>Gymnastics Women's Team All-Around</td>\n",
       "    </tr>\n",
       "  </tbody>\n",
       "</table>\n",
       "</div>"
      ],
      "text/plain": [
       "                                       Name_x  \\\n",
       "0  Ladislava Aloisie \"Laddie\" Bakanic (Hniz-)   \n",
       "1  Ladislava Aloisie \"Laddie\" Bakanic (Hniz-)   \n",
       "2  Ladislava Aloisie \"Laddie\" Bakanic (Hniz-)   \n",
       "3  Ladislava Aloisie \"Laddie\" Bakanic (Hniz-)   \n",
       "4  Ladislava Aloisie \"Laddie\" Bakanic (Hniz-)   \n",
       "\n",
       "                                 Name_y        Games  \\\n",
       "0         Marian Emma Barone (Twining-)  1948 Summer   \n",
       "1  Consetta Anne \"Connie\" Caruccio-Lenz  1948 Summer   \n",
       "2              Dorothy Katherine Dalton  1948 Summer   \n",
       "3                 Meta Elste (Neumann-)  1948 Summer   \n",
       "4        Helen Mary Schifano (-Sjursen)  1948 Summer   \n",
       "\n",
       "                                Event  \n",
       "0  Gymnastics Women's Team All-Around  \n",
       "1  Gymnastics Women's Team All-Around  \n",
       "2  Gymnastics Women's Team All-Around  \n",
       "3  Gymnastics Women's Team All-Around  \n",
       "4  Gymnastics Women's Team All-Around  "
      ]
     },
     "metadata": {},
     "output_type": "display_data"
    }
   ],
   "source": [
    "us_w_gym = pd.read_csv('data/us_womens_gymnastics.csv')\n",
    "\n",
    "display(us_w_gym.head())"
   ]
  },
  {
   "cell_type": "code",
   "execution_count": 62,
   "metadata": {},
   "outputs": [
    {
     "name": "stdout",
     "output_type": "stream",
     "text": [
      "Shape us_w_gym DF >> Rows:  2866  | Columns:  4\n"
     ]
    }
   ],
   "source": [
    "print('Shape us_w_gym DF >> Rows: ',us_w_gym.shape[0],' | Columns: ',us_w_gym.shape[1])"
   ]
  },
  {
   "cell_type": "markdown",
   "metadata": {},
   "source": [
    "# Rows Represent Transactions or Interactions\n",
    "Use your Python skills, use Pandas to read and aggregate the data by the `Name_x` and `Name_y` fields and count the number of events in which they have an interaction. Once you have done this, sort descending by the number of pairwise interactions. Which pair of gymnasts have competed in the most events together?\n",
    "\n",
    "Now that we have a data frame in this format, Networkx provides us with an easy way to turn it into a graph via the from_pandas_edgelist method."
   ]
  },
  {
   "cell_type": "code",
   "execution_count": 65,
   "metadata": {},
   "outputs": [],
   "source": [
    "G = nx.from_pandas_edgelist(df=us_w_gym, source='Name_x', target='Name_y')"
   ]
  },
  {
   "cell_type": "markdown",
   "metadata": {},
   "source": [
    "Use this method to turn the data frame into a graph and then practice computing the graph statistics and centrality measures we covered in the previous section. Below are some questions to answer about this graph.\n",
    "\n",
    "    1. How many gymnasts (nodes) are in the graph?\n",
    "    2. How many edges are in the graph?\n",
    "    3. What is the average degree?\n",
    "    4. What is the density of the graph?\n",
    "    5. Is this graph fully-connected? How do you know?\n",
    "    6. What gymnast has the highest betweenness centrality?\n",
    "    7. What gymnast has the highest Eigenvector centrality?\n",
    "    8. What gymnast has the highest degree centrality?"
   ]
  },
  {
   "cell_type": "markdown",
   "metadata": {},
   "source": [
    "#### 1. How many gymnasts (nodes) are in the graph?"
   ]
  },
  {
   "cell_type": "code",
   "execution_count": 66,
   "metadata": {},
   "outputs": [
    {
     "name": "stdout",
     "output_type": "stream",
     "text": [
      "94\n"
     ]
    }
   ],
   "source": [
    "print(G.number_of_nodes())"
   ]
  },
  {
   "cell_type": "markdown",
   "metadata": {},
   "source": [
    "#### 2. How many edges are in the graph?"
   ]
  },
  {
   "cell_type": "code",
   "execution_count": 67,
   "metadata": {},
   "outputs": [
    {
     "name": "stdout",
     "output_type": "stream",
     "text": [
      "292\n"
     ]
    }
   ],
   "source": [
    "print(G.number_of_edges())"
   ]
  },
  {
   "cell_type": "markdown",
   "metadata": {},
   "source": [
    "#### 3. What is the average degree?"
   ]
  },
  {
   "cell_type": "code",
   "execution_count": 68,
   "metadata": {},
   "outputs": [
    {
     "name": "stdout",
     "output_type": "stream",
     "text": [
      "6.212765957446808\n"
     ]
    }
   ],
   "source": [
    "print(sum(dict(G.degree()).values())/G.order())"
   ]
  },
  {
   "cell_type": "markdown",
   "metadata": {},
   "source": [
    "#### 4. What is the density of the graph?"
   ]
  },
  {
   "cell_type": "code",
   "execution_count": 69,
   "metadata": {},
   "outputs": [
    {
     "name": "stdout",
     "output_type": "stream",
     "text": [
      "0.06680393502630977\n"
     ]
    }
   ],
   "source": [
    "print(nx.density(G))"
   ]
  },
  {
   "cell_type": "markdown",
   "metadata": {},
   "source": [
    "##### 5. Is this graph fully-connected? How do you know?"
   ]
  },
  {
   "cell_type": "code",
   "execution_count": 70,
   "metadata": {},
   "outputs": [
    {
     "name": "stdout",
     "output_type": "stream",
     "text": [
      "False\n"
     ]
    }
   ],
   "source": [
    "print(nx.is_connected(G))"
   ]
  },
  {
   "cell_type": "markdown",
   "metadata": {},
   "source": [
    "#### 6. What gymnast has the highest betweenness centrality?"
   ]
  },
  {
   "cell_type": "code",
   "execution_count": 75,
   "metadata": {},
   "outputs": [
    {
     "name": "stdout",
     "output_type": "stream",
     "text": [
      "Linda Joan Metheny (-Mulvihill)  >>  0.05002337540906966\n"
     ]
    }
   ],
   "source": [
    "# Compute the shortest-path betweenness centrality for nodes. \n",
    "# Betweenness centrality of a node v is the sum of the fraction of all-pairs \n",
    "# shortest paths that pass through v\n",
    "\n",
    "betweenness = nx.betweenness_centrality(G, weight='edge')\n",
    "betweenness_sorted = sorted(betweenness.items(), key=lambda x: x[1], reverse=True)\n",
    "print(betweenness_sorted[0][0],' >> ',betweenness_sorted[0][1])"
   ]
  },
  {
   "cell_type": "markdown",
   "metadata": {},
   "source": [
    "#### 7. What gymnast has the highest Eigenvector centrality?"
   ]
  },
  {
   "cell_type": "code",
   "execution_count": 74,
   "metadata": {},
   "outputs": [
    {
     "name": "stdout",
     "output_type": "stream",
     "text": [
      "Dorothy Katherine Dalton  >>  0.33062594030121717\n"
     ]
    }
   ],
   "source": [
    "# Eigenvector centrality computes the centrality for a node based on the centrality of its neighbors\n",
    "\n",
    "eigenvector = nx.eigenvector_centrality_numpy(G)\n",
    "eigenvector_sorted = sorted(eigenvector.items(), key=lambda x: x[1], reverse=True)\n",
    "print(eigenvector_sorted[0][0],' >> ',eigenvector_sorted[0][1])"
   ]
  },
  {
   "cell_type": "markdown",
   "metadata": {},
   "source": [
    "#### 8. What gymnast has the highest degree centrality?"
   ]
  },
  {
   "cell_type": "code",
   "execution_count": 76,
   "metadata": {},
   "outputs": [
    {
     "name": "stdout",
     "output_type": "stream",
     "text": [
      "Consetta Anne \"Connie\" Caruccio-Lenz  >>  0.15053763440860216\n"
     ]
    }
   ],
   "source": [
    "# The degree centrality for a node v is the fraction of nodes it is connected to.\n",
    "\n",
    "\n",
    "degree = nx.degree_centrality(G)\n",
    "degree_sorted = sorted(degree.items(), key=lambda x: x[1], reverse=True)\n",
    "print(degree_sorted[0][0],' >> ',degree_sorted[0][1])"
   ]
  },
  {
   "cell_type": "markdown",
   "metadata": {},
   "source": [
    "___"
   ]
  },
  {
   "cell_type": "markdown",
   "metadata": {},
   "source": [
    "# Rows Represent Entities"
   ]
  },
  {
   "cell_type": "code",
   "execution_count": 79,
   "metadata": {},
   "outputs": [
    {
     "data": {
      "text/html": [
       "<div>\n",
       "<style scoped>\n",
       "    .dataframe tbody tr th:only-of-type {\n",
       "        vertical-align: middle;\n",
       "    }\n",
       "\n",
       "    .dataframe tbody tr th {\n",
       "        vertical-align: top;\n",
       "    }\n",
       "\n",
       "    .dataframe thead th {\n",
       "        text-align: right;\n",
       "    }\n",
       "</style>\n",
       "<table border=\"1\" class=\"dataframe\">\n",
       "  <thead>\n",
       "    <tr style=\"text-align: right;\">\n",
       "      <th></th>\n",
       "      <th>ID</th>\n",
       "      <th>Name</th>\n",
       "      <th>Sex</th>\n",
       "      <th>Age</th>\n",
       "      <th>Height</th>\n",
       "      <th>Weight</th>\n",
       "      <th>Team</th>\n",
       "      <th>NOC</th>\n",
       "      <th>Games</th>\n",
       "      <th>Year</th>\n",
       "      <th>Season</th>\n",
       "      <th>City</th>\n",
       "      <th>Sport</th>\n",
       "      <th>Event</th>\n",
       "      <th>Medal</th>\n",
       "    </tr>\n",
       "  </thead>\n",
       "  <tbody>\n",
       "    <tr>\n",
       "      <th>0</th>\n",
       "      <td>351</td>\n",
       "      <td>Julius Shareef Abdur-Rahim</td>\n",
       "      <td>M</td>\n",
       "      <td>23.0</td>\n",
       "      <td>202.0</td>\n",
       "      <td>104.0</td>\n",
       "      <td>United States</td>\n",
       "      <td>USA</td>\n",
       "      <td>2000 Summer</td>\n",
       "      <td>2000</td>\n",
       "      <td>Summer</td>\n",
       "      <td>Sydney</td>\n",
       "      <td>Basketball</td>\n",
       "      <td>Basketball Men's Basketball</td>\n",
       "      <td>Gold</td>\n",
       "    </tr>\n",
       "    <tr>\n",
       "      <th>1</th>\n",
       "      <td>2636</td>\n",
       "      <td>Stephen Todd \"Steve\" Alford</td>\n",
       "      <td>M</td>\n",
       "      <td>19.0</td>\n",
       "      <td>185.0</td>\n",
       "      <td>74.0</td>\n",
       "      <td>United States</td>\n",
       "      <td>USA</td>\n",
       "      <td>1984 Summer</td>\n",
       "      <td>1984</td>\n",
       "      <td>Summer</td>\n",
       "      <td>Los Angeles</td>\n",
       "      <td>Basketball</td>\n",
       "      <td>Basketball Men's Basketball</td>\n",
       "      <td>Gold</td>\n",
       "    </tr>\n",
       "    <tr>\n",
       "      <th>2</th>\n",
       "      <td>2863</td>\n",
       "      <td>Walter Ray Allen</td>\n",
       "      <td>M</td>\n",
       "      <td>25.0</td>\n",
       "      <td>192.0</td>\n",
       "      <td>93.0</td>\n",
       "      <td>United States</td>\n",
       "      <td>USA</td>\n",
       "      <td>2000 Summer</td>\n",
       "      <td>2000</td>\n",
       "      <td>Summer</td>\n",
       "      <td>Sydney</td>\n",
       "      <td>Basketball</td>\n",
       "      <td>Basketball Men's Basketball</td>\n",
       "      <td>Gold</td>\n",
       "    </tr>\n",
       "    <tr>\n",
       "      <th>3</th>\n",
       "      <td>3874</td>\n",
       "      <td>William Lloyd \"Willie\" Anderson, Jr.</td>\n",
       "      <td>M</td>\n",
       "      <td>21.0</td>\n",
       "      <td>200.0</td>\n",
       "      <td>86.0</td>\n",
       "      <td>United States</td>\n",
       "      <td>USA</td>\n",
       "      <td>1988 Summer</td>\n",
       "      <td>1988</td>\n",
       "      <td>Summer</td>\n",
       "      <td>Seoul</td>\n",
       "      <td>Basketball</td>\n",
       "      <td>Basketball Men's Basketball</td>\n",
       "      <td>Bronze</td>\n",
       "    </tr>\n",
       "    <tr>\n",
       "      <th>4</th>\n",
       "      <td>4505</td>\n",
       "      <td>Carmelo Kyan Anthony</td>\n",
       "      <td>M</td>\n",
       "      <td>20.0</td>\n",
       "      <td>203.0</td>\n",
       "      <td>109.0</td>\n",
       "      <td>United States</td>\n",
       "      <td>USA</td>\n",
       "      <td>2004 Summer</td>\n",
       "      <td>2004</td>\n",
       "      <td>Summer</td>\n",
       "      <td>Athina</td>\n",
       "      <td>Basketball</td>\n",
       "      <td>Basketball Men's Basketball</td>\n",
       "      <td>Bronze</td>\n",
       "    </tr>\n",
       "  </tbody>\n",
       "</table>\n",
       "</div>"
      ],
      "text/plain": [
       "     ID                                  Name Sex   Age  Height  Weight  \\\n",
       "0   351            Julius Shareef Abdur-Rahim   M  23.0   202.0   104.0   \n",
       "1  2636           Stephen Todd \"Steve\" Alford   M  19.0   185.0    74.0   \n",
       "2  2863                      Walter Ray Allen   M  25.0   192.0    93.0   \n",
       "3  3874  William Lloyd \"Willie\" Anderson, Jr.   M  21.0   200.0    86.0   \n",
       "4  4505                  Carmelo Kyan Anthony   M  20.0   203.0   109.0   \n",
       "\n",
       "            Team  NOC        Games  Year  Season         City       Sport  \\\n",
       "0  United States  USA  2000 Summer  2000  Summer       Sydney  Basketball   \n",
       "1  United States  USA  1984 Summer  1984  Summer  Los Angeles  Basketball   \n",
       "2  United States  USA  2000 Summer  2000  Summer       Sydney  Basketball   \n",
       "3  United States  USA  1988 Summer  1988  Summer        Seoul  Basketball   \n",
       "4  United States  USA  2004 Summer  2004  Summer       Athina  Basketball   \n",
       "\n",
       "                         Event   Medal  \n",
       "0  Basketball Men's Basketball    Gold  \n",
       "1  Basketball Men's Basketball    Gold  \n",
       "2  Basketball Men's Basketball    Gold  \n",
       "3  Basketball Men's Basketball  Bronze  \n",
       "4  Basketball Men's Basketball  Bronze  "
      ]
     },
     "metadata": {},
     "output_type": "display_data"
    }
   ],
   "source": [
    "us_m_bask = pd.read_csv('data/us_mens_basketball.csv')\n",
    "\n",
    "display(us_m_bask.head())"
   ]
  },
  {
   "cell_type": "code",
   "execution_count": 80,
   "metadata": {},
   "outputs": [
    {
     "name": "stdout",
     "output_type": "stream",
     "text": [
      "Shape us_m_bask DF >> Rows:  222  | Columns:  15\n"
     ]
    }
   ],
   "source": [
    "print('Shape us_m_bask DF >> Rows: ',us_m_bask.shape[0],' | Columns: ',us_m_bask.shape[1])"
   ]
  },
  {
   "cell_type": "code",
   "execution_count": null,
   "metadata": {},
   "outputs": [],
   "source": []
  },
  {
   "cell_type": "code",
   "execution_count": null,
   "metadata": {},
   "outputs": [],
   "source": []
  },
  {
   "cell_type": "code",
   "execution_count": null,
   "metadata": {},
   "outputs": [],
   "source": []
  },
  {
   "cell_type": "code",
   "execution_count": null,
   "metadata": {},
   "outputs": [],
   "source": []
  },
  {
   "cell_type": "code",
   "execution_count": 65,
   "metadata": {},
   "outputs": [],
   "source": [
    "G = nx.from_pandas_edgelist(df=us_w_gym, source='Name_x', target='Name_y')"
   ]
  },
  {
   "cell_type": "markdown",
   "metadata": {},
   "source": [
    "Use this method to turn the data frame into a graph and then practice computing the graph statistics and centrality measures we covered in the previous section. Below are some questions to answer about this graph.\n",
    "\n",
    "    1. How many gymnasts (nodes) are in the graph?\n",
    "    2. How many edges are in the graph?\n",
    "    3. What is the average degree?\n",
    "    4. What is the density of the graph?\n",
    "    5. Is this graph fully-connected? How do you know?\n",
    "    6. What gymnast has the highest betweenness centrality?\n",
    "    7. What gymnast has the highest Eigenvector centrality?\n",
    "    8. What gymnast has the highest degree centrality?"
   ]
  },
  {
   "cell_type": "markdown",
   "metadata": {},
   "source": [
    "#### 1. How many gymnasts (nodes) are in the graph?"
   ]
  },
  {
   "cell_type": "code",
   "execution_count": 66,
   "metadata": {},
   "outputs": [
    {
     "name": "stdout",
     "output_type": "stream",
     "text": [
      "94\n"
     ]
    }
   ],
   "source": [
    "print(G.number_of_nodes())"
   ]
  },
  {
   "cell_type": "markdown",
   "metadata": {},
   "source": [
    "#### 2. How many edges are in the graph?"
   ]
  },
  {
   "cell_type": "code",
   "execution_count": 67,
   "metadata": {},
   "outputs": [
    {
     "name": "stdout",
     "output_type": "stream",
     "text": [
      "292\n"
     ]
    }
   ],
   "source": [
    "print(G.number_of_edges())"
   ]
  },
  {
   "cell_type": "markdown",
   "metadata": {},
   "source": [
    "#### 3. What is the average degree?"
   ]
  },
  {
   "cell_type": "code",
   "execution_count": 68,
   "metadata": {},
   "outputs": [
    {
     "name": "stdout",
     "output_type": "stream",
     "text": [
      "6.212765957446808\n"
     ]
    }
   ],
   "source": [
    "print(sum(dict(G.degree()).values())/G.order())"
   ]
  },
  {
   "cell_type": "markdown",
   "metadata": {},
   "source": [
    "#### 4. What is the density of the graph?"
   ]
  },
  {
   "cell_type": "code",
   "execution_count": 69,
   "metadata": {},
   "outputs": [
    {
     "name": "stdout",
     "output_type": "stream",
     "text": [
      "0.06680393502630977\n"
     ]
    }
   ],
   "source": [
    "print(nx.density(G))"
   ]
  },
  {
   "cell_type": "markdown",
   "metadata": {},
   "source": [
    "##### 5. Is this graph fully-connected? How do you know?"
   ]
  },
  {
   "cell_type": "code",
   "execution_count": 70,
   "metadata": {},
   "outputs": [
    {
     "name": "stdout",
     "output_type": "stream",
     "text": [
      "False\n"
     ]
    }
   ],
   "source": [
    "print(nx.is_connected(G))"
   ]
  },
  {
   "cell_type": "markdown",
   "metadata": {},
   "source": [
    "#### 6. What gymnast has the highest betweenness centrality?"
   ]
  },
  {
   "cell_type": "code",
   "execution_count": 75,
   "metadata": {},
   "outputs": [
    {
     "name": "stdout",
     "output_type": "stream",
     "text": [
      "Linda Joan Metheny (-Mulvihill)  >>  0.05002337540906966\n"
     ]
    }
   ],
   "source": [
    "# Compute the shortest-path betweenness centrality for nodes. \n",
    "# Betweenness centrality of a node v is the sum of the fraction of all-pairs \n",
    "# shortest paths that pass through v\n",
    "\n",
    "betweenness = nx.betweenness_centrality(G, weight='edge')\n",
    "betweenness_sorted = sorted(betweenness.items(), key=lambda x: x[1], reverse=True)\n",
    "print(betweenness_sorted[0][0],' >> ',betweenness_sorted[0][1])"
   ]
  },
  {
   "cell_type": "markdown",
   "metadata": {},
   "source": [
    "#### 7. What gymnast has the highest Eigenvector centrality?"
   ]
  },
  {
   "cell_type": "code",
   "execution_count": 74,
   "metadata": {},
   "outputs": [
    {
     "name": "stdout",
     "output_type": "stream",
     "text": [
      "Dorothy Katherine Dalton  >>  0.33062594030121717\n"
     ]
    }
   ],
   "source": [
    "# Eigenvector centrality computes the centrality for a node based on the centrality of its neighbors\n",
    "\n",
    "eigenvector = nx.eigenvector_centrality_numpy(G)\n",
    "eigenvector_sorted = sorted(eigenvector.items(), key=lambda x: x[1], reverse=True)\n",
    "print(eigenvector_sorted[0][0],' >> ',eigenvector_sorted[0][1])"
   ]
  },
  {
   "cell_type": "markdown",
   "metadata": {},
   "source": [
    "#### 8. What gymnast has the highest degree centrality?"
   ]
  },
  {
   "cell_type": "code",
   "execution_count": 76,
   "metadata": {},
   "outputs": [
    {
     "name": "stdout",
     "output_type": "stream",
     "text": [
      "Consetta Anne \"Connie\" Caruccio-Lenz  >>  0.15053763440860216\n"
     ]
    }
   ],
   "source": [
    "# The degree centrality for a node v is the fraction of nodes it is connected to.\n",
    "\n",
    "\n",
    "degree = nx.degree_centrality(G)\n",
    "degree_sorted = sorted(degree.items(), key=lambda x: x[1], reverse=True)\n",
    "print(degree_sorted[0][0],' >> ',degree_sorted[0][1])"
   ]
  },
  {
   "cell_type": "markdown",
   "metadata": {},
   "source": [
    "___"
   ]
  },
  {
   "cell_type": "code",
   "execution_count": null,
   "metadata": {},
   "outputs": [],
   "source": []
  },
  {
   "cell_type": "code",
   "execution_count": null,
   "metadata": {},
   "outputs": [],
   "source": []
  },
  {
   "cell_type": "code",
   "execution_count": null,
   "metadata": {},
   "outputs": [],
   "source": []
  },
  {
   "cell_type": "code",
   "execution_count": null,
   "metadata": {},
   "outputs": [],
   "source": []
  }
 ],
 "metadata": {
  "kernelspec": {
   "display_name": "Python 3",
   "language": "python",
   "name": "python3"
  },
  "language_info": {
   "codemirror_mode": {
    "name": "ipython",
    "version": 3
   },
   "file_extension": ".py",
   "mimetype": "text/x-python",
   "name": "python",
   "nbconvert_exporter": "python",
   "pygments_lexer": "ipython3",
   "version": "3.6.7"
  }
 },
 "nbformat": 4,
 "nbformat_minor": 2
}
