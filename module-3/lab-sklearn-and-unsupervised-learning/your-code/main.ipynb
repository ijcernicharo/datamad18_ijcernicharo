{
 "cells": [
  {
   "cell_type": "markdown",
   "metadata": {},
   "source": [
    "# Before your start:\n",
    "- Read the README.md file\n",
    "- Comment as much as you can and use the resources in the README.md file\n",
    "- Happy learning!\n"
   ]
  },
  {
   "cell_type": "code",
   "execution_count": 45,
   "metadata": {},
   "outputs": [],
   "source": [
    "#Import your libraries\n",
    "import numpy as np\n",
    "import pandas as pd\n",
    "import sklearn as sk\n",
    "import matplotlib.pyplot as plt\n",
    "from datetime import datetime"
   ]
  },
  {
   "cell_type": "markdown",
   "metadata": {},
   "source": [
    "# Challenge 1 -  Explore the Internal Dataset\n",
    "\n",
    "In this lab, we will start off by working with the wine dataset in scikit-learn. We will select the wine dataset and use a clustering algorithm to learn more about the functionalities of this library. \n",
    "\n",
    "We start off by loading the dataset using the `load_wine` function ([documentation](https://scikit-learn.org/stable/modules/generated/sklearn.datasets.load_wine.html)). In the cell below, we will import the function from scikit-learn."
   ]
  },
  {
   "cell_type": "code",
   "execution_count": 3,
   "metadata": {},
   "outputs": [],
   "source": [
    "from sklearn.datasets import load_wine"
   ]
  },
  {
   "cell_type": "markdown",
   "metadata": {},
   "source": [
    "In the cell below, use the `load_wine` function and assign the wine dataset to a variable called `wine`."
   ]
  },
  {
   "cell_type": "code",
   "execution_count": 4,
   "metadata": {},
   "outputs": [],
   "source": [
    "# Your code here:\n",
    "wine=load_wine()"
   ]
  },
  {
   "cell_type": "markdown",
   "metadata": {},
   "source": [
    "In the next step, list the keys of the variable `wine` to examine its contents. Note that the `load_wine` function does not return dataframes. It returns you a Python dictionary."
   ]
  },
  {
   "cell_type": "code",
   "execution_count": 5,
   "metadata": {},
   "outputs": [
    {
     "name": "stdout",
     "output_type": "stream",
     "text": [
      "dict_keys(['data', 'target', 'target_names', 'DESCR', 'feature_names'])\n"
     ]
    }
   ],
   "source": [
    "# Your code here:\n",
    "print(wine.keys())"
   ]
  },
  {
   "cell_type": "markdown",
   "metadata": {},
   "source": [
    "Next, list the feature names. These are the different characteristics of the wine. "
   ]
  },
  {
   "cell_type": "code",
   "execution_count": 6,
   "metadata": {},
   "outputs": [
    {
     "name": "stdout",
     "output_type": "stream",
     "text": [
      "['alcohol', 'malic_acid', 'ash', 'alcalinity_of_ash', 'magnesium', 'total_phenols', 'flavanoids', 'nonflavanoid_phenols', 'proanthocyanins', 'color_intensity', 'hue', 'od280/od315_of_diluted_wines', 'proline']\n"
     ]
    }
   ],
   "source": [
    "# Your code here:\n",
    "print(wine.feature_names)"
   ]
  },
  {
   "cell_type": "markdown",
   "metadata": {},
   "source": [
    "Print the description of the dataset in the cell below using the `DESCR` attribute of the `wine` variable.\n",
    "\n",
    "*Hint: If your output is ill-formatted by displaying linebreaks as `\\n`, it means you are not using the print function.*"
   ]
  },
  {
   "cell_type": "code",
   "execution_count": 7,
   "metadata": {},
   "outputs": [
    {
     "name": "stdout",
     "output_type": "stream",
     "text": [
      ".. _wine_dataset:\n",
      "\n",
      "Wine recognition dataset\n",
      "------------------------\n",
      "\n",
      "**Data Set Characteristics:**\n",
      "\n",
      "    :Number of Instances: 178 (50 in each of three classes)\n",
      "    :Number of Attributes: 13 numeric, predictive attributes and the class\n",
      "    :Attribute Information:\n",
      " \t\t- Alcohol\n",
      " \t\t- Malic acid\n",
      " \t\t- Ash\n",
      "\t\t- Alcalinity of ash  \n",
      " \t\t- Magnesium\n",
      "\t\t- Total phenols\n",
      " \t\t- Flavanoids\n",
      " \t\t- Nonflavanoid phenols\n",
      " \t\t- Proanthocyanins\n",
      "\t\t- Color intensity\n",
      " \t\t- Hue\n",
      " \t\t- OD280/OD315 of diluted wines\n",
      " \t\t- Proline\n",
      "\n",
      "    - class:\n",
      "            - class_0\n",
      "            - class_1\n",
      "            - class_2\n",
      "\t\t\n",
      "    :Summary Statistics:\n",
      "    \n",
      "    ============================= ==== ===== ======= =====\n",
      "                                   Min   Max   Mean     SD\n",
      "    ============================= ==== ===== ======= =====\n",
      "    Alcohol:                      11.0  14.8    13.0   0.8\n",
      "    Malic Acid:                   0.74  5.80    2.34  1.12\n",
      "    Ash:                          1.36  3.23    2.36  0.27\n",
      "    Alcalinity of Ash:            10.6  30.0    19.5   3.3\n",
      "    Magnesium:                    70.0 162.0    99.7  14.3\n",
      "    Total Phenols:                0.98  3.88    2.29  0.63\n",
      "    Flavanoids:                   0.34  5.08    2.03  1.00\n",
      "    Nonflavanoid Phenols:         0.13  0.66    0.36  0.12\n",
      "    Proanthocyanins:              0.41  3.58    1.59  0.57\n",
      "    Colour Intensity:              1.3  13.0     5.1   2.3\n",
      "    Hue:                          0.48  1.71    0.96  0.23\n",
      "    OD280/OD315 of diluted wines: 1.27  4.00    2.61  0.71\n",
      "    Proline:                       278  1680     746   315\n",
      "    ============================= ==== ===== ======= =====\n",
      "\n",
      "    :Missing Attribute Values: None\n",
      "    :Class Distribution: class_0 (59), class_1 (71), class_2 (48)\n",
      "    :Creator: R.A. Fisher\n",
      "    :Donor: Michael Marshall (MARSHALL%PLU@io.arc.nasa.gov)\n",
      "    :Date: July, 1988\n",
      "\n",
      "This is a copy of UCI ML Wine recognition datasets.\n",
      "https://archive.ics.uci.edu/ml/machine-learning-databases/wine/wine.data\n",
      "\n",
      "The data is the results of a chemical analysis of wines grown in the same\n",
      "region in Italy by three different cultivators. There are thirteen different\n",
      "measurements taken for different constituents found in the three types of\n",
      "wine.\n",
      "\n",
      "Original Owners: \n",
      "\n",
      "Forina, M. et al, PARVUS - \n",
      "An Extendible Package for Data Exploration, Classification and Correlation. \n",
      "Institute of Pharmaceutical and Food Analysis and Technologies,\n",
      "Via Brigata Salerno, 16147 Genoa, Italy.\n",
      "\n",
      "Citation:\n",
      "\n",
      "Lichman, M. (2013). UCI Machine Learning Repository\n",
      "[http://archive.ics.uci.edu/ml]. Irvine, CA: University of California,\n",
      "School of Information and Computer Science. \n",
      "\n",
      ".. topic:: References\n",
      "\n",
      "  (1) S. Aeberhard, D. Coomans and O. de Vel, \n",
      "  Comparison of Classifiers in High Dimensional Settings, \n",
      "  Tech. Rep. no. 92-02, (1992), Dept. of Computer Science and Dept. of  \n",
      "  Mathematics and Statistics, James Cook University of North Queensland. \n",
      "  (Also submitted to Technometrics). \n",
      "\n",
      "  The data was used with many others for comparing various \n",
      "  classifiers. The classes are separable, though only RDA \n",
      "  has achieved 100% correct classification. \n",
      "  (RDA : 100%, QDA 99.4%, LDA 98.9%, 1NN 96.1% (z-transformed data)) \n",
      "  (All results using the leave-one-out technique) \n",
      "\n",
      "  (2) S. Aeberhard, D. Coomans and O. de Vel, \n",
      "  \"THE CLASSIFICATION PERFORMANCE OF RDA\" \n",
      "  Tech. Rep. no. 92-01, (1992), Dept. of Computer Science and Dept. of \n",
      "  Mathematics and Statistics, James Cook University of North Queensland. \n",
      "  (Also submitted to Journal of Chemometrics).\n",
      "\n"
     ]
    }
   ],
   "source": [
    "# Your code here:\n",
    "print(wine.DESCR)"
   ]
  },
  {
   "cell_type": "markdown",
   "metadata": {},
   "source": [
    "#### From the description, we see that all columns are numeric. We also know that there is no missing data \n",
    "\n",
    "Let's plot the alcohol content histogram. Recall that we are working with a numpy array and will need to use a matplotlib function to produce a histogram. "
   ]
  },
  {
   "cell_type": "code",
   "execution_count": 16,
   "metadata": {},
   "outputs": [],
   "source": [
    "# imports\n",
    "alcohol=wine.data[:,0]"
   ]
  },
  {
   "cell_type": "code",
   "execution_count": 17,
   "metadata": {},
   "outputs": [
    {
     "data": {
      "image/png": "[encoded data removed]",
      "text/plain": [
       "<Figure size 720x360 with 1 Axes>"
      ]
     },
     "metadata": {
      "needs_background": "light"
     },
     "output_type": "display_data"
    }
   ],
   "source": [
    "# Your code here:\n",
    "plt.figure(figsize=(10,5))\n",
    "plt.hist(alcohol)\n",
    "plt.xlabel('alcohol')\n",
    "plt.ylabel('Frequency')\n",
    "plt.show()"
   ]
  },
  {
   "cell_type": "markdown",
   "metadata": {},
   "source": [
    "# Challenge 2 - Clustering the Internal Dataset\n",
    "\n",
    "In this portion of the lab, we will cluster the data to find common traits between the different wines. We will use the k-means clustering algorithm to achieve this goal.\n",
    "\n",
    "#### We start by importing k-means from scikit-learn and then proceed to create 4 clusters."
   ]
  },
  {
   "cell_type": "code",
   "execution_count": 18,
   "metadata": {},
   "outputs": [],
   "source": [
    "# imports\n",
    "from sklearn.cluster import KMeans"
   ]
  },
  {
   "cell_type": "code",
   "execution_count": 23,
   "metadata": {},
   "outputs": [],
   "source": [
    "# Your code here:\n",
    "kmeans=KMeans(n_clusters=4).fit(wine.data)"
   ]
  },
  {
   "cell_type": "markdown",
   "metadata": {},
   "source": [
    "#### Print the cluster labels."
   ]
  },
  {
   "cell_type": "code",
   "execution_count": 25,
   "metadata": {},
   "outputs": [
    {
     "name": "stdout",
     "output_type": "stream",
     "text": [
      "[1 1 3 3 2 3 3 3 1 1 3 3 3 1 3 3 3 1 3 1 2 2 1 1 1 1 3 3 1 1 3 3 1 3 1 1 1\n",
      " 1 1 2 2 1 1 2 1 1 1 1 1 3 1 3 3 3 1 1 1 3 3 0 2 0 2 0 0 2 0 0 2 2 1 0 0 1\n",
      " 1 0 0 0 2 0 0 2 2 0 0 0 0 2 2 2 0 0 0 0 0 1 2 0 2 0 2 2 0 0 2 0 0 0 0 2 2\n",
      " 0 2 0 0 0 0 0 0 2 2 0 0 0 0 0 0 0 0 2 2 0 2 2 2 2 2 0 2 2 2 2 0 2 1 1 0 2\n",
      " 2 2 0 0 0 2 2 2 0 1 2 2 0 2 2 2 2 0 2 2 2 2 0 0 2 2 2 1 1 2]\n"
     ]
    }
   ],
   "source": [
    "# Your code here:\n",
    "print(kmeans.labels_)"
   ]
  },
  {
   "cell_type": "markdown",
   "metadata": {},
   "source": [
    "#### Compute the size of each cluster. This can be done by counting the number of occurrences of each unique label in the list above.\n",
    "\n",
    "Which is the largest cluster of the 4?"
   ]
  },
  {
   "cell_type": "code",
   "execution_count": 27,
   "metadata": {},
   "outputs": [
    {
     "name": "stdout",
     "output_type": "stream",
     "text": [
      "Cluster:  0  | Concurrency:  57\n",
      "Cluster:  1  | Concurrency:  39\n",
      "Cluster:  2  | Concurrency:  59\n",
      "Cluster:  3  | Concurrency:  23\n"
     ]
    }
   ],
   "source": [
    "# Your code here:\n",
    "n,c=np.unique(kmeans.labels_,return_counts=True)\n",
    "\n",
    "for i in range(len(n)):\n",
    "    print('Cluster: ',n[i],' | Concurrency: ',c[i])"
   ]
  },
  {
   "cell_type": "code",
   "execution_count": 28,
   "metadata": {},
   "outputs": [],
   "source": [
    "# Your answer here:\n",
    "# Cluster 2 is the largest one with 59"
   ]
  },
  {
   "cell_type": "markdown",
   "metadata": {},
   "source": [
    "#### Inspect the shape of `wine['data']`"
   ]
  },
  {
   "cell_type": "code",
   "execution_count": 31,
   "metadata": {},
   "outputs": [
    {
     "name": "stdout",
     "output_type": "stream",
     "text": [
      "Shape of wine data:  (178, 13)\n"
     ]
    }
   ],
   "source": [
    "# Your code here:\n",
    "print('Shape of wine data: ',np.shape(wine.data))"
   ]
  },
  {
   "cell_type": "markdown",
   "metadata": {},
   "source": [
    "#### Inspect the first 5 records in `wine['data']`"
   ]
  },
  {
   "cell_type": "code",
   "execution_count": 33,
   "metadata": {},
   "outputs": [
    {
     "data": {
      "text/html": [
       "<div>\n",
       "<style scoped>\n",
       "    .dataframe tbody tr th:only-of-type {\n",
       "        vertical-align: middle;\n",
       "    }\n",
       "\n",
       "    .dataframe tbody tr th {\n",
       "        vertical-align: top;\n",
       "    }\n",
       "\n",
       "    .dataframe thead tr th {\n",
       "        text-align: left;\n",
       "    }\n",
       "</style>\n",
       "<table border=\"1\" class=\"dataframe\">\n",
       "  <thead>\n",
       "    <tr>\n",
       "      <th></th>\n",
       "      <th>alcohol</th>\n",
       "      <th>malic_acid</th>\n",
       "      <th>ash</th>\n",
       "      <th>alcalinity_of_ash</th>\n",
       "      <th>magnesium</th>\n",
       "      <th>total_phenols</th>\n",
       "      <th>flavanoids</th>\n",
       "      <th>nonflavanoid_phenols</th>\n",
       "      <th>proanthocyanins</th>\n",
       "      <th>color_intensity</th>\n",
       "      <th>hue</th>\n",
       "      <th>od280/od315_of_diluted_wines</th>\n",
       "      <th>proline</th>\n",
       "    </tr>\n",
       "  </thead>\n",
       "  <tbody>\n",
       "    <tr>\n",
       "      <th>0</th>\n",
       "      <td>14.23</td>\n",
       "      <td>1.71</td>\n",
       "      <td>2.43</td>\n",
       "      <td>15.6</td>\n",
       "      <td>127.0</td>\n",
       "      <td>2.80</td>\n",
       "      <td>3.06</td>\n",
       "      <td>0.28</td>\n",
       "      <td>2.29</td>\n",
       "      <td>5.64</td>\n",
       "      <td>1.04</td>\n",
       "      <td>3.92</td>\n",
       "      <td>1065.0</td>\n",
       "    </tr>\n",
       "    <tr>\n",
       "      <th>1</th>\n",
       "      <td>13.20</td>\n",
       "      <td>1.78</td>\n",
       "      <td>2.14</td>\n",
       "      <td>11.2</td>\n",
       "      <td>100.0</td>\n",
       "      <td>2.65</td>\n",
       "      <td>2.76</td>\n",
       "      <td>0.26</td>\n",
       "      <td>1.28</td>\n",
       "      <td>4.38</td>\n",
       "      <td>1.05</td>\n",
       "      <td>3.40</td>\n",
       "      <td>1050.0</td>\n",
       "    </tr>\n",
       "    <tr>\n",
       "      <th>2</th>\n",
       "      <td>13.16</td>\n",
       "      <td>2.36</td>\n",
       "      <td>2.67</td>\n",
       "      <td>18.6</td>\n",
       "      <td>101.0</td>\n",
       "      <td>2.80</td>\n",
       "      <td>3.24</td>\n",
       "      <td>0.30</td>\n",
       "      <td>2.81</td>\n",
       "      <td>5.68</td>\n",
       "      <td>1.03</td>\n",
       "      <td>3.17</td>\n",
       "      <td>1185.0</td>\n",
       "    </tr>\n",
       "    <tr>\n",
       "      <th>3</th>\n",
       "      <td>14.37</td>\n",
       "      <td>1.95</td>\n",
       "      <td>2.50</td>\n",
       "      <td>16.8</td>\n",
       "      <td>113.0</td>\n",
       "      <td>3.85</td>\n",
       "      <td>3.49</td>\n",
       "      <td>0.24</td>\n",
       "      <td>2.18</td>\n",
       "      <td>7.80</td>\n",
       "      <td>0.86</td>\n",
       "      <td>3.45</td>\n",
       "      <td>1480.0</td>\n",
       "    </tr>\n",
       "    <tr>\n",
       "      <th>4</th>\n",
       "      <td>13.24</td>\n",
       "      <td>2.59</td>\n",
       "      <td>2.87</td>\n",
       "      <td>21.0</td>\n",
       "      <td>118.0</td>\n",
       "      <td>2.80</td>\n",
       "      <td>2.69</td>\n",
       "      <td>0.39</td>\n",
       "      <td>1.82</td>\n",
       "      <td>4.32</td>\n",
       "      <td>1.04</td>\n",
       "      <td>2.93</td>\n",
       "      <td>735.0</td>\n",
       "    </tr>\n",
       "  </tbody>\n",
       "</table>\n",
       "</div>"
      ],
      "text/plain": [
       "  alcohol malic_acid   ash alcalinity_of_ash magnesium total_phenols  \\\n",
       "0   14.23       1.71  2.43              15.6     127.0          2.80   \n",
       "1   13.20       1.78  2.14              11.2     100.0          2.65   \n",
       "2   13.16       2.36  2.67              18.6     101.0          2.80   \n",
       "3   14.37       1.95  2.50              16.8     113.0          3.85   \n",
       "4   13.24       2.59  2.87              21.0     118.0          2.80   \n",
       "\n",
       "  flavanoids nonflavanoid_phenols proanthocyanins color_intensity   hue  \\\n",
       "0       3.06                 0.28            2.29            5.64  1.04   \n",
       "1       2.76                 0.26            1.28            4.38  1.05   \n",
       "2       3.24                 0.30            2.81            5.68  1.03   \n",
       "3       3.49                 0.24            2.18            7.80  0.86   \n",
       "4       2.69                 0.39            1.82            4.32  1.04   \n",
       "\n",
       "  od280/od315_of_diluted_wines proline  \n",
       "0                         3.92  1065.0  \n",
       "1                         3.40  1050.0  \n",
       "2                         3.17  1185.0  \n",
       "3                         3.45  1480.0  \n",
       "4                         2.93   735.0  "
      ]
     },
     "metadata": {},
     "output_type": "display_data"
    }
   ],
   "source": [
    "# Your code here:\n",
    "display(pd.DataFrame(wine.data[:5,:],columns=[wine.feature_names]))"
   ]
  },
  {
   "cell_type": "markdown",
   "metadata": {},
   "source": [
    "You now know the data object is a 2-dimensional array in which there are 178 rows and 13 columns. Each row is a data record and each column is a feature.\n",
    "\n",
    "#### What is the average ash content for each cluster? \n",
    "\n",
    "*Hints:* \n",
    "\n",
    "* *Ash* is the 3rd column.\n",
    "\n",
    "* The data object is not a Pandas dataframe so you can't apply `pandas.DataFrame.groupby`. Instead, you can use `np.average`."
   ]
  },
  {
   "cell_type": "code",
   "execution_count": 37,
   "metadata": {},
   "outputs": [
    {
     "data": {
      "text/html": [
       "<div>\n",
       "<style scoped>\n",
       "    .dataframe tbody tr th:only-of-type {\n",
       "        vertical-align: middle;\n",
       "    }\n",
       "\n",
       "    .dataframe tbody tr th {\n",
       "        vertical-align: top;\n",
       "    }\n",
       "\n",
       "    .dataframe thead th {\n",
       "        text-align: right;\n",
       "    }\n",
       "</style>\n",
       "<table border=\"1\" class=\"dataframe\">\n",
       "  <thead>\n",
       "    <tr style=\"text-align: right;\">\n",
       "      <th></th>\n",
       "      <th>ash</th>\n",
       "    </tr>\n",
       "    <tr>\n",
       "      <th>target</th>\n",
       "      <th></th>\n",
       "    </tr>\n",
       "  </thead>\n",
       "  <tbody>\n",
       "    <tr>\n",
       "      <th>0.0</th>\n",
       "      <td>2.280000</td>\n",
       "    </tr>\n",
       "    <tr>\n",
       "      <th>1.0</th>\n",
       "      <td>2.390769</td>\n",
       "    </tr>\n",
       "    <tr>\n",
       "      <th>2.0</th>\n",
       "      <td>2.379322</td>\n",
       "    </tr>\n",
       "    <tr>\n",
       "      <th>3.0</th>\n",
       "      <td>2.506957</td>\n",
       "    </tr>\n",
       "  </tbody>\n",
       "</table>\n",
       "</div>"
      ],
      "text/plain": [
       "             ash\n",
       "target          \n",
       "0.0     2.280000\n",
       "1.0     2.390769\n",
       "2.0     2.379322\n",
       "3.0     2.506957"
      ]
     },
     "execution_count": 37,
     "metadata": {},
     "output_type": "execute_result"
    }
   ],
   "source": [
    "# Your code here:\n",
    "temporal_df=pd.DataFrame(np.c_[wine.data[:,2],kmeans.labels_],columns=['ash','target'])\n",
    "temporal_df.groupby('target').agg({'ash':'mean'})"
   ]
  },
  {
   "cell_type": "markdown",
   "metadata": {},
   "source": [
    "# Challenge 3 - Load and Explore an External Dataset\n",
    "\n",
    "We will now load an external dataset using Pandas and use scikit learn to explore the data. In this portion of the lab, we will use a [patient dataset from Kaggle](https://www.kaggle.com/miles99/patient-admission-dataset-for-learning-data-mining). "
   ]
  },
  {
   "cell_type": "code",
   "execution_count": 54,
   "metadata": {},
   "outputs": [],
   "source": [
    "patients = pd.read_csv('../patient-admission-dataset-for-learning-data-mining.csv')"
   ]
  },
  {
   "cell_type": "markdown",
   "metadata": {},
   "source": [
    "In the next cell, print the first five rows of the data using the `head()` function."
   ]
  },
  {
   "cell_type": "code",
   "execution_count": 55,
   "metadata": {},
   "outputs": [
    {
     "data": {
      "text/html": [
       "<div>\n",
       "<style scoped>\n",
       "    .dataframe tbody tr th:only-of-type {\n",
       "        vertical-align: middle;\n",
       "    }\n",
       "\n",
       "    .dataframe tbody tr th {\n",
       "        vertical-align: top;\n",
       "    }\n",
       "\n",
       "    .dataframe thead th {\n",
       "        text-align: right;\n",
       "    }\n",
       "</style>\n",
       "<table border=\"1\" class=\"dataframe\">\n",
       "  <thead>\n",
       "    <tr style=\"text-align: right;\">\n",
       "      <th></th>\n",
       "      <th>id</th>\n",
       "      <th>patient_name</th>\n",
       "      <th>patient_email</th>\n",
       "      <th>doctor_phone</th>\n",
       "      <th>patient_gender</th>\n",
       "      <th>patient_dob</th>\n",
       "      <th>patient_diabetic</th>\n",
       "      <th>patient_allergic</th>\n",
       "      <th>patient_weight_kg</th>\n",
       "      <th>patient_height_sm</th>\n",
       "      <th>patient_nhs_number</th>\n",
       "      <th>doctor_name</th>\n",
       "      <th>appointment_date</th>\n",
       "      <th>patient_show</th>\n",
       "      <th>is_regular_visit</th>\n",
       "      <th>prescribed_medicines</th>\n",
       "      <th>diagnosis</th>\n",
       "    </tr>\n",
       "  </thead>\n",
       "  <tbody>\n",
       "    <tr>\n",
       "      <th>0</th>\n",
       "      <td>1</td>\n",
       "      <td>Celestyna Dillimore</td>\n",
       "      <td>cdillimore0@dion.ne.jp</td>\n",
       "      <td>674-914-1212</td>\n",
       "      <td>Female</td>\n",
       "      <td>10/18/2018</td>\n",
       "      <td>False</td>\n",
       "      <td>True</td>\n",
       "      <td>59</td>\n",
       "      <td>176</td>\n",
       "      <td>8.200152e+09</td>\n",
       "      <td>Sarena Waliszek</td>\n",
       "      <td>5/1/2018</td>\n",
       "      <td>True</td>\n",
       "      <td>True</td>\n",
       "      <td>triamcinolone acetonide</td>\n",
       "      <td>I669</td>\n",
       "    </tr>\n",
       "    <tr>\n",
       "      <th>1</th>\n",
       "      <td>2</td>\n",
       "      <td>Meta Michieli</td>\n",
       "      <td>mmichieli1@loc.gov</td>\n",
       "      <td>172-580-3586</td>\n",
       "      <td>Female</td>\n",
       "      <td>2/8/2018</td>\n",
       "      <td>False</td>\n",
       "      <td>True</td>\n",
       "      <td>77</td>\n",
       "      <td>186</td>\n",
       "      <td>NaN</td>\n",
       "      <td>Farris Robinet</td>\n",
       "      <td>12/7/2017</td>\n",
       "      <td>True</td>\n",
       "      <td>True</td>\n",
       "      <td>NaN</td>\n",
       "      <td>NaN</td>\n",
       "    </tr>\n",
       "    <tr>\n",
       "      <th>2</th>\n",
       "      <td>3</td>\n",
       "      <td>Cordie Sancto</td>\n",
       "      <td>csancto2@cafepress.com</td>\n",
       "      <td>794-222-5085</td>\n",
       "      <td>Female</td>\n",
       "      <td>10/9/2018</td>\n",
       "      <td>True</td>\n",
       "      <td>True</td>\n",
       "      <td>90</td>\n",
       "      <td>177</td>\n",
       "      <td>6.145594e+09</td>\n",
       "      <td>Kaspar Spitaro</td>\n",
       "      <td>10/5/2018</td>\n",
       "      <td>False</td>\n",
       "      <td>False</td>\n",
       "      <td>NaN</td>\n",
       "      <td>NaN</td>\n",
       "    </tr>\n",
       "    <tr>\n",
       "      <th>3</th>\n",
       "      <td>4</td>\n",
       "      <td>Josh De Ambrosis</td>\n",
       "      <td>jde3@amazon.co.jp</td>\n",
       "      <td>856-540-5195</td>\n",
       "      <td>Male</td>\n",
       "      <td>9/10/2018</td>\n",
       "      <td>True</td>\n",
       "      <td>True</td>\n",
       "      <td>70</td>\n",
       "      <td>150</td>\n",
       "      <td>NaN</td>\n",
       "      <td>Rafferty Fowls</td>\n",
       "      <td>10/21/2018</td>\n",
       "      <td>False</td>\n",
       "      <td>True</td>\n",
       "      <td>NaN</td>\n",
       "      <td>NaN</td>\n",
       "    </tr>\n",
       "    <tr>\n",
       "      <th>4</th>\n",
       "      <td>5</td>\n",
       "      <td>Delinda Alfonsini</td>\n",
       "      <td>dalfonsini4@opensource.org</td>\n",
       "      <td>938-978-1131</td>\n",
       "      <td>Female</td>\n",
       "      <td>2/26/2018</td>\n",
       "      <td>False</td>\n",
       "      <td>True</td>\n",
       "      <td>82</td>\n",
       "      <td>140</td>\n",
       "      <td>4.804758e+08</td>\n",
       "      <td>Glenna MacNeachtain</td>\n",
       "      <td>11/15/2018</td>\n",
       "      <td>False</td>\n",
       "      <td>False</td>\n",
       "      <td>NaN</td>\n",
       "      <td>NaN</td>\n",
       "    </tr>\n",
       "  </tbody>\n",
       "</table>\n",
       "</div>"
      ],
      "text/plain": [
       "   id         patient_name               patient_email  doctor_phone  \\\n",
       "0   1  Celestyna Dillimore      cdillimore0@dion.ne.jp  674-914-1212   \n",
       "1   2        Meta Michieli          mmichieli1@loc.gov  172-580-3586   \n",
       "2   3        Cordie Sancto      csancto2@cafepress.com  794-222-5085   \n",
       "3   4     Josh De Ambrosis           jde3@amazon.co.jp  856-540-5195   \n",
       "4   5    Delinda Alfonsini  dalfonsini4@opensource.org  938-978-1131   \n",
       "\n",
       "  patient_gender patient_dob  patient_diabetic  patient_allergic  \\\n",
       "0         Female  10/18/2018             False              True   \n",
       "1         Female    2/8/2018             False              True   \n",
       "2         Female   10/9/2018              True              True   \n",
       "3           Male   9/10/2018              True              True   \n",
       "4         Female   2/26/2018             False              True   \n",
       "\n",
       "   patient_weight_kg  patient_height_sm  patient_nhs_number  \\\n",
       "0                 59                176        8.200152e+09   \n",
       "1                 77                186                 NaN   \n",
       "2                 90                177        6.145594e+09   \n",
       "3                 70                150                 NaN   \n",
       "4                 82                140        4.804758e+08   \n",
       "\n",
       "           doctor_name appointment_date  patient_show  is_regular_visit  \\\n",
       "0      Sarena Waliszek         5/1/2018          True              True   \n",
       "1       Farris Robinet        12/7/2017          True              True   \n",
       "2       Kaspar Spitaro        10/5/2018         False             False   \n",
       "3       Rafferty Fowls       10/21/2018         False              True   \n",
       "4  Glenna MacNeachtain       11/15/2018         False             False   \n",
       "\n",
       "      prescribed_medicines diagnosis  \n",
       "0  triamcinolone acetonide      I669  \n",
       "1                      NaN       NaN  \n",
       "2                      NaN       NaN  \n",
       "3                      NaN       NaN  \n",
       "4                      NaN       NaN  "
      ]
     },
     "metadata": {},
     "output_type": "display_data"
    }
   ],
   "source": [
    "# Your code here:\n",
    "display(patients.head())"
   ]
  },
  {
   "cell_type": "markdown",
   "metadata": {},
   "source": [
    "Next, print the column types and check which columns have been misclassified by pandas."
   ]
  },
  {
   "cell_type": "code",
   "execution_count": 71,
   "metadata": {},
   "outputs": [
    {
     "data": {
      "text/plain": [
       "id                              object\n",
       "patient_name                    object\n",
       "patient_email                   object\n",
       "doctor_phone                    object\n",
       "patient_gender                  object\n",
       "patient_dob                      int64\n",
       "patient_diabetic                object\n",
       "patient_allergic                object\n",
       "patient_weight_kg               object\n",
       "patient_height_sm               object\n",
       "patient_nhs_number      datetime64[ns]\n",
       "doctor_name                     object\n",
       "appointment_date                 int64\n",
       "patient_show                    object\n",
       "is_regular_visit                object\n",
       "prescribed_medicines            object\n",
       "diagnosis                       object\n",
       "dtype: object"
      ]
     },
     "metadata": {},
     "output_type": "display_data"
    }
   ],
   "source": [
    "# Your code here:\n",
    "display(patients.dtypes)"
   ]
  },
  {
   "cell_type": "markdown",
   "metadata": {},
   "source": [
    "#### We can see that none of the date columns have been correctly classified. Also, some columns contain qualitative data that can be dropped.\n",
    "\n",
    "First, transform the `patient_dob` and `appointment_date` columns to datetime using the `pd.to_datetime` function."
   ]
  },
  {
   "cell_type": "code",
   "execution_count": 68,
   "metadata": {},
   "outputs": [],
   "source": [
    "# Your code here:\n",
    "patients['patient_dob']=pd.to_datetime(patients['patient_dob'])\n",
    "patients.dropna(subset=['patient_dob'],inplace=True,axis=0)\n",
    "patients['patient_dob']=patients['patient_dob'].apply(lambda x: x.toordinal())\n",
    "\n",
    "patients['appointment_date']=pd.to_datetime(patients['appointment_date'])\n",
    "patients.dropna(subset=['appointment_date'],inplace=True,axis=0)\n",
    "patients['appointment_date']=patients['appointment_date'].apply(lambda x: x.toordinal())"
   ]
  },
  {
   "cell_type": "markdown",
   "metadata": {},
   "source": [
    "Next, drop the `id`, `patient_name`, `patient_email`, `patient_nhs_number`, and `doctor_phone` columns. These are not quantitative columns and will not contribute to our analysis."
   ]
  },
  {
   "cell_type": "code",
   "execution_count": 73,
   "metadata": {},
   "outputs": [],
   "source": [
    "# Your code here:\n",
    "patients.drop(labels=['id','patient_name','patient_email','patient_nhs_number','doctor_phone'],axis=1,inplace=True)"
   ]
  },
  {
   "cell_type": "markdown",
   "metadata": {},
   "source": [
    "Now we work on the missing data. Most ML algorithms will not perform as intended if there are missing data.\n",
    "\n",
    "In the cell below, count how many rows contain missing data in each column. You should see three columns contain missing data:\n",
    "\n",
    "* `doctor_name`: 58 missing data\n",
    "* `prescribed_medicines`: 488 missing data\n",
    "* `diagnosis`: 488 missing data"
   ]
  },
  {
   "cell_type": "code",
   "execution_count": 75,
   "metadata": {},
   "outputs": [
    {
     "data": {
      "text/plain": [
       "patient_gender            0\n",
       "patient_dob               0\n",
       "patient_diabetic          0\n",
       "patient_allergic          0\n",
       "patient_weight_kg         0\n",
       "patient_height_sm         0\n",
       "doctor_name              58\n",
       "appointment_date          0\n",
       "patient_show              0\n",
       "is_regular_visit          0\n",
       "prescribed_medicines    488\n",
       "diagnosis               488\n",
       "dtype: int64"
      ]
     },
     "metadata": {},
     "output_type": "display_data"
    }
   ],
   "source": [
    "# Your code here:\n",
    "display(patients.isna().sum())"
   ]
  },
  {
   "cell_type": "markdown",
   "metadata": {},
   "source": [
    "The main issues are found in the `prescribed_medicines` and `diagnosis` columns. Can we simply drop these rows?\n",
    "\n",
    "The answer is not yet. Because when there are missing data in these columns, it doesn't mean the data records are broken. Instead, it means no medication was prescribed and no diagnosis was recorded. Therefore, once we fill in the missing data these columns will be fine. But we'll revisit these columns and decide whether we will eventually drop them when we look at how many unique values are there in these categorical columns.  \n",
    "\n",
    "For the `prescribed_medicines` column, fill the missing values with the value `no prescription`. For the `diagnosis` column, fill the missing values with `no diagnosis`.\n",
    "\n",
    "*Hint: Use [`pandas.DataFrame.fillna`](https://pandas.pydata.org/pandas-docs/stable/generated/pandas.DataFrame.fillna.html).*"
   ]
  },
  {
   "cell_type": "code",
   "execution_count": 78,
   "metadata": {},
   "outputs": [],
   "source": [
    "# Your code here:\n",
    "patients['prescribed_medicines']=patients['prescribed_medicines'].fillna('no prescription')\n",
    "patients['diagnosis']=patients['diagnosis'].fillna('no diagnosis')"
   ]
  },
  {
   "cell_type": "markdown",
   "metadata": {},
   "source": [
    "How about `doctor_name`? Since a doctor visit without a doctor name might not be meaningful, we will drop these rows."
   ]
  },
  {
   "cell_type": "code",
   "execution_count": 82,
   "metadata": {},
   "outputs": [],
   "source": [
    "# Your code here:\n",
    "patients.dropna(subset=['doctor_name'],inplace=True)"
   ]
  },
  {
   "cell_type": "code",
   "execution_count": 83,
   "metadata": {},
   "outputs": [
    {
     "data": {
      "text/html": [
       "<div>\n",
       "<style scoped>\n",
       "    .dataframe tbody tr th:only-of-type {\n",
       "        vertical-align: middle;\n",
       "    }\n",
       "\n",
       "    .dataframe tbody tr th {\n",
       "        vertical-align: top;\n",
       "    }\n",
       "\n",
       "    .dataframe thead th {\n",
       "        text-align: right;\n",
       "    }\n",
       "</style>\n",
       "<table border=\"1\" class=\"dataframe\">\n",
       "  <thead>\n",
       "    <tr style=\"text-align: right;\">\n",
       "      <th></th>\n",
       "      <th>patient_gender</th>\n",
       "      <th>patient_dob</th>\n",
       "      <th>patient_diabetic</th>\n",
       "      <th>patient_allergic</th>\n",
       "      <th>patient_weight_kg</th>\n",
       "      <th>patient_height_sm</th>\n",
       "      <th>doctor_name</th>\n",
       "      <th>appointment_date</th>\n",
       "      <th>patient_show</th>\n",
       "      <th>is_regular_visit</th>\n",
       "      <th>prescribed_medicines</th>\n",
       "      <th>diagnosis</th>\n",
       "    </tr>\n",
       "  </thead>\n",
       "  <tbody>\n",
       "    <tr>\n",
       "      <th>0</th>\n",
       "      <td>Female</td>\n",
       "      <td>719163</td>\n",
       "      <td>False</td>\n",
       "      <td>True</td>\n",
       "      <td>59</td>\n",
       "      <td>176</td>\n",
       "      <td>Sarena Waliszek</td>\n",
       "      <td>736815</td>\n",
       "      <td>True</td>\n",
       "      <td>True</td>\n",
       "      <td>triamcinolone acetonide</td>\n",
       "      <td>I669</td>\n",
       "    </tr>\n",
       "    <tr>\n",
       "      <th>1</th>\n",
       "      <td>Female</td>\n",
       "      <td>719163</td>\n",
       "      <td>False</td>\n",
       "      <td>True</td>\n",
       "      <td>77</td>\n",
       "      <td>186</td>\n",
       "      <td>Farris Robinet</td>\n",
       "      <td>736670</td>\n",
       "      <td>True</td>\n",
       "      <td>True</td>\n",
       "      <td>no prescription</td>\n",
       "      <td>no diagnosis</td>\n",
       "    </tr>\n",
       "    <tr>\n",
       "      <th>2</th>\n",
       "      <td>Female</td>\n",
       "      <td>719163</td>\n",
       "      <td>True</td>\n",
       "      <td>True</td>\n",
       "      <td>90</td>\n",
       "      <td>177</td>\n",
       "      <td>Kaspar Spitaro</td>\n",
       "      <td>736972</td>\n",
       "      <td>False</td>\n",
       "      <td>False</td>\n",
       "      <td>no prescription</td>\n",
       "      <td>no diagnosis</td>\n",
       "    </tr>\n",
       "    <tr>\n",
       "      <th>3</th>\n",
       "      <td>Male</td>\n",
       "      <td>719163</td>\n",
       "      <td>True</td>\n",
       "      <td>True</td>\n",
       "      <td>70</td>\n",
       "      <td>150</td>\n",
       "      <td>Rafferty Fowls</td>\n",
       "      <td>736988</td>\n",
       "      <td>False</td>\n",
       "      <td>True</td>\n",
       "      <td>no prescription</td>\n",
       "      <td>no diagnosis</td>\n",
       "    </tr>\n",
       "    <tr>\n",
       "      <th>4</th>\n",
       "      <td>Female</td>\n",
       "      <td>719163</td>\n",
       "      <td>False</td>\n",
       "      <td>True</td>\n",
       "      <td>82</td>\n",
       "      <td>140</td>\n",
       "      <td>Glenna MacNeachtain</td>\n",
       "      <td>737013</td>\n",
       "      <td>False</td>\n",
       "      <td>False</td>\n",
       "      <td>no prescription</td>\n",
       "      <td>no diagnosis</td>\n",
       "    </tr>\n",
       "  </tbody>\n",
       "</table>\n",
       "</div>"
      ],
      "text/plain": [
       "  patient_gender  patient_dob patient_diabetic patient_allergic  \\\n",
       "0         Female       719163            False             True   \n",
       "1         Female       719163            False             True   \n",
       "2         Female       719163             True             True   \n",
       "3           Male       719163             True             True   \n",
       "4         Female       719163            False             True   \n",
       "\n",
       "  patient_weight_kg patient_height_sm          doctor_name  appointment_date  \\\n",
       "0                59               176      Sarena Waliszek            736815   \n",
       "1                77               186       Farris Robinet            736670   \n",
       "2                90               177       Kaspar Spitaro            736972   \n",
       "3                70               150       Rafferty Fowls            736988   \n",
       "4                82               140  Glenna MacNeachtain            737013   \n",
       "\n",
       "  patient_show is_regular_visit     prescribed_medicines     diagnosis  \n",
       "0         True             True  triamcinolone acetonide          I669  \n",
       "1         True             True          no prescription  no diagnosis  \n",
       "2        False            False          no prescription  no diagnosis  \n",
       "3        False             True          no prescription  no diagnosis  \n",
       "4        False            False          no prescription  no diagnosis  "
      ]
     },
     "metadata": {},
     "output_type": "display_data"
    }
   ],
   "source": [
    "display(patients.head())"
   ]
  },
  {
   "cell_type": "markdown",
   "metadata": {},
   "source": [
    "#### Another step in preprocessing that can be performed by scikit-learn is label encoding. \n",
    "\n",
    "We have 4 columns that are of `bool` type. We would like to convert them to an integer column containing either zero or one. We can do this using [scikit-learn's label encoder](https://scikit-learn.org/stable/modules/generated/sklearn.preprocessing.LabelEncoder.html).\n",
    "\n",
    "In the cell below, import the label encoder and encode the 4 boolean columns (*patient_diabetic*, *patient_allergic*, *patient_show*, *is_regular_visit*) with `0` and `1`. "
   ]
  },
  {
   "cell_type": "code",
   "execution_count": null,
   "metadata": {},
   "outputs": [],
   "source": [
    "# Your code here:\n"
   ]
  },
  {
   "cell_type": "markdown",
   "metadata": {},
   "source": [
    "Print the data dtypes to confirm those four `bool` columns are converted to `int64`."
   ]
  },
  {
   "cell_type": "code",
   "execution_count": null,
   "metadata": {},
   "outputs": [],
   "source": [
    "# Your code here:\n"
   ]
  },
  {
   "cell_type": "markdown",
   "metadata": {},
   "source": [
    "#### The last step is to handle the `object` data.\n",
    "\n",
    "There are 4 `object` columns now: `patient_gender`, `doctor_name`, `prescribed_medicines`, and `diagnosis`. The gender columns\n",
    "\n",
    "In the next cell, check the unique values of each of the `object` columns using `value_counts()`."
   ]
  },
  {
   "cell_type": "code",
   "execution_count": null,
   "metadata": {
    "scrolled": false
   },
   "outputs": [],
   "source": [
    "# Your code here:\n"
   ]
  },
  {
   "cell_type": "markdown",
   "metadata": {},
   "source": [
    "#### The number of unique values is large for all three columns except `patient_gender`. We will handle these columns differently.\n",
    "\n",
    "For `diagnosis`, there are too many unique values which will make ML difficult. However, we can re-encode the values to either with or without diagnosis. Remember at an earlier step we filled in the missing values of this column with *no diagnosis*? We can re-encode *no diagnosis* to `0` and all other values to `1`. In this way we can tremendously simply this column.\n",
    "\n",
    "For `prescribed_medicines`, we can drop this column because it is perfectly correlated with `diagnosis`. Whenever there is no diagnosis, there is no prescribed medicine. So we don't need to keep this duplicated data.\n",
    "\n",
    "How about `doctor_name`? There are not excessive unique values but still quite many (19). We may either drop or keep it but keeping it will make the analysis more complicated. So due to the length of this lab let's drop it.\n",
    "\n",
    "How about `gender`? This one is easy. Just like re-encoding the boolean values, we can re-encode gender to `0` and `1` because there are only 2 unique values.\n",
    "\n",
    "In the next cells, do the following:\n",
    "\n",
    "1. Create a new column called `diagnosis_int` that has `0` and `1` based on the values in `diagnosis`.\n",
    "\n",
    "1. Create a new column called `patient_gender_int` that has `0` and `1` based on the values in `patient_gender`.\n",
    "\n",
    "1. Drop the following columns: `doctor_name`, `diagnosis`, `prescribed_medicines`, and `patient_gender`."
   ]
  },
  {
   "cell_type": "code",
   "execution_count": null,
   "metadata": {},
   "outputs": [],
   "source": [
    "# Your code here:\n"
   ]
  },
  {
   "cell_type": "markdown",
   "metadata": {},
   "source": [
    "Let's look at the head again to ensure the re-encoding and dropping are successful:"
   ]
  },
  {
   "cell_type": "code",
   "execution_count": null,
   "metadata": {},
   "outputs": [],
   "source": [
    "# Your code here:\n"
   ]
  },
  {
   "cell_type": "markdown",
   "metadata": {},
   "source": [
    "An interesting observation is that all patients are no older than 2 years. However, their weights and heights indicate that they are adults. This cannot be true. Therefore, we can either trust the weight and height columns or the DOB column. Since there are other columns that indicate that these are adults (they have emails, some have diabetes) we will drop the `patient_dob` column. We will also drop the `appointment_date` column since it has too many unique values to transform to a dummy variable. Drop the two columns in the cell below."
   ]
  },
  {
   "cell_type": "code",
   "execution_count": null,
   "metadata": {},
   "outputs": [],
   "source": [
    "# Your code here:\n"
   ]
  },
  {
   "cell_type": "markdown",
   "metadata": {},
   "source": [
    "#### Our data is now ready for clustering. Let's use k-means again.\n",
    "\n",
    "We start by initializing and fitting a model in the cell below. Call this model patients_cluster."
   ]
  },
  {
   "cell_type": "code",
   "execution_count": null,
   "metadata": {},
   "outputs": [],
   "source": [
    "# Your code here:\n"
   ]
  },
  {
   "cell_type": "markdown",
   "metadata": {},
   "source": [
    "Attach the labels to the dataframe. Do this by accessing the `labels_` in the `patients_cluster` model and assign them to a new column in `patients` that you will call `labels`."
   ]
  },
  {
   "cell_type": "code",
   "execution_count": null,
   "metadata": {},
   "outputs": [],
   "source": [
    "# Your code here:\n"
   ]
  },
  {
   "cell_type": "markdown",
   "metadata": {},
   "source": [
    "Now using a `groupby`, find the mean of every variable in `patients` and group by the `labels` column. This summary will allow us to see how the patients differ between the clusters. Your output should look similar to the image below.\n",
    "\n",
    "![groupby mean](../groupby-mean.png)\n",
    "\n",
    "Additionally, add a comment to describe which columns have the largest difference between clusters."
   ]
  },
  {
   "cell_type": "code",
   "execution_count": null,
   "metadata": {},
   "outputs": [],
   "source": [
    "# Your code here:\n"
   ]
  },
  {
   "cell_type": "code",
   "execution_count": null,
   "metadata": {},
   "outputs": [],
   "source": [
    "# Your comment here:\n"
   ]
  },
  {
   "cell_type": "markdown",
   "metadata": {},
   "source": [
    "# Bonus Challenge: Visualize K-Means Clusters\n",
    "\n",
    "How did k-means cluster the data? You can obtain an intuitive view with a scatter plot. Generate a 2-d cluster plot below using `matplotlib`. You need to choose 2 of the features from your cleaned and transformed dataset, and use color to represent the cluster label generated from k-means.\n",
    "\n",
    "If the scatter plot does not make any sense to you, it means the features you chose to visualize are not the right ones. You should be able to see 4 clear clusters with different colors in your visualization that suggests how k-means had clustered your data.\n",
    "\n",
    "![Cluster Visualization](../clusters.png)"
   ]
  },
  {
   "cell_type": "code",
   "execution_count": null,
   "metadata": {},
   "outputs": [],
   "source": [
    "# Your code here:\n"
   ]
  },
  {
   "cell_type": "markdown",
   "metadata": {},
   "source": [
    "Additionally, you can visualize the clusters in 3-D scatter plot. Give it a try below."
   ]
  },
  {
   "cell_type": "code",
   "execution_count": null,
   "metadata": {},
   "outputs": [],
   "source": [
    "# Your code here:\n"
   ]
  }
 ],
 "metadata": {
  "kernelspec": {
   "display_name": "Python 3",
   "language": "python",
   "name": "python3"
  },
  "language_info": {
   "codemirror_mode": {
    "name": "ipython",
    "version": 3
   },
   "file_extension": ".py",
   "mimetype": "text/x-python",
   "name": "python",
   "nbconvert_exporter": "python",
   "pygments_lexer": "ipython3",
   "version": "3.6.7"
  }
 },
 "nbformat": 4,
 "nbformat_minor": 2
}
