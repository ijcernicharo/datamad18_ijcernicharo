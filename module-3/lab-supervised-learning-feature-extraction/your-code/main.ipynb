{
 "cells": [
  {
   "cell_type": "markdown",
   "metadata": {},
   "source": [
    "# Before your start:\n",
    "- Read the README.md file\n",
    "- Comment as much as you can and use the resources in the README.md file\n",
    "- Happy learning!"
   ]
  },
  {
   "cell_type": "code",
   "execution_count": 1,
   "metadata": {},
   "outputs": [],
   "source": [
    "#Import your libraries\n",
    "\n",
    "import numpy as np\n",
    "import pandas as pd"
   ]
  },
  {
   "cell_type": "markdown",
   "metadata": {},
   "source": [
    "# Introduction\n",
    "\n",
    "In this lab, we will use two datasets. Both datasets contain variables that describe apps from the Google Play Store. We will use our knowledge in feature extraction to process these datasets and prepare them for the use of a ML algorithm."
   ]
  },
  {
   "cell_type": "markdown",
   "metadata": {},
   "source": [
    "# Challenge 1 - Loading and Extracting Features from the First Dataset"
   ]
  },
  {
   "cell_type": "markdown",
   "metadata": {},
   "source": [
    "#### In this challenge, our goals are: \n",
    "\n",
    "* Exploring the dataset.\n",
    "* Identify the columns with missing values.\n",
    "* Either replacing the missing values in each column or drop the columns.\n",
    "* Conver each column to the appropriate type."
   ]
  },
  {
   "cell_type": "markdown",
   "metadata": {},
   "source": [
    "#### The first dataset contains different information describing the apps. \n",
    "\n",
    "Load the dataset into the variable `google_play` in the cell below. The dataset is in the file `googleplaystore.csv`"
   ]
  },
  {
   "cell_type": "code",
   "execution_count": 2,
   "metadata": {},
   "outputs": [],
   "source": [
    "# Your code here:\n",
    "\n",
    "google_play = pd.read_csv('../googleplaystore.csv')"
   ]
  },
  {
   "cell_type": "markdown",
   "metadata": {},
   "source": [
    "#### Examine all variables and their types in the following cell"
   ]
  },
  {
   "cell_type": "code",
   "execution_count": 3,
   "metadata": {},
   "outputs": [
    {
     "data": {
      "text/plain": [
       "App                object\n",
       "Category           object\n",
       "Rating            float64\n",
       "Reviews            object\n",
       "Size               object\n",
       "Installs           object\n",
       "Type               object\n",
       "Price              object\n",
       "Content Rating     object\n",
       "Genres             object\n",
       "Last Updated       object\n",
       "Current Ver        object\n",
       "Android Ver        object\n",
       "dtype: object"
      ]
     },
     "metadata": {},
     "output_type": "display_data"
    }
   ],
   "source": [
    "# Your code here:\n",
    "display(google_play.dtypes)"
   ]
  },
  {
   "cell_type": "markdown",
   "metadata": {},
   "source": [
    "#### Since this dataset only contains one numeric column, let's skip the `describe()` function and look at the first 5 rows using the `head()` function"
   ]
  },
  {
   "cell_type": "code",
   "execution_count": 53,
   "metadata": {},
   "outputs": [
    {
     "data": {
      "text/html": [
       "<div>\n",
       "<style scoped>\n",
       "    .dataframe tbody tr th:only-of-type {\n",
       "        vertical-align: middle;\n",
       "    }\n",
       "\n",
       "    .dataframe tbody tr th {\n",
       "        vertical-align: top;\n",
       "    }\n",
       "\n",
       "    .dataframe thead th {\n",
       "        text-align: right;\n",
       "    }\n",
       "</style>\n",
       "<table border=\"1\" class=\"dataframe\">\n",
       "  <thead>\n",
       "    <tr style=\"text-align: right;\">\n",
       "      <th></th>\n",
       "      <th>App</th>\n",
       "      <th>Category</th>\n",
       "      <th>Rating</th>\n",
       "      <th>Reviews</th>\n",
       "      <th>Installs</th>\n",
       "      <th>Type</th>\n",
       "      <th>Price</th>\n",
       "      <th>Content Rating</th>\n",
       "      <th>Genres</th>\n",
       "      <th>Last Updated</th>\n",
       "      <th>Current Ver</th>\n",
       "      <th>Android Ver</th>\n",
       "      <th>Reviews_numeric</th>\n",
       "      <th>Review_isnull</th>\n",
       "    </tr>\n",
       "  </thead>\n",
       "  <tbody>\n",
       "    <tr>\n",
       "      <th>0</th>\n",
       "      <td>Photo Editor &amp; Candy Camera &amp; Grid &amp; ScrapBook</td>\n",
       "      <td>ART_AND_DESIGN</td>\n",
       "      <td>4.1</td>\n",
       "      <td>159.0</td>\n",
       "      <td>10,000+</td>\n",
       "      <td>Free</td>\n",
       "      <td>0</td>\n",
       "      <td>Everyone</td>\n",
       "      <td>Art &amp; Design</td>\n",
       "      <td>January 7, 2018</td>\n",
       "      <td>1.0.0</td>\n",
       "      <td>4.0.3 and up</td>\n",
       "      <td>159.0</td>\n",
       "      <td>False</td>\n",
       "    </tr>\n",
       "    <tr>\n",
       "      <th>1</th>\n",
       "      <td>Coloring book moana</td>\n",
       "      <td>ART_AND_DESIGN</td>\n",
       "      <td>3.9</td>\n",
       "      <td>967.0</td>\n",
       "      <td>500,000+</td>\n",
       "      <td>Free</td>\n",
       "      <td>0</td>\n",
       "      <td>Everyone</td>\n",
       "      <td>Art &amp; Design;Pretend Play</td>\n",
       "      <td>January 15, 2018</td>\n",
       "      <td>2.0.0</td>\n",
       "      <td>4.0.3 and up</td>\n",
       "      <td>967.0</td>\n",
       "      <td>False</td>\n",
       "    </tr>\n",
       "    <tr>\n",
       "      <th>2</th>\n",
       "      <td>U Launcher Lite – FREE Live Cool Themes, Hide ...</td>\n",
       "      <td>ART_AND_DESIGN</td>\n",
       "      <td>4.7</td>\n",
       "      <td>87510.0</td>\n",
       "      <td>5,000,000+</td>\n",
       "      <td>Free</td>\n",
       "      <td>0</td>\n",
       "      <td>Everyone</td>\n",
       "      <td>Art &amp; Design</td>\n",
       "      <td>August 1, 2018</td>\n",
       "      <td>1.2.4</td>\n",
       "      <td>4.0.3 and up</td>\n",
       "      <td>87510.0</td>\n",
       "      <td>False</td>\n",
       "    </tr>\n",
       "    <tr>\n",
       "      <th>3</th>\n",
       "      <td>Sketch - Draw &amp; Paint</td>\n",
       "      <td>ART_AND_DESIGN</td>\n",
       "      <td>4.5</td>\n",
       "      <td>215644.0</td>\n",
       "      <td>50,000,000+</td>\n",
       "      <td>Free</td>\n",
       "      <td>0</td>\n",
       "      <td>Teen</td>\n",
       "      <td>Art &amp; Design</td>\n",
       "      <td>June 8, 2018</td>\n",
       "      <td>Varies with device</td>\n",
       "      <td>4.2 and up</td>\n",
       "      <td>215644.0</td>\n",
       "      <td>False</td>\n",
       "    </tr>\n",
       "    <tr>\n",
       "      <th>4</th>\n",
       "      <td>Pixel Draw - Number Art Coloring Book</td>\n",
       "      <td>ART_AND_DESIGN</td>\n",
       "      <td>4.3</td>\n",
       "      <td>967.0</td>\n",
       "      <td>100,000+</td>\n",
       "      <td>Free</td>\n",
       "      <td>0</td>\n",
       "      <td>Everyone</td>\n",
       "      <td>Art &amp; Design;Creativity</td>\n",
       "      <td>June 20, 2018</td>\n",
       "      <td>1.1</td>\n",
       "      <td>4.4 and up</td>\n",
       "      <td>967.0</td>\n",
       "      <td>False</td>\n",
       "    </tr>\n",
       "  </tbody>\n",
       "</table>\n",
       "</div>"
      ],
      "text/plain": [
       "                                                 App        Category  Rating  \\\n",
       "0     Photo Editor & Candy Camera & Grid & ScrapBook  ART_AND_DESIGN     4.1   \n",
       "1                                Coloring book moana  ART_AND_DESIGN     3.9   \n",
       "2  U Launcher Lite – FREE Live Cool Themes, Hide ...  ART_AND_DESIGN     4.7   \n",
       "3                              Sketch - Draw & Paint  ART_AND_DESIGN     4.5   \n",
       "4              Pixel Draw - Number Art Coloring Book  ART_AND_DESIGN     4.3   \n",
       "\n",
       "    Reviews     Installs  Type Price Content Rating  \\\n",
       "0     159.0      10,000+  Free     0       Everyone   \n",
       "1     967.0     500,000+  Free     0       Everyone   \n",
       "2   87510.0   5,000,000+  Free     0       Everyone   \n",
       "3  215644.0  50,000,000+  Free     0           Teen   \n",
       "4     967.0     100,000+  Free     0       Everyone   \n",
       "\n",
       "                      Genres      Last Updated         Current Ver  \\\n",
       "0               Art & Design   January 7, 2018               1.0.0   \n",
       "1  Art & Design;Pretend Play  January 15, 2018               2.0.0   \n",
       "2               Art & Design    August 1, 2018               1.2.4   \n",
       "3               Art & Design      June 8, 2018  Varies with device   \n",
       "4    Art & Design;Creativity     June 20, 2018                 1.1   \n",
       "\n",
       "    Android Ver  Reviews_numeric  Review_isnull  \n",
       "0  4.0.3 and up            159.0          False  \n",
       "1  4.0.3 and up            967.0          False  \n",
       "2  4.0.3 and up          87510.0          False  \n",
       "3    4.2 and up         215644.0          False  \n",
       "4    4.4 and up            967.0          False  "
      ]
     },
     "metadata": {},
     "output_type": "display_data"
    },
    {
     "name": "stdout",
     "output_type": "stream",
     "text": [
      "10841\n",
      "9660\n"
     ]
    }
   ],
   "source": [
    "# Your code here:\n",
    "display(google_play.head())\n",
    "print(len(google_play))\n",
    "print(len(google_play['App'].unique()))"
   ]
  },
  {
   "cell_type": "markdown",
   "metadata": {},
   "source": [
    "#### We can see that there are a few columns that could be coerced to numeric.\n",
    "\n",
    "Start with the reviews column. We can evaluate what value is causing this column to be of object type finding the non-numeric values in this column. To do this, we recall the `to_numeric()` function. With this function, we are able to coerce all non-numeric data to null. We can then use the `isnull()` function to subset our dataframe using the True/False column that this function generates.\n",
    "\n",
    "In the cell below, transform the Reviews column to numeric and assign this new column to the variable `Reviews_numeric`. Make sure to coerce the errors."
   ]
  },
  {
   "cell_type": "code",
   "execution_count": 5,
   "metadata": {},
   "outputs": [],
   "source": [
    "# Your code here:\n",
    "google_play['Reviews_numeric']=pd.to_numeric(google_play['Reviews'],errors='coerce')"
   ]
  },
  {
   "cell_type": "markdown",
   "metadata": {},
   "source": [
    "Next, create a column containing True/False values using the `isnull()` function. Assign this column to the `Reviews_isnull` variable."
   ]
  },
  {
   "cell_type": "code",
   "execution_count": 6,
   "metadata": {},
   "outputs": [],
   "source": [
    "# Your code here:\n",
    "Reviews_isnull=google_play['Reviews_numeric'].isna()"
   ]
  },
  {
   "cell_type": "markdown",
   "metadata": {},
   "source": [
    "Finally, subset the `google_play` with `Reviews_isnull`. This should give you all the rows that contain non-numeric characters.\n",
    "\n",
    "Your output should look like:\n",
    "\n",
    "![Reviews_bool.png](reviews-bool.png)"
   ]
  },
  {
   "cell_type": "code",
   "execution_count": 7,
   "metadata": {},
   "outputs": [
    {
     "data": {
      "text/html": [
       "<div>\n",
       "<style scoped>\n",
       "    .dataframe tbody tr th:only-of-type {\n",
       "        vertical-align: middle;\n",
       "    }\n",
       "\n",
       "    .dataframe tbody tr th {\n",
       "        vertical-align: top;\n",
       "    }\n",
       "\n",
       "    .dataframe thead th {\n",
       "        text-align: right;\n",
       "    }\n",
       "</style>\n",
       "<table border=\"1\" class=\"dataframe\">\n",
       "  <thead>\n",
       "    <tr style=\"text-align: right;\">\n",
       "      <th></th>\n",
       "      <th>App</th>\n",
       "      <th>Category</th>\n",
       "      <th>Rating</th>\n",
       "      <th>Reviews</th>\n",
       "      <th>Size</th>\n",
       "      <th>Installs</th>\n",
       "      <th>Type</th>\n",
       "      <th>Price</th>\n",
       "      <th>Content Rating</th>\n",
       "      <th>Genres</th>\n",
       "      <th>Last Updated</th>\n",
       "      <th>Current Ver</th>\n",
       "      <th>Android Ver</th>\n",
       "      <th>Reviews_numeric</th>\n",
       "      <th>Review_isnull</th>\n",
       "    </tr>\n",
       "  </thead>\n",
       "  <tbody>\n",
       "    <tr>\n",
       "      <th>0</th>\n",
       "      <td>Photo Editor &amp; Candy Camera &amp; Grid &amp; ScrapBook</td>\n",
       "      <td>ART_AND_DESIGN</td>\n",
       "      <td>4.1</td>\n",
       "      <td>159</td>\n",
       "      <td>19M</td>\n",
       "      <td>10,000+</td>\n",
       "      <td>Free</td>\n",
       "      <td>0</td>\n",
       "      <td>Everyone</td>\n",
       "      <td>Art &amp; Design</td>\n",
       "      <td>January 7, 2018</td>\n",
       "      <td>1.0.0</td>\n",
       "      <td>4.0.3 and up</td>\n",
       "      <td>159.0</td>\n",
       "      <td>False</td>\n",
       "    </tr>\n",
       "    <tr>\n",
       "      <th>1</th>\n",
       "      <td>Coloring book moana</td>\n",
       "      <td>ART_AND_DESIGN</td>\n",
       "      <td>3.9</td>\n",
       "      <td>967</td>\n",
       "      <td>14M</td>\n",
       "      <td>500,000+</td>\n",
       "      <td>Free</td>\n",
       "      <td>0</td>\n",
       "      <td>Everyone</td>\n",
       "      <td>Art &amp; Design;Pretend Play</td>\n",
       "      <td>January 15, 2018</td>\n",
       "      <td>2.0.0</td>\n",
       "      <td>4.0.3 and up</td>\n",
       "      <td>967.0</td>\n",
       "      <td>False</td>\n",
       "    </tr>\n",
       "    <tr>\n",
       "      <th>2</th>\n",
       "      <td>U Launcher Lite – FREE Live Cool Themes, Hide ...</td>\n",
       "      <td>ART_AND_DESIGN</td>\n",
       "      <td>4.7</td>\n",
       "      <td>87510</td>\n",
       "      <td>8.7M</td>\n",
       "      <td>5,000,000+</td>\n",
       "      <td>Free</td>\n",
       "      <td>0</td>\n",
       "      <td>Everyone</td>\n",
       "      <td>Art &amp; Design</td>\n",
       "      <td>August 1, 2018</td>\n",
       "      <td>1.2.4</td>\n",
       "      <td>4.0.3 and up</td>\n",
       "      <td>87510.0</td>\n",
       "      <td>False</td>\n",
       "    </tr>\n",
       "    <tr>\n",
       "      <th>3</th>\n",
       "      <td>Sketch - Draw &amp; Paint</td>\n",
       "      <td>ART_AND_DESIGN</td>\n",
       "      <td>4.5</td>\n",
       "      <td>215644</td>\n",
       "      <td>25M</td>\n",
       "      <td>50,000,000+</td>\n",
       "      <td>Free</td>\n",
       "      <td>0</td>\n",
       "      <td>Teen</td>\n",
       "      <td>Art &amp; Design</td>\n",
       "      <td>June 8, 2018</td>\n",
       "      <td>Varies with device</td>\n",
       "      <td>4.2 and up</td>\n",
       "      <td>215644.0</td>\n",
       "      <td>False</td>\n",
       "    </tr>\n",
       "    <tr>\n",
       "      <th>4</th>\n",
       "      <td>Pixel Draw - Number Art Coloring Book</td>\n",
       "      <td>ART_AND_DESIGN</td>\n",
       "      <td>4.3</td>\n",
       "      <td>967</td>\n",
       "      <td>2.8M</td>\n",
       "      <td>100,000+</td>\n",
       "      <td>Free</td>\n",
       "      <td>0</td>\n",
       "      <td>Everyone</td>\n",
       "      <td>Art &amp; Design;Creativity</td>\n",
       "      <td>June 20, 2018</td>\n",
       "      <td>1.1</td>\n",
       "      <td>4.4 and up</td>\n",
       "      <td>967.0</td>\n",
       "      <td>False</td>\n",
       "    </tr>\n",
       "  </tbody>\n",
       "</table>\n",
       "</div>"
      ],
      "text/plain": [
       "                                                 App        Category  Rating  \\\n",
       "0     Photo Editor & Candy Camera & Grid & ScrapBook  ART_AND_DESIGN     4.1   \n",
       "1                                Coloring book moana  ART_AND_DESIGN     3.9   \n",
       "2  U Launcher Lite – FREE Live Cool Themes, Hide ...  ART_AND_DESIGN     4.7   \n",
       "3                              Sketch - Draw & Paint  ART_AND_DESIGN     4.5   \n",
       "4              Pixel Draw - Number Art Coloring Book  ART_AND_DESIGN     4.3   \n",
       "\n",
       "  Reviews  Size     Installs  Type Price Content Rating  \\\n",
       "0     159   19M      10,000+  Free     0       Everyone   \n",
       "1     967   14M     500,000+  Free     0       Everyone   \n",
       "2   87510  8.7M   5,000,000+  Free     0       Everyone   \n",
       "3  215644   25M  50,000,000+  Free     0           Teen   \n",
       "4     967  2.8M     100,000+  Free     0       Everyone   \n",
       "\n",
       "                      Genres      Last Updated         Current Ver  \\\n",
       "0               Art & Design   January 7, 2018               1.0.0   \n",
       "1  Art & Design;Pretend Play  January 15, 2018               2.0.0   \n",
       "2               Art & Design    August 1, 2018               1.2.4   \n",
       "3               Art & Design      June 8, 2018  Varies with device   \n",
       "4    Art & Design;Creativity     June 20, 2018                 1.1   \n",
       "\n",
       "    Android Ver  Reviews_numeric  Review_isnull  \n",
       "0  4.0.3 and up            159.0          False  \n",
       "1  4.0.3 and up            967.0          False  \n",
       "2  4.0.3 and up          87510.0          False  \n",
       "3    4.2 and up         215644.0          False  \n",
       "4    4.4 and up            967.0          False  "
      ]
     },
     "metadata": {},
     "output_type": "display_data"
    }
   ],
   "source": [
    "# Your code here:\n",
    "google_play['Review_isnull']=Reviews_isnull\n",
    "display(google_play.head())"
   ]
  },
  {
   "cell_type": "markdown",
   "metadata": {},
   "source": [
    "#### We see that Google Play is using a shorthand for millions. \n",
    "\n",
    "Let's write a function to transform this data.\n",
    "\n",
    "Steps:\n",
    "\n",
    "1. Create a function that returns the correct numeric values of *Reviews*.\n",
    "1. Define a test string with `M` in the last character.\n",
    "1. Test your function with the test string. Make sure your function works correctly. If not, modify your functions and test again."
   ]
  },
  {
   "cell_type": "code",
   "execution_count": 8,
   "metadata": {},
   "outputs": [
    {
     "data": {
      "text/plain": [
       "True"
      ]
     },
     "execution_count": 8,
     "metadata": {},
     "output_type": "execute_result"
    }
   ],
   "source": [
    "# Your code here\n",
    "\n",
    "def convert_string_to_numeric(s):\n",
    "    \"\"\"\n",
    "    Convert a string value to numeric. If the last character of the string is `M`, obtain the \n",
    "    numeric part of the string, multiply it with 1,000,000, then return the result. Otherwise, \n",
    "    convert the string to numeric value and return the result.\n",
    "    \n",
    "    Args:\n",
    "        s: The Reviews score in string format.\n",
    "\n",
    "    Returns:\n",
    "        The correct numeric value of the Reviews score.\n",
    "    \"\"\"\n",
    "    if 'M' in str(s):\n",
    "        return float(s[:-1])*1000000\n",
    "    else:\n",
    "        return float(s)\n",
    "\n",
    "test_string = '4.0M'\n",
    "\n",
    "convert_string_to_numeric(test_string) == 4000000"
   ]
  },
  {
   "cell_type": "markdown",
   "metadata": {},
   "source": [
    "The last step is to apply the function to the `Reviews` column in the following cell:"
   ]
  },
  {
   "cell_type": "code",
   "execution_count": 9,
   "metadata": {},
   "outputs": [],
   "source": [
    "# Your code here:\n",
    "google_play['Reviews']=google_play['Reviews'].apply(convert_string_to_numeric);"
   ]
  },
  {
   "cell_type": "markdown",
   "metadata": {},
   "source": [
    "Check the non-numeric `Reviews` row again. It should have been fixed now and you should see:\n",
    "\n",
    "![Reviews_bool_fixed.png](reviews-bool-fixed.png)"
   ]
  },
  {
   "cell_type": "code",
   "execution_count": 10,
   "metadata": {},
   "outputs": [
    {
     "data": {
      "text/html": [
       "<div>\n",
       "<style scoped>\n",
       "    .dataframe tbody tr th:only-of-type {\n",
       "        vertical-align: middle;\n",
       "    }\n",
       "\n",
       "    .dataframe tbody tr th {\n",
       "        vertical-align: top;\n",
       "    }\n",
       "\n",
       "    .dataframe thead th {\n",
       "        text-align: right;\n",
       "    }\n",
       "</style>\n",
       "<table border=\"1\" class=\"dataframe\">\n",
       "  <thead>\n",
       "    <tr style=\"text-align: right;\">\n",
       "      <th></th>\n",
       "      <th>App</th>\n",
       "      <th>Category</th>\n",
       "      <th>Rating</th>\n",
       "      <th>Reviews</th>\n",
       "      <th>Size</th>\n",
       "      <th>Installs</th>\n",
       "      <th>Type</th>\n",
       "      <th>Price</th>\n",
       "      <th>Content Rating</th>\n",
       "      <th>Genres</th>\n",
       "      <th>Last Updated</th>\n",
       "      <th>Current Ver</th>\n",
       "      <th>Android Ver</th>\n",
       "      <th>Reviews_numeric</th>\n",
       "      <th>Review_isnull</th>\n",
       "    </tr>\n",
       "  </thead>\n",
       "  <tbody>\n",
       "    <tr>\n",
       "      <th>10472</th>\n",
       "      <td>Life Made WI-Fi Touchscreen Photo Frame</td>\n",
       "      <td>1.9</td>\n",
       "      <td>19</td>\n",
       "      <td>3e+06</td>\n",
       "      <td>1,000+</td>\n",
       "      <td>Free</td>\n",
       "      <td>0</td>\n",
       "      <td>Everyone</td>\n",
       "      <td>NaN</td>\n",
       "      <td>February 11, 2018</td>\n",
       "      <td>1.0.19</td>\n",
       "      <td>4.0 and up</td>\n",
       "      <td>NaN</td>\n",
       "      <td>NaN</td>\n",
       "      <td>True</td>\n",
       "    </tr>\n",
       "  </tbody>\n",
       "</table>\n",
       "</div>"
      ],
      "text/plain": [
       "                                           App Category Rating Reviews  \\\n",
       "10472  Life Made WI-Fi Touchscreen Photo Frame      1.9     19   3e+06   \n",
       "\n",
       "         Size Installs Type     Price Content Rating             Genres  \\\n",
       "10472  1,000+     Free    0  Everyone            NaN  February 11, 2018   \n",
       "\n",
       "      Last Updated Current Ver Android Ver Reviews_numeric Review_isnull  \n",
       "10472       1.0.19  4.0 and up         NaN             NaN          True  "
      ]
     },
     "metadata": {},
     "output_type": "display_data"
    }
   ],
   "source": [
    "# Your code here\n",
    "display(pd.DataFrame(google_play.loc[10472]).T)"
   ]
  },
  {
   "cell_type": "markdown",
   "metadata": {},
   "source": [
    "Also check the variable types of `google_play`. The `Reviews` column should be a `float64` type now."
   ]
  },
  {
   "cell_type": "code",
   "execution_count": 11,
   "metadata": {},
   "outputs": [
    {
     "data": {
      "text/plain": [
       "App                 object\n",
       "Category            object\n",
       "Rating             float64\n",
       "Reviews            float64\n",
       "Size                object\n",
       "Installs            object\n",
       "Type                object\n",
       "Price               object\n",
       "Content Rating      object\n",
       "Genres              object\n",
       "Last Updated        object\n",
       "Current Ver         object\n",
       "Android Ver         object\n",
       "Reviews_numeric    float64\n",
       "Review_isnull         bool\n",
       "dtype: object"
      ]
     },
     "execution_count": 11,
     "metadata": {},
     "output_type": "execute_result"
    }
   ],
   "source": [
    "# Your code here:\n",
    "google_play.dtypes"
   ]
  },
  {
   "cell_type": "markdown",
   "metadata": {},
   "source": [
    "#### The next column we will look at is `Size`. We start by looking at all unique values in `Size`:\n",
    "\n",
    "*Hint: use `unique()` ([documentation](https://pandas.pydata.org/pandas-docs/stable/generated/pandas.Series.unique.html))*."
   ]
  },
  {
   "cell_type": "code",
   "execution_count": 12,
   "metadata": {},
   "outputs": [
    {
     "data": {
      "text/plain": [
       "array(['19M', '14M', '8.7M', '25M', '2.8M', '5.6M', '29M', '33M', '3.1M',\n",
       "       '28M', '12M', '20M', '21M', '37M', '2.7M', '5.5M', '17M', '39M',\n",
       "       '31M', '4.2M', '7.0M', '23M', '6.0M', '6.1M', '4.6M', '9.2M',\n",
       "       '5.2M', '11M', '24M', 'Varies with device', '9.4M', '15M', '10M',\n",
       "       '1.2M', '26M', '8.0M', '7.9M', '56M', '57M', '35M', '54M', '201k',\n",
       "       '3.6M', '5.7M', '8.6M', '2.4M', '27M', '2.5M', '16M', '3.4M',\n",
       "       '8.9M', '3.9M', '2.9M', '38M', '32M', '5.4M', '18M', '1.1M',\n",
       "       '2.2M', '4.5M', '9.8M', '52M', '9.0M', '6.7M', '30M', '2.6M',\n",
       "       '7.1M', '3.7M', '22M', '7.4M', '6.4M', '3.2M', '8.2M', '9.9M',\n",
       "       '4.9M', '9.5M', '5.0M', '5.9M', '13M', '73M', '6.8M', '3.5M',\n",
       "       '4.0M', '2.3M', '7.2M', '2.1M', '42M', '7.3M', '9.1M', '55M',\n",
       "       '23k', '6.5M', '1.5M', '7.5M', '51M', '41M', '48M', '8.5M', '46M',\n",
       "       '8.3M', '4.3M', '4.7M', '3.3M', '40M', '7.8M', '8.8M', '6.6M',\n",
       "       '5.1M', '61M', '66M', '79k', '8.4M', '118k', '44M', '695k', '1.6M',\n",
       "       '6.2M', '18k', '53M', '1.4M', '3.0M', '5.8M', '3.8M', '9.6M',\n",
       "       '45M', '63M', '49M', '77M', '4.4M', '4.8M', '70M', '6.9M', '9.3M',\n",
       "       '10.0M', '8.1M', '36M', '84M', '97M', '2.0M', '1.9M', '1.8M',\n",
       "       '5.3M', '47M', '556k', '526k', '76M', '7.6M', '59M', '9.7M', '78M',\n",
       "       '72M', '43M', '7.7M', '6.3M', '334k', '34M', '93M', '65M', '79M',\n",
       "       '100M', '58M', '50M', '68M', '64M', '67M', '60M', '94M', '232k',\n",
       "       '99M', '624k', '95M', '8.5k', '41k', '292k', '11k', '80M', '1.7M',\n",
       "       '74M', '62M', '69M', '75M', '98M', '85M', '82M', '96M', '87M',\n",
       "       '71M', '86M', '91M', '81M', '92M', '83M', '88M', '704k', '862k',\n",
       "       '899k', '378k', '266k', '375k', '1.3M', '975k', '980k', '4.1M',\n",
       "       '89M', '696k', '544k', '525k', '920k', '779k', '853k', '720k',\n",
       "       '713k', '772k', '318k', '58k', '241k', '196k', '857k', '51k',\n",
       "       '953k', '865k', '251k', '930k', '540k', '313k', '746k', '203k',\n",
       "       '26k', '314k', '239k', '371k', '220k', '730k', '756k', '91k',\n",
       "       '293k', '17k', '74k', '14k', '317k', '78k', '924k', '902k', '818k',\n",
       "       '81k', '939k', '169k', '45k', '475k', '965k', '90M', '545k', '61k',\n",
       "       '283k', '655k', '714k', '93k', '872k', '121k', '322k', '1.0M',\n",
       "       '976k', '172k', '238k', '549k', '206k', '954k', '444k', '717k',\n",
       "       '210k', '609k', '308k', '705k', '306k', '904k', '473k', '175k',\n",
       "       '350k', '383k', '454k', '421k', '70k', '812k', '442k', '842k',\n",
       "       '417k', '412k', '459k', '478k', '335k', '782k', '721k', '430k',\n",
       "       '429k', '192k', '200k', '460k', '728k', '496k', '816k', '414k',\n",
       "       '506k', '887k', '613k', '243k', '569k', '778k', '683k', '592k',\n",
       "       '319k', '186k', '840k', '647k', '191k', '373k', '437k', '598k',\n",
       "       '716k', '585k', '982k', '222k', '219k', '55k', '948k', '323k',\n",
       "       '691k', '511k', '951k', '963k', '25k', '554k', '351k', '27k',\n",
       "       '82k', '208k', '913k', '514k', '551k', '29k', '103k', '898k',\n",
       "       '743k', '116k', '153k', '209k', '353k', '499k', '173k', '597k',\n",
       "       '809k', '122k', '411k', '400k', '801k', '787k', '237k', '50k',\n",
       "       '643k', '986k', '97k', '516k', '837k', '780k', '961k', '269k',\n",
       "       '20k', '498k', '600k', '749k', '642k', '881k', '72k', '656k',\n",
       "       '601k', '221k', '228k', '108k', '940k', '176k', '33k', '663k',\n",
       "       '34k', '942k', '259k', '164k', '458k', '245k', '629k', '28k',\n",
       "       '288k', '775k', '785k', '636k', '916k', '994k', '309k', '485k',\n",
       "       '914k', '903k', '608k', '500k', '54k', '562k', '847k', '957k',\n",
       "       '688k', '811k', '270k', '48k', '329k', '523k', '921k', '874k',\n",
       "       '981k', '784k', '280k', '24k', '518k', '754k', '892k', '154k',\n",
       "       '860k', '364k', '387k', '626k', '161k', '879k', '39k', '970k',\n",
       "       '170k', '141k', '160k', '144k', '143k', '190k', '376k', '193k',\n",
       "       '246k', '73k', '658k', '992k', '253k', '420k', '404k', '1,000+',\n",
       "       '470k', '226k', '240k', '89k', '234k', '257k', '861k', '467k',\n",
       "       '157k', '44k', '676k', '67k', '552k', '885k', '1020k', '582k',\n",
       "       '619k'], dtype=object)"
      ]
     },
     "execution_count": 12,
     "metadata": {},
     "output_type": "execute_result"
    }
   ],
   "source": [
    "# Your code here:\n",
    "google_play['Size'].unique()"
   ]
  },
  {
   "cell_type": "markdown",
   "metadata": {},
   "source": [
    "You should have seen lots of unique values of the app sizes.\n",
    "\n",
    "#### While we can convert most of the `Size` values to numeric in the same way we converted the `Reviews` values, there is one value that is impossible to convert.\n",
    "\n",
    "What is that badass value? Enter it in the next cell and calculate the proportion of its occurence to the total number of records of `google_play`."
   ]
  },
  {
   "cell_type": "code",
   "execution_count": 13,
   "metadata": {},
   "outputs": [
    {
     "name": "stdout",
     "output_type": "stream",
     "text": [
      "15.64 % of BADASS value in Size Feature\n"
     ]
    }
   ],
   "source": [
    "# Your code here:\n",
    "BADASS='Varies with device'\n",
    "\n",
    "print(round(sum(google_play['Size']==BADASS)*100/len(google_play),2),'% of BADASS value in Size Feature')"
   ]
  },
  {
   "cell_type": "markdown",
   "metadata": {},
   "source": [
    "#### While this column may be useful for other types of analysis, we opt to drop it from our dataset. \n",
    "\n",
    "There are two reasons. First, the majority of the data are ordinal but a sizeable proportion are missing because we cannot convert them to numerical values. Ordinal data are both numerical and categorical, and they usually can be ranked (e.g. 82k is smaller than 91M). In contrast, non-ordinal categorical data such as blood type and eye color cannot be ranked. The second reason is as a categorical column, it has too many unique values to produce meaningful insights. Therefore, in our case the simplest strategy would be to drop the column.\n",
    "\n",
    "Drop the column in the cell below (use `inplace=True`)"
   ]
  },
  {
   "cell_type": "code",
   "execution_count": 14,
   "metadata": {},
   "outputs": [],
   "source": [
    "# Your code here:\n",
    "google_play.drop('Size',axis=1,inplace=True)"
   ]
  },
  {
   "cell_type": "markdown",
   "metadata": {},
   "source": [
    "#### Now let's look at how many missing values are in each column. \n",
    "\n",
    "This will give us an idea of whether we should come up with a missing data strategy or give up on the column all together. In the next column, find the number of missing values in each column: \n",
    "\n",
    "*Hint: use the `isna()` and `sum()` functions.*"
   ]
  },
  {
   "cell_type": "code",
   "execution_count": 15,
   "metadata": {},
   "outputs": [
    {
     "data": {
      "text/plain": [
       "App                   0\n",
       "Category              0\n",
       "Rating             1474\n",
       "Reviews               0\n",
       "Installs              0\n",
       "Type                  1\n",
       "Price                 0\n",
       "Content Rating        1\n",
       "Genres                0\n",
       "Last Updated          0\n",
       "Current Ver           8\n",
       "Android Ver           3\n",
       "Reviews_numeric       1\n",
       "Review_isnull         0\n",
       "dtype: int64"
      ]
     },
     "execution_count": 15,
     "metadata": {},
     "output_type": "execute_result"
    }
   ],
   "source": [
    "# Your code here:\n",
    "google_play.isna().sum()"
   ]
  },
  {
   "cell_type": "markdown",
   "metadata": {},
   "source": [
    "You should find the column with the most missing values is now `Rating`.\n",
    "\n",
    "#### What is the proportion of the missing values in `Rating` to the total number of records?\n",
    "\n",
    "Enter your answer in the cell below."
   ]
  },
  {
   "cell_type": "code",
   "execution_count": 16,
   "metadata": {},
   "outputs": [
    {
     "name": "stdout",
     "output_type": "stream",
     "text": [
      "13.6 % of missing values for Rating Feature\n"
     ]
    }
   ],
   "source": [
    "# Your code here:\n",
    "print(round(google_play['Rating'].isna().sum()*100/len(google_play),2),'% of missing values for Rating Feature')"
   ]
  },
  {
   "cell_type": "markdown",
   "metadata": {},
   "source": [
    "A sizeable proportion of the `Rating` column is missing. A few other columns also contain several missing values.\n",
    "\n",
    "#### We opt to preserve these columns and remove the rows containing missing data.\n",
    "\n",
    "In particular, we don't want to drop the `Rating` column because:\n",
    "\n",
    "* It is one of the most important columns in our dataset. \n",
    "\n",
    "* Since the dataset is not a time series, the loss of these rows will not have a negative impact on our ability to analyze the data. It will, however, cause us to lose some meaningful observations. But the loss is limited compared to the gain we receive by preserving these columns.\n",
    "\n",
    "In the cell below, remove all rows containing at least one missing value. Use the `dropna()` function ([documentation](https://pandas.pydata.org/pandas-docs/stable/generated/pandas.DataFrame.dropna.html)). Assign the new dataframe to the variable `google_missing_removed`."
   ]
  },
  {
   "cell_type": "code",
   "execution_count": 17,
   "metadata": {},
   "outputs": [],
   "source": [
    "# Your code here:\n",
    "google_missing_removed=google_play.dropna(axis=0)"
   ]
  },
  {
   "cell_type": "code",
   "execution_count": 18,
   "metadata": {},
   "outputs": [
    {
     "name": "stdout",
     "output_type": "stream",
     "text": [
      "10841 registers for google_play DF\n",
      "9360  registers for google_missing_removed DF\n",
      "13.66 % of difference\n"
     ]
    }
   ],
   "source": [
    "print(len(google_play),'registers for google_play DF')\n",
    "print(len(google_missing_removed),' registers for google_missing_removed DF')\n",
    "print(round((len(google_play)-len(google_missing_removed))*100/len(google_play),2),'% of difference')"
   ]
  },
  {
   "cell_type": "markdown",
   "metadata": {},
   "source": [
    "From now on, we use the `google_missing_removed` variable instead of `google_play`.\n",
    "\n",
    "#### Next, we look at the `Last Updated` column.\n",
    "\n",
    "The `Last Updated` column seems to contain a date, though it is classified as an object type. Let's convert this column using the `pd.to_datetime` function ([documentation](https://pandas.pydata.org/pandas-docs/stable/generated/pandas.to_datetime.html))."
   ]
  },
  {
   "cell_type": "code",
   "execution_count": 19,
   "metadata": {},
   "outputs": [
    {
     "name": "stderr",
     "output_type": "stream",
     "text": [
      "/home/ivan/.local/lib/python3.6/site-packages/ipykernel_launcher.py:3: SettingWithCopyWarning: \n",
      "A value is trying to be set on a copy of a slice from a DataFrame.\n",
      "Try using .loc[row_indexer,col_indexer] = value instead\n",
      "\n",
      "See the caveats in the documentation: http://pandas.pydata.org/pandas-docs/stable/indexing.html#indexing-view-versus-copy\n",
      "  This is separate from the ipykernel package so we can avoid doing imports until\n"
     ]
    }
   ],
   "source": [
    "# Your code here:\n",
    "times=pd.to_datetime(google_missing_removed['Last Updated'])\n",
    "google_missing_removed['Last Updated']=times"
   ]
  },
  {
   "cell_type": "markdown",
   "metadata": {},
   "source": [
    "#### The last column we will transform is `Price`. \n",
    "\n",
    "We start by looking at the unique values of this column."
   ]
  },
  {
   "cell_type": "code",
   "execution_count": 20,
   "metadata": {},
   "outputs": [
    {
     "data": {
      "text/plain": [
       "array(['0', '$4.99', '$3.99', '$6.99', '$7.99', '$5.99', '$2.99', '$3.49',\n",
       "       '$1.99', '$9.99', '$7.49', '$0.99', '$9.00', '$5.49', '$10.00',\n",
       "       '$24.99', '$11.99', '$79.99', '$16.99', '$14.99', '$29.99',\n",
       "       '$12.99', '$2.49', '$10.99', '$1.50', '$19.99', '$15.99', '$33.99',\n",
       "       '$39.99', '$3.95', '$4.49', '$1.70', '$8.99', '$1.49', '$3.88',\n",
       "       '$399.99', '$17.99', '$400.00', '$3.02', '$1.76', '$4.84', '$4.77',\n",
       "       '$1.61', '$2.50', '$1.59', '$6.49', '$1.29', '$299.99', '$379.99',\n",
       "       '$37.99', '$18.99', '$389.99', '$8.49', '$1.75', '$14.00', '$2.00',\n",
       "       '$3.08', '$2.59', '$19.40', '$3.90', '$4.59', '$15.46', '$3.04',\n",
       "       '$13.99', '$4.29', '$3.28', '$4.60', '$1.00', '$2.95', '$2.90',\n",
       "       '$1.97', '$2.56', '$1.20'], dtype=object)"
      ]
     },
     "execution_count": 20,
     "metadata": {},
     "output_type": "execute_result"
    }
   ],
   "source": [
    "# Your code here:\n",
    "google_missing_removed['Price'].unique()"
   ]
  },
  {
   "cell_type": "markdown",
   "metadata": {},
   "source": [
    "Since all prices are ordinal data without exceptions, we can tranform this column by removing the dollar sign and converting to numeric. We can create a new column called `Price Numerical` and drop the original column.\n",
    "\n",
    "We will achieve our goal in three steps. Follow the instructions of each step below.\n",
    "\n",
    "#### First we remove the dollar sign. Do this in the next cell by applying the `str.replace` function to the column to replace `$` with an empty string (`''`)."
   ]
  },
  {
   "cell_type": "code",
   "execution_count": 21,
   "metadata": {},
   "outputs": [
    {
     "name": "stderr",
     "output_type": "stream",
     "text": [
      "/home/ivan/.local/lib/python3.6/site-packages/ipykernel_launcher.py:2: SettingWithCopyWarning: \n",
      "A value is trying to be set on a copy of a slice from a DataFrame.\n",
      "Try using .loc[row_indexer,col_indexer] = value instead\n",
      "\n",
      "See the caveats in the documentation: http://pandas.pydata.org/pandas-docs/stable/indexing.html#indexing-view-versus-copy\n",
      "  \n"
     ]
    }
   ],
   "source": [
    "# Your code here:\n",
    "google_missing_removed['Price']=google_missing_removed['Price'].str.replace('$','')"
   ]
  },
  {
   "cell_type": "code",
   "execution_count": 22,
   "metadata": {
    "scrolled": true
   },
   "outputs": [
    {
     "data": {
      "text/plain": [
       "array(['0', '4.99', '3.99', '6.99', '7.99', '5.99', '2.99', '3.49',\n",
       "       '1.99', '9.99', '7.49', '0.99', '9.00', '5.49', '10.00', '24.99',\n",
       "       '11.99', '79.99', '16.99', '14.99', '29.99', '12.99', '2.49',\n",
       "       '10.99', '1.50', '19.99', '15.99', '33.99', '39.99', '3.95',\n",
       "       '4.49', '1.70', '8.99', '1.49', '3.88', '399.99', '17.99',\n",
       "       '400.00', '3.02', '1.76', '4.84', '4.77', '1.61', '2.50', '1.59',\n",
       "       '6.49', '1.29', '299.99', '379.99', '37.99', '18.99', '389.99',\n",
       "       '8.49', '1.75', '14.00', '2.00', '3.08', '2.59', '19.40', '3.90',\n",
       "       '4.59', '15.46', '3.04', '13.99', '4.29', '3.28', '4.60', '1.00',\n",
       "       '2.95', '2.90', '1.97', '2.56', '1.20'], dtype=object)"
      ]
     },
     "execution_count": 22,
     "metadata": {},
     "output_type": "execute_result"
    }
   ],
   "source": [
    "google_missing_removed['Price'].unique()"
   ]
  },
  {
   "cell_type": "markdown",
   "metadata": {},
   "source": [
    "#### Second step, coerce the `Price Numerical` column to numeric."
   ]
  },
  {
   "cell_type": "code",
   "execution_count": 23,
   "metadata": {},
   "outputs": [
    {
     "name": "stderr",
     "output_type": "stream",
     "text": [
      "/home/ivan/.local/lib/python3.6/site-packages/ipykernel_launcher.py:3: SettingWithCopyWarning: \n",
      "A value is trying to be set on a copy of a slice from a DataFrame.\n",
      "Try using .loc[row_indexer,col_indexer] = value instead\n",
      "\n",
      "See the caveats in the documentation: http://pandas.pydata.org/pandas-docs/stable/indexing.html#indexing-view-versus-copy\n",
      "  This is separate from the ipykernel package so we can avoid doing imports until\n"
     ]
    }
   ],
   "source": [
    "# Your code here:\n",
    "a=google_missing_removed.loc[:,'Price'].apply(convert_string_to_numeric)\n",
    "google_missing_removed['Price_numerical']=a"
   ]
  },
  {
   "cell_type": "code",
   "execution_count": 24,
   "metadata": {},
   "outputs": [
    {
     "data": {
      "text/plain": [
       "array([  0.  ,   4.99,   3.99,   6.99,   7.99,   5.99,   2.99,   3.49,\n",
       "         1.99,   9.99,   7.49,   0.99,   9.  ,   5.49,  10.  ,  24.99,\n",
       "        11.99,  79.99,  16.99,  14.99,  29.99,  12.99,   2.49,  10.99,\n",
       "         1.5 ,  19.99,  15.99,  33.99,  39.99,   3.95,   4.49,   1.7 ,\n",
       "         8.99,   1.49,   3.88, 399.99,  17.99, 400.  ,   3.02,   1.76,\n",
       "         4.84,   4.77,   1.61,   2.5 ,   1.59,   6.49,   1.29, 299.99,\n",
       "       379.99,  37.99,  18.99, 389.99,   8.49,   1.75,  14.  ,   2.  ,\n",
       "         3.08,   2.59,  19.4 ,   3.9 ,   4.59,  15.46,   3.04,  13.99,\n",
       "         4.29,   3.28,   4.6 ,   1.  ,   2.95,   2.9 ,   1.97,   2.56,\n",
       "         1.2 ])"
      ]
     },
     "execution_count": 24,
     "metadata": {},
     "output_type": "execute_result"
    }
   ],
   "source": [
    "google_missing_removed['Price_numerical'].unique()"
   ]
  },
  {
   "cell_type": "markdown",
   "metadata": {},
   "source": [
    "**Finally, drop the original `Price` column.**"
   ]
  },
  {
   "cell_type": "code",
   "execution_count": 25,
   "metadata": {},
   "outputs": [
    {
     "name": "stderr",
     "output_type": "stream",
     "text": [
      "/home/ivan/.local/lib/python3.6/site-packages/pandas/core/frame.py:3697: SettingWithCopyWarning: \n",
      "A value is trying to be set on a copy of a slice from a DataFrame\n",
      "\n",
      "See the caveats in the documentation: http://pandas.pydata.org/pandas-docs/stable/indexing.html#indexing-view-versus-copy\n",
      "  errors=errors)\n"
     ]
    }
   ],
   "source": [
    "# Your code here:\n",
    "google_missing_removed.drop(['Price','Review_isnull','Reviews_numeric'],inplace=True,axis=1)"
   ]
  },
  {
   "cell_type": "markdown",
   "metadata": {},
   "source": [
    "Now check the variable types of `google_missing_removed`. Make sure:\n",
    "\n",
    "* `Size` and `Price` columns have been removed.\n",
    "* `Rating`, `Reviews`, and `Price Numerical` have the type of `float64`.\n",
    "* `Last Updated` has the type of `datetime64`."
   ]
  },
  {
   "cell_type": "code",
   "execution_count": 26,
   "metadata": {},
   "outputs": [
    {
     "name": "stdout",
     "output_type": "stream",
     "text": [
      "Size feature in DF?  False\n",
      "\n",
      "Price feature in DF?  False\n",
      "\n"
     ]
    },
    {
     "data": {
      "text/plain": [
       "App                        object\n",
       "Category                   object\n",
       "Rating                    float64\n",
       "Reviews                   float64\n",
       "Installs                   object\n",
       "Type                       object\n",
       "Content Rating             object\n",
       "Genres                     object\n",
       "Last Updated       datetime64[ns]\n",
       "Current Ver                object\n",
       "Android Ver                object\n",
       "Price_numerical           float64\n",
       "dtype: object"
      ]
     },
     "metadata": {},
     "output_type": "display_data"
    }
   ],
   "source": [
    "# Your code here\n",
    "print('Size feature in DF? ','Size' in google_missing_removed.columns.tolist())\n",
    "print('')\n",
    "print('Price feature in DF? ','Price' in google_missing_removed.columns.tolist())\n",
    "print('')\n",
    "display(google_missing_removed.dtypes)"
   ]
  },
  {
   "cell_type": "markdown",
   "metadata": {},
   "source": [
    "# Challenge 2 - Loading and Extracting Features from the Second Dataset"
   ]
  },
  {
   "cell_type": "markdown",
   "metadata": {},
   "source": [
    "Load the second dataset to the variable `google_reviews`. The data is in the file `googleplaystore_user_reviews.csv`."
   ]
  },
  {
   "cell_type": "code",
   "execution_count": 27,
   "metadata": {},
   "outputs": [],
   "source": [
    "# Your code here:\n",
    "\n",
    "google_review = pd.read_csv('../googleplaystore_user_reviews.csv')"
   ]
  },
  {
   "cell_type": "markdown",
   "metadata": {},
   "source": [
    "#### This dataset contains the top 100 reviews for each app. \n",
    "\n",
    "Let's examine this dataset using the `head` function"
   ]
  },
  {
   "cell_type": "code",
   "execution_count": 28,
   "metadata": {},
   "outputs": [
    {
     "data": {
      "text/html": [
       "<div>\n",
       "<style scoped>\n",
       "    .dataframe tbody tr th:only-of-type {\n",
       "        vertical-align: middle;\n",
       "    }\n",
       "\n",
       "    .dataframe tbody tr th {\n",
       "        vertical-align: top;\n",
       "    }\n",
       "\n",
       "    .dataframe thead th {\n",
       "        text-align: right;\n",
       "    }\n",
       "</style>\n",
       "<table border=\"1\" class=\"dataframe\">\n",
       "  <thead>\n",
       "    <tr style=\"text-align: right;\">\n",
       "      <th></th>\n",
       "      <th>App</th>\n",
       "      <th>Translated_Review</th>\n",
       "      <th>Sentiment</th>\n",
       "      <th>Sentiment_Polarity</th>\n",
       "      <th>Sentiment_Subjectivity</th>\n",
       "    </tr>\n",
       "  </thead>\n",
       "  <tbody>\n",
       "    <tr>\n",
       "      <th>0</th>\n",
       "      <td>10 Best Foods for You</td>\n",
       "      <td>I like eat delicious food. That's I'm cooking ...</td>\n",
       "      <td>Positive</td>\n",
       "      <td>1.00</td>\n",
       "      <td>0.533333</td>\n",
       "    </tr>\n",
       "    <tr>\n",
       "      <th>1</th>\n",
       "      <td>10 Best Foods for You</td>\n",
       "      <td>This help eating healthy exercise regular basis</td>\n",
       "      <td>Positive</td>\n",
       "      <td>0.25</td>\n",
       "      <td>0.288462</td>\n",
       "    </tr>\n",
       "    <tr>\n",
       "      <th>2</th>\n",
       "      <td>10 Best Foods for You</td>\n",
       "      <td>NaN</td>\n",
       "      <td>NaN</td>\n",
       "      <td>NaN</td>\n",
       "      <td>NaN</td>\n",
       "    </tr>\n",
       "    <tr>\n",
       "      <th>3</th>\n",
       "      <td>10 Best Foods for You</td>\n",
       "      <td>Works great especially going grocery store</td>\n",
       "      <td>Positive</td>\n",
       "      <td>0.40</td>\n",
       "      <td>0.875000</td>\n",
       "    </tr>\n",
       "    <tr>\n",
       "      <th>4</th>\n",
       "      <td>10 Best Foods for You</td>\n",
       "      <td>Best idea us</td>\n",
       "      <td>Positive</td>\n",
       "      <td>1.00</td>\n",
       "      <td>0.300000</td>\n",
       "    </tr>\n",
       "  </tbody>\n",
       "</table>\n",
       "</div>"
      ],
      "text/plain": [
       "                     App                                  Translated_Review  \\\n",
       "0  10 Best Foods for You  I like eat delicious food. That's I'm cooking ...   \n",
       "1  10 Best Foods for You    This help eating healthy exercise regular basis   \n",
       "2  10 Best Foods for You                                                NaN   \n",
       "3  10 Best Foods for You         Works great especially going grocery store   \n",
       "4  10 Best Foods for You                                       Best idea us   \n",
       "\n",
       "  Sentiment  Sentiment_Polarity  Sentiment_Subjectivity  \n",
       "0  Positive                1.00                0.533333  \n",
       "1  Positive                0.25                0.288462  \n",
       "2       NaN                 NaN                     NaN  \n",
       "3  Positive                0.40                0.875000  \n",
       "4  Positive                1.00                0.300000  "
      ]
     },
     "metadata": {},
     "output_type": "display_data"
    }
   ],
   "source": [
    "# Your code here\n",
    "display(google_review.head())"
   ]
  },
  {
   "cell_type": "markdown",
   "metadata": {},
   "source": [
    "#### The main piece of information we would like to extract from this dataset is the proportion of positive reviews of each app. \n",
    "\n",
    "Columns like `Sentiment_Polarity` and `Sentiment_Subjectivity` are not to our interests because we have no clue how to use them. We do not care about `Translated_Review` because natural language processing is too complex for us at present (in fact the `Sentiment`, `Sentiment_Polarity`, and `Sentiment_Subjectivity` columns are derived from `Translated_Review` the data scientists). \n",
    "\n",
    "What we care about in this challenge is `Sentiment`. To be more precise, we care about **what is the proportion of *Positive* sentiment of each app**. This will require us to aggregate the `Sentiment` data by `App` in order to calculate the proportions.\n",
    "\n",
    "Now that you are clear about what we are trying to achieve, follow the steps below that will walk you through towards our goal."
   ]
  },
  {
   "cell_type": "markdown",
   "metadata": {},
   "source": [
    "#### Our first step will be to remove all rows with missing sentiment. \n",
    "\n",
    "In the next cell, drop all rows with missing data using the `dropna()` function and assign this new dataframe to `review_missing_removed`."
   ]
  },
  {
   "cell_type": "code",
   "execution_count": 29,
   "metadata": {},
   "outputs": [],
   "source": [
    "# Your code here:\n",
    "google_review=google_review.dropna(subset=['Sentiment'],axis=0)"
   ]
  },
  {
   "cell_type": "markdown",
   "metadata": {},
   "source": [
    "#### Now, use the `value_counts()` function ([documentation](https://pandas.pydata.org/pandas-docs/stable/generated/pandas.Series.value_counts.html)) to get a sense on how many apps are in this dataset and their review counts."
   ]
  },
  {
   "cell_type": "code",
   "execution_count": 30,
   "metadata": {},
   "outputs": [
    {
     "name": "stdout",
     "output_type": "stream",
     "text": [
      "App Feature:\n"
     ]
    },
    {
     "data": {
      "text/plain": [
       "Bowmasters                                            312\n",
       "Helix Jump                                            273\n",
       "Angry Birds Classic                                   273\n",
       "Calorie Counter - MyFitnessPal                        255\n",
       "Duolingo: Learn Languages Free                        240\n",
       "Candy Crush Saga                                      240\n",
       "Garena Free Fire                                      222\n",
       "8 Ball Pool                                           219\n",
       "Calorie Counter - Macros                              200\n",
       "10 Best Foods for You                                 194\n",
       "CBS Sports App - Scores, News, Stats & Watch Live     192\n",
       "Google Photos                                         191\n",
       "Alto's Adventure                                      175\n",
       "8fit Workouts & Meal Planner                          171\n",
       "DRAGON BALL LEGENDS                                   167\n",
       "Candy Crush Soda Saga                                 166\n",
       "Clash Royale                                          165\n",
       "Adobe Acrobat Reader                                  162\n",
       "Episode - Choose Your Story                           160\n",
       "Flow Free                                             154\n",
       "Block Puzzle                                          154\n",
       "Bubble Shooter                                        145\n",
       "Calorie Counter - MyNetDiary                          139\n",
       "Agar.io                                               136\n",
       "Cooking Fever                                         135\n",
       "Calorie Counter & Diet Tracker                        135\n",
       "Galaxy Attack: Alien Shooter                          134\n",
       "Colorfy: Coloring Book for Adults - Free              133\n",
       "Gardenscapes                                          133\n",
       "Facebook                                              132\n",
       "                                                     ... \n",
       "Calculator with Percent (Free)                          2\n",
       "Calendar Widget Month + Agenda                          2\n",
       "Draw Your Game                                          2\n",
       "CM Browser - Ad Blocker , Fast Download , Privacy       2\n",
       "Extreme Car Driving Simulator                           2\n",
       "Caf - Mon Compte                                        1\n",
       "Best Fiends - Free Puzzle Game                          1\n",
       "Apartment Decorating Ideas                              1\n",
       "Calendar+ Schedule Planner App                          1\n",
       "Draw A Stickman                                         1\n",
       "Draw a Stickman: EPIC 2                                 1\n",
       "Discover Mobile                                         1\n",
       "Google Slides                                           1\n",
       "CallApp: Caller ID, Blocker & Phone Call Recorder       1\n",
       "Google Trips - Travel Planner                           1\n",
       "Calculator - unit converter                             1\n",
       "CBS News                                                1\n",
       "Drawing for Kids Learning Games for Toddlers age 3      1\n",
       "HD Camera                                               1\n",
       "Fruit Block - Puzzle Legend                             1\n",
       "HomeWork                                                1\n",
       "DashClock Widget                                        1\n",
       "Draw In                                                 1\n",
       "GPS Map Free                                            1\n",
       "All-in-One Mahjong 3 FREE                               1\n",
       "Daily Workouts - Exercise Fitness Routine Trainer       1\n",
       "Best Ovulation Tracker Fertility Calendar App Glow      1\n",
       "Free Live Talk-Video Call                               1\n",
       "Caller ID +                                             1\n",
       "Bed Time Fan - White Noise Sleep Sounds                 1\n",
       "Name: App, Length: 865, dtype: int64"
      ]
     },
     "metadata": {},
     "output_type": "display_data"
    },
    {
     "name": "stdout",
     "output_type": "stream",
     "text": [
      "\n",
      "Sentiment Feature:\n"
     ]
    },
    {
     "data": {
      "text/plain": [
       "Positive    23998\n",
       "Negative     8271\n",
       "Neutral      5163\n",
       "Name: Sentiment, dtype: int64"
      ]
     },
     "metadata": {},
     "output_type": "display_data"
    },
    {
     "name": "stdout",
     "output_type": "stream",
     "text": [
      "\n"
     ]
    }
   ],
   "source": [
    "# Your code here:\n",
    "print('App Feature:')\n",
    "display(google_review['App'].value_counts())\n",
    "print('')\n",
    "print('Sentiment Feature:')\n",
    "display(google_review['Sentiment'].value_counts())\n",
    "print('')"
   ]
  },
  {
   "cell_type": "markdown",
   "metadata": {},
   "source": [
    "#### Now the tough part comes. Let's plan how we will achieve our goal:\n",
    "\n",
    "1. We will count the number of reviews that contain *Positive* in the `Sentiment` column.\n",
    "\n",
    "1. We will create a new dataframe to contain the `App` name, the number of positive reviews, and the total number of reviews of each app.\n",
    "\n",
    "1. We will then loop the new dataframe to calculate the postivie review portion of each app."
   ]
  },
  {
   "cell_type": "markdown",
   "metadata": {},
   "source": [
    "#### Step 1: Count the number of positive reviews.\n",
    "\n",
    "In the following cell, write a function that takes a column and returns the number of times *Positive* appears in the column. \n",
    "\n",
    "*Hint: One option is to use the `np.where()` function ([documentation](https://docs.scipy.org/doc/numpy-1.13.0/reference/generated/numpy.where.html)).*"
   ]
  },
  {
   "cell_type": "code",
   "execution_count": 31,
   "metadata": {},
   "outputs": [],
   "source": [
    "# Your code below\n",
    "\n",
    "def positive_function(x):\n",
    "    \"\"\"\n",
    "    Count how many times the string `Positive` appears in a column (exact string match).\n",
    "    \n",
    "    Args:\n",
    "        x: data column\n",
    "    \n",
    "    Returns:\n",
    "        The number of occurrences of `Positive` in the column data.\n",
    "    \"\"\"\n",
    "    return sum(np.where(x=='Positive',1,0))"
   ]
  },
  {
   "cell_type": "markdown",
   "metadata": {},
   "source": [
    "#### Step 2: Create a new dataframe to contain the `App` name, the number of positive reviews, and the total number of reviews of each app\n",
    "\n",
    "We will group `review_missing_removed` by the `App` column, then aggregate the grouped dataframe on the number of positive reviews and the total review counts of each app. The result will be assigned to a new variable `google_agg`. Here is the ([documentation on how to achieve it](https://pandas.pydata.org/pandas-docs/stable/generated/pandas.core.groupby.DataFrameGroupBy.agg.html)). Take a moment or two to read the documentation and google examples because it is pretty complex.\n",
    "\n",
    "When you obtain `google_agg`, check its values to make sure it has an `App` column as its index as well as a `Positive` column and a `Total` column. Your output should look like:\n",
    "\n",
    "![Positive Reviews Agg](positive-review-agg.png)\n",
    "\n",
    "*Hint: Use `positive_function` you created earlier as part of the param passed to the `agg()` function in order to aggregate the number of positive reviews.*\n",
    "\n",
    "#### Bonus:\n",
    "\n",
    "As of Pandas v0.23.4, you may opt to supply an array or an object to `agg()`. If you use the array param, you'll need to rename the columns so that their names are `Positive` and `Total`. Using the object param will allow you to create the aggregated columns with the desirable names without renaming them. However, you will probably encounter a warning indicating supplying an object to `agg()` will become outdated. It's up to you which way you will use. Try both ways out. Any way is fine as long as it works."
   ]
  },
  {
   "cell_type": "code",
   "execution_count": 32,
   "metadata": {},
   "outputs": [
    {
     "name": "stdout",
     "output_type": "stream",
     "text": [
      "865\n"
     ]
    }
   ],
   "source": [
    "# Your code here:\n",
    "apps=google_review['App'].unique().tolist()\n",
    "print(len(apps))\n",
    "pos_and_total=[]\n",
    "\n",
    "for app_name in apps:\n",
    "    df_temp=google_review[google_review['App']==app_name]\n",
    "    pos_and_total.append([positive_function(df_temp['Sentiment']),len(df_temp)])"
   ]
  },
  {
   "cell_type": "code",
   "execution_count": 33,
   "metadata": {},
   "outputs": [],
   "source": [
    "google_agg=pd.DataFrame(pos_and_total,columns=['Positive','Total'],index=apps)\n",
    "google_agg.index.name='App'"
   ]
  },
  {
   "cell_type": "markdown",
   "metadata": {},
   "source": [
    "Print the first 5 rows of `google_agg` to check it."
   ]
  },
  {
   "cell_type": "code",
   "execution_count": 34,
   "metadata": {},
   "outputs": [
    {
     "data": {
      "text/html": [
       "<div>\n",
       "<style scoped>\n",
       "    .dataframe tbody tr th:only-of-type {\n",
       "        vertical-align: middle;\n",
       "    }\n",
       "\n",
       "    .dataframe tbody tr th {\n",
       "        vertical-align: top;\n",
       "    }\n",
       "\n",
       "    .dataframe thead th {\n",
       "        text-align: right;\n",
       "    }\n",
       "</style>\n",
       "<table border=\"1\" class=\"dataframe\">\n",
       "  <thead>\n",
       "    <tr style=\"text-align: right;\">\n",
       "      <th></th>\n",
       "      <th>Positive</th>\n",
       "      <th>Total</th>\n",
       "    </tr>\n",
       "    <tr>\n",
       "      <th>App</th>\n",
       "      <th></th>\n",
       "      <th></th>\n",
       "    </tr>\n",
       "  </thead>\n",
       "  <tbody>\n",
       "    <tr>\n",
       "      <th>10 Best Foods for You</th>\n",
       "      <td>162</td>\n",
       "      <td>194</td>\n",
       "    </tr>\n",
       "    <tr>\n",
       "      <th>104 找工作 - 找工作 找打工 找兼職 履歷健檢 履歷診療室</th>\n",
       "      <td>31</td>\n",
       "      <td>40</td>\n",
       "    </tr>\n",
       "    <tr>\n",
       "      <th>11st</th>\n",
       "      <td>23</td>\n",
       "      <td>40</td>\n",
       "    </tr>\n",
       "    <tr>\n",
       "      <th>1800 Contacts - Lens Store</th>\n",
       "      <td>64</td>\n",
       "      <td>80</td>\n",
       "    </tr>\n",
       "    <tr>\n",
       "      <th>1LINE – One Line with One Touch</th>\n",
       "      <td>27</td>\n",
       "      <td>38</td>\n",
       "    </tr>\n",
       "  </tbody>\n",
       "</table>\n",
       "</div>"
      ],
      "text/plain": [
       "                                  Positive  Total\n",
       "App                                              \n",
       "10 Best Foods for You                  162    194\n",
       "104 找工作 - 找工作 找打工 找兼職 履歷健檢 履歷診療室        31     40\n",
       "11st                                    23     40\n",
       "1800 Contacts - Lens Store              64     80\n",
       "1LINE – One Line with One Touch         27     38"
      ]
     },
     "metadata": {},
     "output_type": "display_data"
    }
   ],
   "source": [
    "# Your code here\n",
    "display(google_agg.head())"
   ]
  },
  {
   "cell_type": "markdown",
   "metadata": {},
   "source": [
    "#### Add a derived column to `google_agg` that is the ratio of the `Positive` and the `Total` columns. Call this column `Positive Ratio`. \n",
    "\n",
    "Make sure to account for the case where the denominator is zero using the `np.where()` function."
   ]
  },
  {
   "cell_type": "code",
   "execution_count": 35,
   "metadata": {},
   "outputs": [
    {
     "name": "stdout",
     "output_type": "stream",
     "text": [
      "How many NaN values are in the calculater Positive Ratio?  0\n"
     ]
    }
   ],
   "source": [
    "# Your code here:\n",
    "pos_ratio=np.where(google_agg['Total']==0,np.nan,google_agg['Positive']/google_agg['Total'])\n",
    "print('How many NaN values are in the calculater Positive Ratio? ',np.sum(np.isnan(pos_ratio)))\n",
    "\n",
    "google_agg['Positive Ratio']=pos_ratio"
   ]
  },
  {
   "cell_type": "markdown",
   "metadata": {},
   "source": [
    "#### Now drop the `Positive` and `Total` columns. Do this with `inplace=True`."
   ]
  },
  {
   "cell_type": "code",
   "execution_count": 36,
   "metadata": {},
   "outputs": [],
   "source": [
    "# Your code here:\n",
    "google_agg.drop(labels=['Positive','Total'],axis=1,inplace=True)"
   ]
  },
  {
   "cell_type": "markdown",
   "metadata": {},
   "source": [
    "Print the first 5 rows of `google_agg`. Your output should look like:\n",
    "\n",
    "![Positive Reviews Agg](positive-review-ratio.png)"
   ]
  },
  {
   "cell_type": "code",
   "execution_count": 37,
   "metadata": {},
   "outputs": [
    {
     "data": {
      "text/html": [
       "<div>\n",
       "<style scoped>\n",
       "    .dataframe tbody tr th:only-of-type {\n",
       "        vertical-align: middle;\n",
       "    }\n",
       "\n",
       "    .dataframe tbody tr th {\n",
       "        vertical-align: top;\n",
       "    }\n",
       "\n",
       "    .dataframe thead th {\n",
       "        text-align: right;\n",
       "    }\n",
       "</style>\n",
       "<table border=\"1\" class=\"dataframe\">\n",
       "  <thead>\n",
       "    <tr style=\"text-align: right;\">\n",
       "      <th></th>\n",
       "      <th>Positive Ratio</th>\n",
       "    </tr>\n",
       "    <tr>\n",
       "      <th>App</th>\n",
       "      <th></th>\n",
       "    </tr>\n",
       "  </thead>\n",
       "  <tbody>\n",
       "    <tr>\n",
       "      <th>10 Best Foods for You</th>\n",
       "      <td>0.835052</td>\n",
       "    </tr>\n",
       "    <tr>\n",
       "      <th>104 找工作 - 找工作 找打工 找兼職 履歷健檢 履歷診療室</th>\n",
       "      <td>0.775000</td>\n",
       "    </tr>\n",
       "    <tr>\n",
       "      <th>11st</th>\n",
       "      <td>0.575000</td>\n",
       "    </tr>\n",
       "    <tr>\n",
       "      <th>1800 Contacts - Lens Store</th>\n",
       "      <td>0.800000</td>\n",
       "    </tr>\n",
       "    <tr>\n",
       "      <th>1LINE – One Line with One Touch</th>\n",
       "      <td>0.710526</td>\n",
       "    </tr>\n",
       "  </tbody>\n",
       "</table>\n",
       "</div>"
      ],
      "text/plain": [
       "                                  Positive Ratio\n",
       "App                                             \n",
       "10 Best Foods for You                   0.835052\n",
       "104 找工作 - 找工作 找打工 找兼職 履歷健檢 履歷診療室        0.775000\n",
       "11st                                    0.575000\n",
       "1800 Contacts - Lens Store              0.800000\n",
       "1LINE – One Line with One Touch         0.710526"
      ]
     },
     "metadata": {},
     "output_type": "display_data"
    }
   ],
   "source": [
    "# Your code here:\n",
    "display(google_agg.head())"
   ]
  },
  {
   "cell_type": "markdown",
   "metadata": {},
   "source": [
    "# Challenge 3 - Join the Dataframes\n",
    "\n",
    "In this part of the lab, we will join the two dataframes and obtain a dataframe that contains features we can use in our ML algorithm.\n",
    "\n",
    "In the next cell, join the `google_missing_removed` dataframe with the `google_agg` dataframe on the `App` column. Assign this dataframe to the variable `google`."
   ]
  },
  {
   "cell_type": "code",
   "execution_count": 38,
   "metadata": {},
   "outputs": [],
   "source": [
    "# Your code here:\n",
    "google=pd.merge(google_missing_removed,google_agg,on='App')"
   ]
  },
  {
   "cell_type": "markdown",
   "metadata": {},
   "source": [
    "#### Let's look at the final result using the `head()` function. Your final product should look like:\n",
    "\n",
    "![Final Product](google-final-head.png)"
   ]
  },
  {
   "cell_type": "code",
   "execution_count": 39,
   "metadata": {},
   "outputs": [
    {
     "data": {
      "text/html": [
       "<div>\n",
       "<style scoped>\n",
       "    .dataframe tbody tr th:only-of-type {\n",
       "        vertical-align: middle;\n",
       "    }\n",
       "\n",
       "    .dataframe tbody tr th {\n",
       "        vertical-align: top;\n",
       "    }\n",
       "\n",
       "    .dataframe thead th {\n",
       "        text-align: right;\n",
       "    }\n",
       "</style>\n",
       "<table border=\"1\" class=\"dataframe\">\n",
       "  <thead>\n",
       "    <tr style=\"text-align: right;\">\n",
       "      <th></th>\n",
       "      <th>App</th>\n",
       "      <th>Category</th>\n",
       "      <th>Rating</th>\n",
       "      <th>Reviews</th>\n",
       "      <th>Installs</th>\n",
       "      <th>Type</th>\n",
       "      <th>Content Rating</th>\n",
       "      <th>Genres</th>\n",
       "      <th>Last Updated</th>\n",
       "      <th>Current Ver</th>\n",
       "      <th>Android Ver</th>\n",
       "      <th>Price_numerical</th>\n",
       "      <th>Positive Ratio</th>\n",
       "    </tr>\n",
       "  </thead>\n",
       "  <tbody>\n",
       "    <tr>\n",
       "      <th>0</th>\n",
       "      <td>Coloring book moana</td>\n",
       "      <td>ART_AND_DESIGN</td>\n",
       "      <td>3.9</td>\n",
       "      <td>967.0</td>\n",
       "      <td>500,000+</td>\n",
       "      <td>Free</td>\n",
       "      <td>Everyone</td>\n",
       "      <td>Art &amp; Design;Pretend Play</td>\n",
       "      <td>2018-01-15</td>\n",
       "      <td>2.0.0</td>\n",
       "      <td>4.0.3 and up</td>\n",
       "      <td>0.0</td>\n",
       "      <td>0.590909</td>\n",
       "    </tr>\n",
       "    <tr>\n",
       "      <th>1</th>\n",
       "      <td>Coloring book moana</td>\n",
       "      <td>FAMILY</td>\n",
       "      <td>3.9</td>\n",
       "      <td>974.0</td>\n",
       "      <td>500,000+</td>\n",
       "      <td>Free</td>\n",
       "      <td>Everyone</td>\n",
       "      <td>Art &amp; Design;Pretend Play</td>\n",
       "      <td>2018-01-15</td>\n",
       "      <td>2.0.0</td>\n",
       "      <td>4.0.3 and up</td>\n",
       "      <td>0.0</td>\n",
       "      <td>0.590909</td>\n",
       "    </tr>\n",
       "    <tr>\n",
       "      <th>2</th>\n",
       "      <td>Garden Coloring Book</td>\n",
       "      <td>ART_AND_DESIGN</td>\n",
       "      <td>4.4</td>\n",
       "      <td>13791.0</td>\n",
       "      <td>1,000,000+</td>\n",
       "      <td>Free</td>\n",
       "      <td>Everyone</td>\n",
       "      <td>Art &amp; Design</td>\n",
       "      <td>2017-09-20</td>\n",
       "      <td>2.9.2</td>\n",
       "      <td>3.0 and up</td>\n",
       "      <td>0.0</td>\n",
       "      <td>0.711111</td>\n",
       "    </tr>\n",
       "    <tr>\n",
       "      <th>3</th>\n",
       "      <td>FlipaClip - Cartoon animation</td>\n",
       "      <td>ART_AND_DESIGN</td>\n",
       "      <td>4.3</td>\n",
       "      <td>194216.0</td>\n",
       "      <td>5,000,000+</td>\n",
       "      <td>Free</td>\n",
       "      <td>Everyone</td>\n",
       "      <td>Art &amp; Design</td>\n",
       "      <td>2018-08-03</td>\n",
       "      <td>2.2.5</td>\n",
       "      <td>4.0.3 and up</td>\n",
       "      <td>0.0</td>\n",
       "      <td>1.000000</td>\n",
       "    </tr>\n",
       "    <tr>\n",
       "      <th>4</th>\n",
       "      <td>Boys Photo Editor - Six Pack &amp; Men's Suit</td>\n",
       "      <td>ART_AND_DESIGN</td>\n",
       "      <td>4.1</td>\n",
       "      <td>654.0</td>\n",
       "      <td>100,000+</td>\n",
       "      <td>Free</td>\n",
       "      <td>Everyone</td>\n",
       "      <td>Art &amp; Design</td>\n",
       "      <td>2018-03-20</td>\n",
       "      <td>1.1</td>\n",
       "      <td>4.0.3 and up</td>\n",
       "      <td>0.0</td>\n",
       "      <td>0.605263</td>\n",
       "    </tr>\n",
       "  </tbody>\n",
       "</table>\n",
       "</div>"
      ],
      "text/plain": [
       "                                         App        Category  Rating  \\\n",
       "0                        Coloring book moana  ART_AND_DESIGN     3.9   \n",
       "1                        Coloring book moana          FAMILY     3.9   \n",
       "2                       Garden Coloring Book  ART_AND_DESIGN     4.4   \n",
       "3              FlipaClip - Cartoon animation  ART_AND_DESIGN     4.3   \n",
       "4  Boys Photo Editor - Six Pack & Men's Suit  ART_AND_DESIGN     4.1   \n",
       "\n",
       "    Reviews    Installs  Type Content Rating                     Genres  \\\n",
       "0     967.0    500,000+  Free       Everyone  Art & Design;Pretend Play   \n",
       "1     974.0    500,000+  Free       Everyone  Art & Design;Pretend Play   \n",
       "2   13791.0  1,000,000+  Free       Everyone               Art & Design   \n",
       "3  194216.0  5,000,000+  Free       Everyone               Art & Design   \n",
       "4     654.0    100,000+  Free       Everyone               Art & Design   \n",
       "\n",
       "  Last Updated Current Ver   Android Ver  Price_numerical  Positive Ratio  \n",
       "0   2018-01-15       2.0.0  4.0.3 and up              0.0        0.590909  \n",
       "1   2018-01-15       2.0.0  4.0.3 and up              0.0        0.590909  \n",
       "2   2017-09-20       2.9.2    3.0 and up              0.0        0.711111  \n",
       "3   2018-08-03       2.2.5  4.0.3 and up              0.0        1.000000  \n",
       "4   2018-03-20         1.1  4.0.3 and up              0.0        0.605263  "
      ]
     },
     "metadata": {},
     "output_type": "display_data"
    }
   ],
   "source": [
    "# Your code here:\n",
    "display(google.head())"
   ]
  },
  {
   "cell_type": "markdown",
   "metadata": {},
   "source": [
    "___"
   ]
  },
  {
   "cell_type": "markdown",
   "metadata": {},
   "source": [
    "## BONUS BONUS: Train a SVM SVC"
   ]
  },
  {
   "cell_type": "markdown",
   "metadata": {},
   "source": [
    "Import the necessary modules"
   ]
  },
  {
   "cell_type": "code",
   "execution_count": 40,
   "metadata": {},
   "outputs": [],
   "source": [
    "import sklearn as sk\n",
    "from sklearn.model_selection import train_test_split\n",
    "from sklearn import svm"
   ]
  },
  {
   "cell_type": "code",
   "execution_count": 41,
   "metadata": {},
   "outputs": [
    {
     "data": {
      "text/plain": [
       "App                        object\n",
       "Category                   object\n",
       "Rating                    float64\n",
       "Reviews                   float64\n",
       "Installs                   object\n",
       "Type                       object\n",
       "Content Rating             object\n",
       "Genres                     object\n",
       "Last Updated       datetime64[ns]\n",
       "Current Ver                object\n",
       "Android Ver                object\n",
       "Price_numerical           float64\n",
       "Positive Ratio            float64\n",
       "dtype: object"
      ]
     },
     "execution_count": 41,
     "metadata": {},
     "output_type": "execute_result"
    }
   ],
   "source": [
    "google.dtypes"
   ]
  },
  {
   "cell_type": "markdown",
   "metadata": {},
   "source": [
    "Seems that we have 5 numerical features. Now we have to take the one we want to predict"
   ]
  },
  {
   "cell_type": "markdown",
   "metadata": {},
   "source": [
    "I want to predict Belive I can predict the positive ratio of an app. I will convert from object to numerical\n",
    "Installs Feature. Also I have to convert Type to 2 categorical columns, Free and Paid"
   ]
  },
  {
   "cell_type": "code",
   "execution_count": 55,
   "metadata": {},
   "outputs": [
    {
     "name": "stdout",
     "output_type": "stream",
     "text": [
      "9360\n"
     ]
    },
    {
     "data": {
      "text/html": [
       "<div>\n",
       "<style scoped>\n",
       "    .dataframe tbody tr th:only-of-type {\n",
       "        vertical-align: middle;\n",
       "    }\n",
       "\n",
       "    .dataframe tbody tr th {\n",
       "        vertical-align: top;\n",
       "    }\n",
       "\n",
       "    .dataframe thead th {\n",
       "        text-align: right;\n",
       "    }\n",
       "</style>\n",
       "<table border=\"1\" class=\"dataframe\">\n",
       "  <thead>\n",
       "    <tr style=\"text-align: right;\">\n",
       "      <th></th>\n",
       "      <th>App</th>\n",
       "      <th>Category</th>\n",
       "      <th>Rating</th>\n",
       "      <th>Reviews</th>\n",
       "      <th>Installs</th>\n",
       "      <th>Type</th>\n",
       "      <th>Content Rating</th>\n",
       "      <th>Genres</th>\n",
       "      <th>Last Updated</th>\n",
       "      <th>Current Ver</th>\n",
       "      <th>Android Ver</th>\n",
       "      <th>Price_numerical</th>\n",
       "      <th>Positive Ratio</th>\n",
       "    </tr>\n",
       "  </thead>\n",
       "  <tbody>\n",
       "    <tr>\n",
       "      <th>0</th>\n",
       "      <td>Photo Editor &amp; Candy Camera &amp; Grid &amp; ScrapBook</td>\n",
       "      <td>ART_AND_DESIGN</td>\n",
       "      <td>4.1</td>\n",
       "      <td>159.0</td>\n",
       "      <td>10,000+</td>\n",
       "      <td>Free</td>\n",
       "      <td>Everyone</td>\n",
       "      <td>Art &amp; Design</td>\n",
       "      <td>2018-01-07</td>\n",
       "      <td>1.0.0</td>\n",
       "      <td>4.0.3 and up</td>\n",
       "      <td>0.0</td>\n",
       "      <td>NaN</td>\n",
       "    </tr>\n",
       "    <tr>\n",
       "      <th>1</th>\n",
       "      <td>Coloring book moana</td>\n",
       "      <td>ART_AND_DESIGN</td>\n",
       "      <td>3.9</td>\n",
       "      <td>967.0</td>\n",
       "      <td>500,000+</td>\n",
       "      <td>Free</td>\n",
       "      <td>Everyone</td>\n",
       "      <td>Art &amp; Design;Pretend Play</td>\n",
       "      <td>2018-01-15</td>\n",
       "      <td>2.0.0</td>\n",
       "      <td>4.0.3 and up</td>\n",
       "      <td>0.0</td>\n",
       "      <td>0.590909</td>\n",
       "    </tr>\n",
       "    <tr>\n",
       "      <th>2</th>\n",
       "      <td>U Launcher Lite – FREE Live Cool Themes, Hide ...</td>\n",
       "      <td>ART_AND_DESIGN</td>\n",
       "      <td>4.7</td>\n",
       "      <td>87510.0</td>\n",
       "      <td>5,000,000+</td>\n",
       "      <td>Free</td>\n",
       "      <td>Everyone</td>\n",
       "      <td>Art &amp; Design</td>\n",
       "      <td>2018-08-01</td>\n",
       "      <td>1.2.4</td>\n",
       "      <td>4.0.3 and up</td>\n",
       "      <td>0.0</td>\n",
       "      <td>NaN</td>\n",
       "    </tr>\n",
       "  </tbody>\n",
       "</table>\n",
       "</div>"
      ],
      "text/plain": [
       "                                                 App        Category  Rating  \\\n",
       "0     Photo Editor & Candy Camera & Grid & ScrapBook  ART_AND_DESIGN     4.1   \n",
       "1                                Coloring book moana  ART_AND_DESIGN     3.9   \n",
       "2  U Launcher Lite – FREE Live Cool Themes, Hide ...  ART_AND_DESIGN     4.7   \n",
       "\n",
       "   Reviews    Installs  Type Content Rating                     Genres  \\\n",
       "0    159.0     10,000+  Free       Everyone               Art & Design   \n",
       "1    967.0    500,000+  Free       Everyone  Art & Design;Pretend Play   \n",
       "2  87510.0  5,000,000+  Free       Everyone               Art & Design   \n",
       "\n",
       "  Last Updated Current Ver   Android Ver  Price_numerical  Positive Ratio  \n",
       "0   2018-01-07       1.0.0  4.0.3 and up              0.0             NaN  \n",
       "1   2018-01-15       2.0.0  4.0.3 and up              0.0        0.590909  \n",
       "2   2018-08-01       1.2.4  4.0.3 and up              0.0             NaN  "
      ]
     },
     "metadata": {},
     "output_type": "display_data"
    }
   ],
   "source": [
    "# First I create a copy of google DF to work\n",
    "google_temp_temp=pd.merge(google_missing_removed,google_agg,on='App',how='left')\n",
    "google_work_temp=google_temp_temp.copy()\n",
    "print(len(google_work_temp))\n",
    "display(google_work_temp.head(3))"
   ]
  },
  {
   "cell_type": "code",
   "execution_count": 43,
   "metadata": {},
   "outputs": [],
   "source": [
    "# Installs_numerical\n",
    "list_num_ins=[]\n",
    "for item in google_work['Installs']:\n",
    "    if '+' in item:\n",
    "        list_num_ins.append(int(item.split('+')[0].replace(',','')))\n",
    "    else:\n",
    "        list_num_ins.append(int(item.replace(',','')))"
   ]
  },
  {
   "cell_type": "code",
   "execution_count": 44,
   "metadata": {},
   "outputs": [],
   "source": [
    "google_work['Installs_numerical']=list_num_ins"
   ]
  },
  {
   "cell_type": "code",
   "execution_count": 45,
   "metadata": {},
   "outputs": [],
   "source": [
    "# Now drop Installs feature\n",
    "google_work.drop(columns=['Installs'],axis=1,inplace=True)"
   ]
  },
  {
   "cell_type": "code",
   "execution_count": 46,
   "metadata": {},
   "outputs": [
    {
     "data": {
      "text/plain": [
       "['Free', 'Paid']"
      ]
     },
     "metadata": {},
     "output_type": "display_data"
    }
   ],
   "source": [
    "# Now lets categorize the Type feature\n",
    "types_unique=google_work['Type'].unique().tolist()\n",
    "\n",
    "display(types_unique)\n",
    "\n",
    "for item in types_unique:\n",
    "    google_work[item]=0\n",
    "\n",
    "for item in types_unique:\n",
    "    google_work.loc[google_work['Type'].str.contains(item),item]=1\n",
    "    google_work.loc[~google_work['Type'].str.contains(item),item]=0"
   ]
  },
  {
   "cell_type": "code",
   "execution_count": 47,
   "metadata": {},
   "outputs": [
    {
     "data": {
      "text/plain": [
       "App                           object\n",
       "Category                      object\n",
       "Rating                       float64\n",
       "Reviews                      float64\n",
       "Type                          object\n",
       "Content Rating                object\n",
       "Genres                        object\n",
       "Last Updated          datetime64[ns]\n",
       "Current Ver                   object\n",
       "Android Ver                   object\n",
       "Price_numerical              float64\n",
       "Positive Ratio               float64\n",
       "Installs_numerical             int64\n",
       "Free                           int64\n",
       "Paid                           int64\n",
       "dtype: object"
      ]
     },
     "metadata": {},
     "output_type": "display_data"
    }
   ],
   "source": [
    "display(google_work.dtypes)"
   ]
  },
  {
   "cell_type": "code",
   "execution_count": 48,
   "metadata": {},
   "outputs": [
    {
     "data": {
      "text/html": [
       "<div>\n",
       "<style scoped>\n",
       "    .dataframe tbody tr th:only-of-type {\n",
       "        vertical-align: middle;\n",
       "    }\n",
       "\n",
       "    .dataframe tbody tr th {\n",
       "        vertical-align: top;\n",
       "    }\n",
       "\n",
       "    .dataframe thead th {\n",
       "        text-align: right;\n",
       "    }\n",
       "</style>\n",
       "<table border=\"1\" class=\"dataframe\">\n",
       "  <thead>\n",
       "    <tr style=\"text-align: right;\">\n",
       "      <th></th>\n",
       "      <th>App</th>\n",
       "      <th>Category</th>\n",
       "      <th>Rating</th>\n",
       "      <th>Reviews</th>\n",
       "      <th>Type</th>\n",
       "      <th>Content Rating</th>\n",
       "      <th>Genres</th>\n",
       "      <th>Last Updated</th>\n",
       "      <th>Current Ver</th>\n",
       "      <th>Android Ver</th>\n",
       "      <th>Price_numerical</th>\n",
       "      <th>Positive Ratio</th>\n",
       "      <th>Installs_numerical</th>\n",
       "      <th>Free</th>\n",
       "      <th>Paid</th>\n",
       "    </tr>\n",
       "  </thead>\n",
       "  <tbody>\n",
       "    <tr>\n",
       "      <th>0</th>\n",
       "      <td>Coloring book moana</td>\n",
       "      <td>ART_AND_DESIGN</td>\n",
       "      <td>3.9</td>\n",
       "      <td>967.0</td>\n",
       "      <td>Free</td>\n",
       "      <td>Everyone</td>\n",
       "      <td>Art &amp; Design;Pretend Play</td>\n",
       "      <td>2018-01-15</td>\n",
       "      <td>2.0.0</td>\n",
       "      <td>4.0.3 and up</td>\n",
       "      <td>0.0</td>\n",
       "      <td>0.590909</td>\n",
       "      <td>500000</td>\n",
       "      <td>1</td>\n",
       "      <td>0</td>\n",
       "    </tr>\n",
       "    <tr>\n",
       "      <th>1</th>\n",
       "      <td>Coloring book moana</td>\n",
       "      <td>FAMILY</td>\n",
       "      <td>3.9</td>\n",
       "      <td>974.0</td>\n",
       "      <td>Free</td>\n",
       "      <td>Everyone</td>\n",
       "      <td>Art &amp; Design;Pretend Play</td>\n",
       "      <td>2018-01-15</td>\n",
       "      <td>2.0.0</td>\n",
       "      <td>4.0.3 and up</td>\n",
       "      <td>0.0</td>\n",
       "      <td>0.590909</td>\n",
       "      <td>500000</td>\n",
       "      <td>1</td>\n",
       "      <td>0</td>\n",
       "    </tr>\n",
       "    <tr>\n",
       "      <th>2</th>\n",
       "      <td>Garden Coloring Book</td>\n",
       "      <td>ART_AND_DESIGN</td>\n",
       "      <td>4.4</td>\n",
       "      <td>13791.0</td>\n",
       "      <td>Free</td>\n",
       "      <td>Everyone</td>\n",
       "      <td>Art &amp; Design</td>\n",
       "      <td>2017-09-20</td>\n",
       "      <td>2.9.2</td>\n",
       "      <td>3.0 and up</td>\n",
       "      <td>0.0</td>\n",
       "      <td>0.711111</td>\n",
       "      <td>1000000</td>\n",
       "      <td>1</td>\n",
       "      <td>0</td>\n",
       "    </tr>\n",
       "  </tbody>\n",
       "</table>\n",
       "</div>"
      ],
      "text/plain": [
       "                    App        Category  Rating  Reviews  Type Content Rating  \\\n",
       "0   Coloring book moana  ART_AND_DESIGN     3.9    967.0  Free       Everyone   \n",
       "1   Coloring book moana          FAMILY     3.9    974.0  Free       Everyone   \n",
       "2  Garden Coloring Book  ART_AND_DESIGN     4.4  13791.0  Free       Everyone   \n",
       "\n",
       "                      Genres Last Updated Current Ver   Android Ver  \\\n",
       "0  Art & Design;Pretend Play   2018-01-15       2.0.0  4.0.3 and up   \n",
       "1  Art & Design;Pretend Play   2018-01-15       2.0.0  4.0.3 and up   \n",
       "2               Art & Design   2017-09-20       2.9.2    3.0 and up   \n",
       "\n",
       "   Price_numerical  Positive Ratio  Installs_numerical  Free  Paid  \n",
       "0              0.0        0.590909              500000     1     0  \n",
       "1              0.0        0.590909              500000     1     0  \n",
       "2              0.0        0.711111             1000000     1     0  "
      ]
     },
     "metadata": {},
     "output_type": "display_data"
    }
   ],
   "source": [
    "display(google_work.head(3))"
   ]
  },
  {
   "cell_type": "code",
   "execution_count": 49,
   "metadata": {},
   "outputs": [
    {
     "data": {
      "text/plain": [
       "array(['10 Best Foods for You', '104 找工作 - 找工作 找打工 找兼職 履歷健檢 履歷診療室',\n",
       "       '11st', '1800 Contacts - Lens Store',\n",
       "       '1LINE – One Line with One Touch',\n",
       "       '2018Emoji Keyboard 😂 Emoticons Lite -sticker&gif',\n",
       "       '21-Day Meditation Experience',\n",
       "       '2Date Dating App, Love and matching',\n",
       "       '2GIS: directory & navigator', '2RedBeans',\n",
       "       '2ndLine - Second Phone Number',\n",
       "       '30 Day Fitness Challenge - Workout at Home',\n",
       "       '365Scores - Live Scores', '3D Live Neon Weed Launcher',\n",
       "       '4 in a Row', '4K Wallpapers and Ultra HD Backgrounds',\n",
       "       '591房屋交易-租屋、中古屋、新建案、實價登錄、別墅透天、公寓套房、捷運、買房賣房行情、房價房貸查詢', '591房屋交易-香港',\n",
       "       '7 Cups: Anxiety & Stress Chat', '7 Day Food Journal Challenge',\n",
       "       '7 Minute Workout', '7 Weeks - Habit & Goal Tracker',\n",
       "       '8 Ball Pool', '850 Sports News Digest',\n",
       "       '8fit Workouts & Meal Planner', '95Live -SG#1 Live Streaming App',\n",
       "       'A Call From Santa Claus!', 'A Word A Day',\n",
       "       'A&E - Watch Full Episodes of TV Shows',\n",
       "       'A+ Gallery - Photos & Videos', 'A+ Mobile',\n",
       "       'ABC Kids - Tracing & Phonics', 'ABC News - US & World News',\n",
       "       'ABC Preschool Free', 'ABCmouse.com',\n",
       "       'AC - Tips & News for Android™', 'ACE Elite',\n",
       "       'AD - Nieuws, Sport, Regio & Entertainment', 'AMC Theatres', 'ANA',\n",
       "       'AOL - News, Mail & Video', 'AP Mobile - Breaking News',\n",
       "       'APE Weather ( Live Forecast)',\n",
       "       'APUS Launcher - Theme, Wallpaper, Hide Apps', 'ARY NEWS',\n",
       "       'ARY NEWS URDU', 'ASOS', 'ASUS Calling Screen',\n",
       "       'ASUS Cover for ZenFone 2', 'ASUS Quick Memo',\n",
       "       'ASUS Sound Recorder', 'ASUS SuperNote',\n",
       "       'AT&T Navigator: Maps, Traffic', 'AT&T Smart Wi-Fi',\n",
       "       'AT&T Visual Voicemail',\n",
       "       'AVG Cleaner – Speed, Battery & Memory Booster',\n",
       "       'Abs Training-Burn belly fat', 'Account Manager',\n",
       "       'Accounting App - Zoho Books',\n",
       "       'AccuWeather: Daily Forecast & Live Weather Reports',\n",
       "       'Acorn TV: World-class TV from Britain and Beyond',\n",
       "       'Acorns - Invest Spare Change', 'AdWords Express',\n",
       "       'Ada - Your Health Guide', 'Add Text To Photo',\n",
       "       'Adobe Acrobat Reader',\n",
       "       'Adobe Photoshop Express:Photo Editor Collage Maker',\n",
       "       'Advanced Task Killer', 'Agar.io', 'Age Calculator',\n",
       "       'Agoda – Hotel Booking Deals', 'Air Traffic', 'AirAsia',\n",
       "       'AirBrush: Easy Photo Editor', 'Airbnb',\n",
       "       'Airport + Flight Tracker Radar',\n",
       "       'Airway Ex - Intubate. Anesthetize. Train.', 'Akinator',\n",
       "       'AlReader -any text book reader', 'Alarm Clock',\n",
       "       'Alarm Clock Free', 'Alfred Home Security Camera',\n",
       "       'AliExpress - Smarter Shopping, Better Living',\n",
       "       'All Email Providers', 'All Events in City',\n",
       "       'All Football - Latest News & Videos',\n",
       "       'All Football GO- Live Score, Games',\n",
       "       'All Language Translator Free', 'All Maths Formulas',\n",
       "       'All Mental disorders', 'All Social Networks',\n",
       "       'All Video Downloader 2018',\n",
       "       'All-In-One Toolbox: Cleaner, Booster, App Manager',\n",
       "       'All-in-One Mahjong 3 FREE', 'Allegiant',\n",
       "       'Allrecipes Dinner Spinner', \"Alto's Adventure\", 'Amazon Drive',\n",
       "       'Amazon FreeTime – Kids’ Videos, Books, & TV shows',\n",
       "       'Amazon Kindle', 'Amazon Prime Video', 'Amazon Shopping',\n",
       "       'Amazon for Tablets', 'American Airlines', 'Amex Mobile',\n",
       "       'Amino: Communities and Chats', 'Amtrak',\n",
       "       'Anatomy Learning - 3D Atlas', 'Ancestry',\n",
       "       'AndroZip™ FREE File Manager',\n",
       "       'Android Auto - Maps, Media, Messaging & Voice',\n",
       "       'Android Messages', 'Anger of stick 5 : zombie', 'Angry Birds 2',\n",
       "       'Angry Birds Classic', 'Angry Birds Rio', 'Animal Planet GO',\n",
       "       'Animated Photo Editor',\n",
       "       'Anime Avatar Creator: Make Your Own Avatar',\n",
       "       'Anime Manga Coloring Book', 'Anthem Anywhere',\n",
       "       'Anthem BC Anywhere',\n",
       "       'Any.do: To-do list, Calendar, Reminders & Planner',\n",
       "       'Apartment Decorating Ideas',\n",
       "       'Apartment List: Housing, Apt, and Property Rentals',\n",
       "       'Apartment, Home Rental Search: Realtor.com Rentals',\n",
       "       'Apartments & Rentals - Zillow', 'Apartments.com Rental Search',\n",
       "       'Apex Launcher', 'Apk Installer', 'App vault', 'AppLock',\n",
       "       'AppLock - Fingerprint', 'Apple Daily 蘋果動新聞',\n",
       "       'Aprender inglés con Wlingua', 'Archos File Manager', 'Arrow.io',\n",
       "       'Asana: organize team projects', 'Ascape VR: 360° Virtual Travel',\n",
       "       'Asphalt 8: Airborne', 'Associated Credit Union Mobile',\n",
       "       'Asteroids 3D live wallpaper',\n",
       "       'Atlan3D Navigation: Korea navigator',\n",
       "       'AutoCAD - DWG Viewer & Editor',\n",
       "       'AutoScout24 Switzerland – Find your new car',\n",
       "       'Avakin Life - 3D virtual world', 'Aviary Effects: Classic',\n",
       "       'Aviary Stickers: Free Pack', 'Azar', 'Azpen eReader',\n",
       "       'B612 - Beauty & Filter Camera', 'BBC Media Player', 'BBC News',\n",
       "       'BBC Sport', 'BBM - Free Calls & Messages', 'BBVA Compass Banking',\n",
       "       'BBVA Spain', 'BBW Dating & Curvy Singles Chat- LargeFriends',\n",
       "       'BBW Dating & Plus Size Chat', 'BBWCupid - BBW Dating App',\n",
       "       'BELONG Beating Cancer Together', 'BEST CAR SOUNDS',\n",
       "       'BET NOW - Watch Shows', 'BEYBLADE BURST app', 'BIG Launcher',\n",
       "       'BLK - Swipe. Match. Chat.', 'BZWBK24 mobile',\n",
       "       'BaBe - Baca Berita', 'BaBe Lite - Baca Berita Hemat Kuota',\n",
       "       'BaBe+ - Berita Indonesia', 'Babbel – Learn Languages',\n",
       "       'Babbel – Learn Spanish',\n",
       "       'Baby ABC in box! Kids alphabet games for toddlers!',\n",
       "       'Baby Monitor', 'Baby Name Together', 'Baby Panda Care',\n",
       "       'Baby Panda Learns Shapes', 'Baby Panda Musical Genius',\n",
       "       'Baby Panda’s Juice Shop',\n",
       "       'Baby Tiger Care - My Cute Virtual Pet Friend', 'Baby puzzles',\n",
       "       'Baca- Berita Terbaru, Informasi, Gosip dan Politik',\n",
       "       'Backgrounds (HD Wallpapers)', 'Backgrounds HD (Wallpapers)',\n",
       "       'BaconReader for Reddit', 'Bad Piggies',\n",
       "       'Badoo - Free Chat & Dating App', 'Bagan - Myanmar Keyboard',\n",
       "       'Banco Itaú', 'Banco do Brasil', 'Bancomer móvil',\n",
       "       'Banfield Pet Health Tracker', 'Bangla Newspaper – Prothom Alo',\n",
       "       'Banjo', 'Bank of America Mobile Banking', 'BankMobile Vibe App',\n",
       "       'Banorte Movil', 'Banque Populaire', 'Barbie Life™',\n",
       "       'Barbie Magical Fashion', 'Barbie™ Fashion Closet',\n",
       "       'Barclays US for Android', 'Barcode Scanner',\n",
       "       'Baritastic - Bariatric Tracker', 'Baseball Boy!',\n",
       "       'Basketball FRVR - Shoot the Hoop and Slam Dunk!',\n",
       "       'Basketball Stars', 'Bathroom Decorating Ideas',\n",
       "       'Battlelands Royale', 'Be A Legend: Soccer',\n",
       "       'BeSoccer - Soccer Live Score', 'BeWild Free Dating & Chat App',\n",
       "       'Beautiful Design Birthday Cake', 'Beautiful Widgets Free',\n",
       "       'Beautiful Widgets Pro', 'Beauty Camera - Selfie Camera',\n",
       "       'Beauty Makeup Snappy Collage Photo Editor - Lidow',\n",
       "       'BeautyPlus - Easy Photo Editor & Selfie Camera',\n",
       "       'Bed Time Fan - White Noise Sleep Sounds', 'Best Car Wallpapers',\n",
       "       'Best Fiends - Free Puzzle Game',\n",
       "       'Best Ovulation Tracker Fertility Calendar App Glow',\n",
       "       'Best Wallpapers Backgrounds(100,000+ 4K HD)',\n",
       "       'Best Wallpapers QHD',\n",
       "       'BestCam Selfie-selfie, beauty camera, photo editor',\n",
       "       'BetterMe: Weight Loss Workouts', 'Betterment',\n",
       "       'BeyondMenu Food Delivery', 'BeyondPod Podcast Manager', 'Bible',\n",
       "       'Big Days - Events Countdown',\n",
       "       'BigOven Recipes, Meal Planner, Grocery List & More',\n",
       "       'BiggerCity: Chat for gay bears, chubs & chasers',\n",
       "       'Bike Computer - GPS Cycling Tracker', 'Binaural Beats Meditation',\n",
       "       'Binaural Beats Therapy', 'BioLife Plasma Services',\n",
       "       'Birdays – Birthday reminder',\n",
       "       'Birds Sounds Ringtones & Wallpapers',\n",
       "       'Black People Meet Singles Date', 'Block Puzzle',\n",
       "       'Block Puzzle Classic Legend !', 'Blogaway for Android (Blogger)',\n",
       "       'Blogger', \"Bloglovin'\", 'Blood Donor', 'Blood Pressure',\n",
       "       'Blood Pressure Log - MyDiary', 'Blood Pressure(BP) Diary',\n",
       "       'Bloomberg Professional', 'Bloomberg: Market & Financial News',\n",
       "       'Blossom Blast Saga', 'BluTV', 'Blur Image Background',\n",
       "       'Blur Image Background Editor (Blur Photo Editor)',\n",
       "       'Booking.com Travel Deals', 'Bowmasters', 'Box', 'Boxed Wholesale',\n",
       "       \"Boys Photo Editor - Six Pack & Men's Suit\",\n",
       "       'Brain Waves - Binaural Beats', 'Branch',\n",
       "       'Brasileirão Pro 2018 - Série A e B',\n",
       "       'Breaking News, Local news, Attacks and Alerts Free',\n",
       "       'Brightest Flashlight Free ®', 'Brightest LED Flashlight',\n",
       "       'Brilliant', 'Brit + Co', 'British Airways', 'Browser 4G',\n",
       "       'Bualuang mBanking', 'Bubble Shooter', 'Bubble Shooter 2',\n",
       "       'Bubble Shooter Genies', 'Bubble Shooter Space',\n",
       "       'Bubble Witch 3 Saga', 'Buienradar - weer', 'Build a Bridge!',\n",
       "       'Bukalapak - Jual Beli Online', 'BukuBayi - Perkembangan Bayi',\n",
       "       'Burner - Free Phone Number', 'Buscapé - Ofertas e descontos',\n",
       "       'Business Calendar 2', 'Butterfly Live Wallpaper',\n",
       "       'Buzz Launcher-Smart&Free Theme', 'BuzzFeed: News, Tasty, Quizzes',\n",
       "       'BÁO MỚI - Đọc Báo, Tin Tức 24h', 'C Programming',\n",
       "       'C++ Programming', 'C++ Tutorials', 'CAIXA',\n",
       "       'CALCU™ Stylish Calculator Free', 'CATS: Crash Arena Turbo Stars',\n",
       "       'CBS News', 'CBS Sports App - Scores, News, Stats & Watch Live',\n",
       "       'CBS Sports Fantasy', 'CDL Practice Test 2018 Edition',\n",
       "       'CIA - Caller ID & Call Blocker',\n",
       "       'CM Browser - Ad Blocker , Fast Download , Privacy',\n",
       "       'CM Flashlight (Compass, SOS)',\n",
       "       'CM Launcher 3D - Theme, Wallpapers, Efficient',\n",
       "       'CM Locker - Security Lockscreen', 'CMB Free Dating App',\n",
       "       'CNBC: Breaking Business News & Live Market Data',\n",
       "       'CNN Breaking US & World News', \"COOKING MAMA Let's Cook!\",\n",
       "       'CVS Caremark', 'CW Seed', 'CWT To Go',\n",
       "       'Cache Cleaner-DU Speed Booster (booster & cleaner)',\n",
       "       'Caf - Mon Compte',\n",
       "       'Calculator - free calculator, multi calculator app',\n",
       "       'Calculator - unit converter', 'Calculator Plus Free',\n",
       "       'Calculator with Percent (Free)', 'Calendar Widget Month + Agenda',\n",
       "       'Calendar+ Schedule Planner App', 'Call Blocker',\n",
       "       'Call Control - Call Blocker', 'Call of Duty:Black Ops Zombies',\n",
       "       'CallApp: Caller ID, Blocker & Phone Call Recorder', 'Caller ID +',\n",
       "       'Calls & Text by Mo+', 'Calls Blacklist - Call Blocker',\n",
       "       'Calm - Meditate, Sleep, Relax', 'Calorie Counter & Diet Tracker',\n",
       "       'Calorie Counter - EasyFit free', 'Calorie Counter - Macros',\n",
       "       'Calorie Counter - MyFitnessPal', 'Calorie Counter - MyNetDiary',\n",
       "       'Cameringo Lite. Filters Camera', 'Candy Bomb',\n",
       "       'Candy Camera - selfie, beauty camera, photo editor',\n",
       "       'Candy Crush Jelly Saga', 'Candy Crush Saga',\n",
       "       'Candy Crush Soda Saga', 'Candy Day', 'Candy Pop Story',\n",
       "       'Candy Smash', 'Candy selfie - photo editor, live filter camera',\n",
       "       'Canva: Poster, banner, card maker & graphic design',\n",
       "       'Canvas Student', 'Cat Sim Online: Play with Cats',\n",
       "       'Caviar - Food Delivery', 'Chakra Cleansing', 'Championat',\n",
       "       'Chapters: Interactive Stories', 'Chase Mobile',\n",
       "       'Chat Rooms, Avatars, Date - Galaxy', 'ChatVideo Meet new people',\n",
       "       'Cheap Flights & Hotels momondo',\n",
       "       'Cheap hotel deals and discounts — Hotellook',\n",
       "       'CheapTickets – Hotels, Flights & Travel Deals',\n",
       "       'Cheapflights – Flight Search', 'CheckPoints 🏆 Rewards App',\n",
       "       'Checkers ✔️', 'Checkout 51: Grocery coupons', 'Choice Hotels',\n",
       "       'Choices: Stories You Play', 'Christian Dating For Free App',\n",
       "       'Chrome Beta', 'Chrome Dev', 'Cinemark Theatres',\n",
       "       'Cisco Webex Meetings', 'Cisco Webex Teams', 'Citi Mobile®',\n",
       "       'Citibanamex Movil', 'Citizens Bank Mobile Banking',\n",
       "       'CityMaps2Go Plan Trips Travel Guide Offline Maps', 'Claro',\n",
       "       'Clash Royale', 'Clash of Clans', 'Color Flashlight', 'Color Road',\n",
       "       'Color Touch Effects', 'Color by Number - Draw Sandbox Pixel Art',\n",
       "       'Color by Number – New Coloring Book',\n",
       "       'ColorFil - Adult Coloring Book', 'ColorNote Notepad Notes',\n",
       "       'ColorSnap® Visualizer', 'Colorfit - Drawing & Coloring',\n",
       "       'Colorful Glitter Neon Butterfly Keyboard Theme',\n",
       "       'Colorfy: Coloring Book for Adults - Free', 'Coloring & Learn',\n",
       "       'Coloring book moana', 'Comedy Central', 'Common Core',\n",
       "       'Comptia A+ 220-901 & 220-902', 'ConnectLine', 'Contacts',\n",
       "       'Contacts+', 'Content Transfer', 'ConvertPad - Unit Converter',\n",
       "       'Cookbook Recipes', 'Cooking Channel', 'Cooking Fever',\n",
       "       \"Cooking Madness - A Chef's Restaurant Games\", 'Cookpad',\n",
       "       'Cool Popular Ringtones 2018 🔥', 'Cool Reader',\n",
       "       'Couch to 10K Running Trainer', 'Couch to 5K by RunDouble',\n",
       "       'Couchsurfing Travel App',\n",
       "       'Cougar Dating Life : Date Older Women Sugar Mummy',\n",
       "       'Couple - Relationship App', 'Credit Karma', 'Credit Sesame',\n",
       "       'CreditWise from Capital One',\n",
       "       'Crew - Free Messaging and Scheduling',\n",
       "       'Cricbuzz - Live Cricket Scores & News',\n",
       "       'Cricket Visual Voicemail', 'Crossy Road',\n",
       "       'Crunchyroll - Everything Anime',\n",
       "       'Current debit card and app made for teens',\n",
       "       'Curriculum vitae App CV Builder Free Resume Maker',\n",
       "       'Curso de Ingles Gratis', 'Cut the Rope 2',\n",
       "       'Cut the Rope FULL FREE', 'Cycling - Bike Tracker',\n",
       "       'Cymera Camera- Photo Editor, Filter,Collage,Layout',\n",
       "       'Czech Public Transport IDOS', 'DC Comics', 'DC Super Hero Girls™',\n",
       "       'DEAD TARGET: FPS Zombie Apocalypse Survival Games',\n",
       "       'DEER HUNTER 2018', 'DELISH KITCHEN - 無料レシピ動画で料理を楽しく・簡単に！',\n",
       "       'DINO HUNTER: DEADLY SHORES', 'DIY Garden Ideas',\n",
       "       'DIY On A Budget', 'DMV Permit Practice Test 2018 Edition',\n",
       "       'DRAGON BALL LEGENDS', 'DSLR Camera Hd Ultra Professional',\n",
       "       'DStv Now', 'DU Browser—Browse fast & fun',\n",
       "       'DU Recorder – Screen Recorder, Video Editor, Live',\n",
       "       'Daily Workouts - Exercise Fitness Routine Trainer',\n",
       "       'Daily Yoga - Yoga Fitness Plans',\n",
       "       'Dailyhunt (Newshunt) - Latest News, Viral Videos', 'Dairy Queen',\n",
       "       'Daniel Tiger for Parents', 'DashClock Widget',\n",
       "       'Dashlane Free Password Manager',\n",
       "       'Dating App, Flirt & Chat : W-Match',\n",
       "       'Dating for 50 plus Mature Singles – FINALLY', 'Daum Mail - 다음 메일',\n",
       "       \"Davis's Drug Guide\", \"Davis's Drug Guide for Nurses\",\n",
       "       'Debonairs Pizza',\n",
       "       'Delivery Club–Доставка еды:пицца,суши,бургер,салат',\n",
       "       'Delta Dental', 'Despegar.com Hoteles y Vuelos',\n",
       "       'Detector de Radares Gratis', 'Device Help',\n",
       "       'Diabetes & Diet Tracker', 'Diabetes:M',\n",
       "       'Diamond Zipper Lock Screen', 'Diary with lock',\n",
       "       'Diary with lock password', 'Dictionary - Merriam-Webster',\n",
       "       'Die TK-App – alles im Griff', 'Digg', 'DigiCal Calendar Agenda',\n",
       "       'Digit Save Money Automatically', 'Digital Alarm Clock', 'Dil Mil',\n",
       "       'Dino War: Rise of Beasts', 'Dinosaur Simulator: Dino World',\n",
       "       'Discover Mobile', 'Disney Heroes: Battle Mode',\n",
       "       'Disney Magic Kingdoms: Build Your Own Magical Park',\n",
       "       'DisneyNOW – TV Shows & Games', 'Divar',\n",
       "       'Do It Later: Tasks & To-Dos', 'Docs To Go™ Free Office Suite',\n",
       "       'Doctor On Demand', 'Doctor Pets', 'Dog Licks Screen Wallpaper',\n",
       "       'Dog Run - Pet Dog Simulator', 'Dog Sim Online: Raise a Family',\n",
       "       \"Domino's Pizza USA\", 'Dominos Game ✔️',\n",
       "       'Domofond Недвижимость. Купить, снять квартиру.', 'Doodle Jump',\n",
       "       'Door Lock Screen', 'DoorDash - Food Delivery',\n",
       "       'Dosecast - Medication Reminder', 'Down Dog: Great Yoga Anywhere',\n",
       "       'Dr. Oetker Rezeptideen', \"Dr. Panda & Toto's Treehouse\",\n",
       "       'Dr. Panda Restaurant 3', 'Dr. Panda Town: Vacation',\n",
       "       'DraftKings - Daily Fantasy Sports', 'Dragon Hills',\n",
       "       'Draw A Stickman', 'Draw In', 'Draw Your Game',\n",
       "       'Draw a Stickman: EPIC 2',\n",
       "       'Drawing for Kids Learning Games for Toddlers age 3',\n",
       "       'Dream League Soccer 2018', 'DreamTrips', 'DreamWorks Friends',\n",
       "       'Dresses Ideas & Fashions +3000', 'Droid Zap by Motorola',\n",
       "       'DroidAdmin for Android - Advice', 'Dropbox',\n",
       "       'Drugs.com Medication Guide', 'Dude Perfect 2',\n",
       "       'Dumb Ways to Die 2: The Games',\n",
       "       'Dungeon Hunter Champions: Epic Online Action RPG',\n",
       "       \"Dunkin' Donuts\", 'Duolingo: Learn Languages Free', 'DuraSpeed',\n",
       "       'E*TRADE Mobile', 'Easy - taxi, car, ridesharing',\n",
       "       'Easy Hair Style Design', 'Easy Healthy Recipes',\n",
       "       'Easy Installer - Apps On SD', 'Easy Makeup Tutorials',\n",
       "       'Easy Origami Ideas', 'Easy Recipes', 'Easy Voice Recorder',\n",
       "       'EasyBib: Citation Generator', 'Eat Fit - Diet and Health Free',\n",
       "       'Eat24 Food Delivery & Takeout', 'EatStreet Food Delivery App',\n",
       "       'Ebates: Cash Back, Coupons, Rewards & Savings', 'Ebook Reader',\n",
       "       'Ecobank Mobile Banking', 'Edmodo', 'Educational Games 4 Kids',\n",
       "       'Educational Games for Kids', 'El tiempo de AEMET',\n",
       "       'English with Lingualeo', 'English-Myanmar Dictionary', 'Entel',\n",
       "       'Enterprise Rent-A-Car', 'Episode - Choose Your Story',\n",
       "       'Epocrates Plus', 'Equestria Girls', 'Essential Anatomy 3',\n",
       "       'Essential Resources', 'Etsy: Handmade & Vintage Goods',\n",
       "       'Etta Homes', 'Eurosport',\n",
       "       'Eve Period Tracker - Love, Sex & Relationships App',\n",
       "       'Even - organize your money, get paid early',\n",
       "       'Evernote – Organizer, Planner for Notes & Memos', 'Evie Launcher',\n",
       "       'ExDialer - Dialer & Contacts',\n",
       "       'Expedia Hotels, Flights & Car Rental Travel Deals',\n",
       "       'Expense IQ Money Manager', 'Experian - Free Credit Report',\n",
       "       'Extreme Car Driving Simulator', 'Extreme Coupon Finder',\n",
       "       'Extreme Match', 'Extreme Racing 2 - Real driving RC cars game!',\n",
       "       'EyeCloud', 'EyeEm - Camera & Photo Filter', 'EzCalculator',\n",
       "       'FBReader: Favorite Book Reader', 'FERZU - Furries Social Network',\n",
       "       'FIFA - Tournaments, Soccer News & Live Scores',\n",
       "       'FINAL FANTASY BRAVE EXVIUS', 'FOSSIL Q: DESIGN YOUR DIAL', 'FOX',\n",
       "       'FOX NOW - On Demand & Live TV',\n",
       "       'FOX Sports: Live Streaming, Scores & News',\n",
       "       'FREEDOME VPN Unlimited anonymous Wifi Security',\n",
       "       'FUN Keyboard – Emoji Keyboard, Sticker,Theme & GIF',\n",
       "       'Fabulous: Motivate Me! Meditate, Relax, Sleep',\n",
       "       'Face Filter, Selfie Editor - Sweet Camera', 'Facebook',\n",
       "       'Facebook Ads Manager', 'Facebook Lite', 'Facebook Local',\n",
       "       'Facebook Pages Manager', 'Facetune - Ad Free',\n",
       "       'Fake Call - Fake Caller ID', 'Fallout Shelter',\n",
       "       'Family Album Mitene: Private Photo & Video Sharing',\n",
       "       'Family Dollar',\n",
       "       'Family GPS Tracker and Chat + Baby Monitor Online',\n",
       "       'Family GPS tracker KidControl + GPS by SMS Locator',\n",
       "       'Family Locator - GPS Tracker', 'FamilySearch Tree',\n",
       "       'FanDuel: Daily Fantasy Sports', 'Fancy Widgets',\n",
       "       'Fandango Movies - Times + Tickets', 'Fantasy Football',\n",
       "       'Fantasy Football & NFL News', 'Fantasy Football Manager (FPL)',\n",
       "       'Farm Fruit Pop: Party Time', 'Farm Heroes Saga',\n",
       "       'Farming Simulator 14', 'Farming Simulator 18', 'Fashion in Vogue',\n",
       "       'Fast News', 'Fast Scanner : Free PDF Scan', 'Fast Secure VPN',\n",
       "       'FastMeet: Chat, Dating, Love',\n",
       "       'Fat Burning Workout - Home Weight lose',\n",
       "       'Fate/Grand Order (English)',\n",
       "       'FidMe Loyalty Cards & Deals at Grocery Supermarket',\n",
       "       'File Browser by Astro (File Manager)', 'File Explorer',\n",
       "       'File Manager',\n",
       "       'File Manager -- Take Command of Your Files Easily',\n",
       "       'Files Go by Google: Free up space on your phone',\n",
       "       'FilterGrid - Cam&Photo Editor', 'Filters for B Live',\n",
       "       'Filters for Selfie', 'Final Fantasy XV: A New Empire',\n",
       "       'Financial Times', 'Find Dining Restaurant Finder',\n",
       "       'Find a Way: Addictive Puzzle', 'Find&Save - Local Shopping',\n",
       "       'FindShip', 'Firefox Browser fast & private',\n",
       "       'Firefox Focus: The privacy browser', 'Fishdom', 'Fitbit',\n",
       "       'Flashlight', 'Flashlight & LED Torch',\n",
       "       'Flashlight - Torch LED Light', 'Flashlight HD LED', 'Flickr',\n",
       "       'Flight & Hotel Booking App - ixigo',\n",
       "       'Flightradar24 Flight Tracker', 'Flights',\n",
       "       'Flip the Gun - Simulator Game', 'FlipaClip - Cartoon animation',\n",
       "       'Flipboard: News For Our Time', 'Flipkart Online Shopping App',\n",
       "       'Flipp - Weekly Shopping',\n",
       "       'Flippy Campus - Buy & sell on campus at a discount',\n",
       "       'FlirtChat - ♥Free Dating/Flirting App♥', 'Floor Plan Creator',\n",
       "       'Flow Free', 'Flowers Live Wallpaper', 'Fly Delta',\n",
       "       'FollowMyHealth®', 'Font Studio- Photo Texts Image',\n",
       "       'Food Calorie Calculator', 'Food Network',\n",
       "       'Fooducate Healthy Weight Loss & Calorie Counter',\n",
       "       'Foot Mercato : transferts, résultats, news, live',\n",
       "       'Football Live Scores', 'ForecaWeather',\n",
       "       'Fortune City - A Finance App', 'Four In A Line',\n",
       "       'Four In A Line Free', 'Foursquare City Guide',\n",
       "       'Foursquare Swarm: Check In', 'Fox Business',\n",
       "       'Fox News – Breaking News, Live Video & News Alerts',\n",
       "       'Fraction Calculator Plus Free', 'Free & Premium VPN - FinchVPN',\n",
       "       'Free Dating & Flirt Chat - Choice of Love',\n",
       "       'Free Dating App & Flirt Chat - Cheers',\n",
       "       'Free Dating App & Flirt Chat - Match with Singles',\n",
       "       'Free Dating App - Meet Local Singles - Flirt Chat',\n",
       "       'Free Dating App - YoCutie - Flirt, Chat & Meet',\n",
       "       'Free Dating Hook Up Messenger',\n",
       "       'Free Foreclosure Real Estate Search by USHUD.com',\n",
       "       'Free Hypnosis', 'Free Live Talk-Video Call',\n",
       "       'Free Panda Radio Music', 'Free Sports TV',\n",
       "       'Free TV Shows App:News, TV Series, Episode, Movies',\n",
       "       'Free VIN Report for Used Cars', 'Free live weather on screen',\n",
       "       'Free phone calls, free texting SMS on free number',\n",
       "       'FreePrints – Free Photos Delivered',\n",
       "       'Freeletics: Personal Trainer & Fitness Workouts',\n",
       "       'Freeme Launcher—Stylish Theme', 'Fresh EBT - Food Stamp Balance',\n",
       "       'FreshBooks Classic', 'Frontback - Social Photos',\n",
       "       'Frozen Free Fall', 'Fruit Block - Puzzle Legend', 'Fruit Ninja®',\n",
       "       'Fruits Bomb', 'Fuelio: Gas log & costs', 'Full Screen Caller ID',\n",
       "       'Fun Kid Racing', 'Fun Kid Racing - Motocross',\n",
       "       'Funny Alarm Clock Ringtones', 'Funny Pics',\n",
       "       'Fuzzy Seasons: Animal Forest', 'G Cloud Backup',\n",
       "       'GANMA! - オリジナル漫画が全話無料で読み放題',\n",
       "       'GCash - Buy Load, Pay Bills, Send Money', 'GMAT Math Flashcards',\n",
       "       'GMAT Question Bank', 'GMX Mail',\n",
       "       'GO Keyboard - Cute Emojis, Themes and GIFs',\n",
       "       'GO Keyboard - Emoticon keyboard, Free Theme, GIF', 'GO Notifier',\n",
       "       'GO SMS Pro - Messenger, Free Themes, Emoji',\n",
       "       'GO Weather - Widget, Theme, Wallpaper, Efficient', 'GPS Map Free',\n",
       "       'GPS Speedometer and Odometer', 'GPS Speedometer, Distance Meter',\n",
       "       'GPS Status & Toolbox',\n",
       "       'GPS Traffic Speedcam Route Planner by ViaMichelin',\n",
       "       'GRE Flashcards', 'GRE Prep & Practice by Magoosh', 'GRE Tutor',\n",
       "       'GS SHOP', 'GUNSHIP BATTLE: Helicopter 3D',\n",
       "       'Galactic Core Free Wallpaper', 'Galaxy Attack: Alien Shooter',\n",
       "       'Game of Thrones: Conquest™',\n",
       "       'Gametime - Tickets to Sports, Concerts, Theater',\n",
       "       'Garden Coloring Book', 'Garden Fruit Legend',\n",
       "       'Garden Photo Frames - Garden Photo Editor', 'Gardenscapes',\n",
       "       'Garena Free Fire', 'Garmin Connect™', 'GasBuddy: Find Cheap Gas',\n",
       "       'Gay Sugar Daddy Dating & Hookup – Sudy Gay',\n",
       "       'Gboard - the Google Keyboard', 'Gems or jewels ?',\n",
       "       'Genius Scan - PDF Scanner', 'Gmail', 'GoBank',\n",
       "       'GoPro (formerly Capture)', 'Goal Live Scores',\n",
       "       'Goibibo - Flight Hotel Bus Car IRCTC Booking App',\n",
       "       'Goku Wallpaper Art', 'Gold Butterfly Keyboard Theme',\n",
       "       'Golden Dictionary (EN-AR)', 'Golden Launcher',\n",
       "       'Goldstar: Live Event Tickets', 'Golf Channel',\n",
       "       'Golf GPS Rangefinder: Golf Pad', 'Golf GPS by SwingxSwing',\n",
       "       'GolfLogix GPS + Putt Breaks',\n",
       "       'GolfNow: Tee Time Deals at Golf Courses, Golf GPS',\n",
       "       'Golfshot Plus: Golf GPS', 'Golfshot: Golf GPS + Tee Times',\n",
       "       'GoodRx Drug Prices and Coupons', 'Google', 'Google Ads',\n",
       "       'Google Duo - High Quality Video Calls', 'Google Earth',\n",
       "       'Google Fit - Fitness Tracking', 'Google Handwriting Input',\n",
       "       'Google Keep', 'Google My Business', 'Google News',\n",
       "       'Google PDF Viewer', 'Google Pay', 'Google Photos',\n",
       "       'Google Primer', 'Google Slides', 'Google Street View',\n",
       "       'Google Translate', 'Google Trips - Travel Planner',\n",
       "       'Google Voice', 'Google+', 'Granny', 'Graphing Calculator',\n",
       "       'Grim Soul: Dark Fantasy Survival',\n",
       "       'Groovebook Photo Books & Gifts', 'GroupMe',\n",
       "       'Groupon - Shop Deals, Discounts & Coupons',\n",
       "       'Grubhub: Food Delivery', 'Guns of Glory',\n",
       "       'Gyft - Mobile Gift Card Wallet', 'H Pack', 'H TV', 'H&M',\n",
       "       'HBO GO: Stream with TV Package', 'HD Camera',\n",
       "       'HD Camera - Best Cam with filters & panorama',\n",
       "       'HD Camera - Quick Snap Photo & Video',\n",
       "       'HD Camera Pro for Android', 'HD Camera Ultra',\n",
       "       'HD Camera for Android', 'HD Movie Video Player',\n",
       "       'HD Video Player', 'HD Widgets', 'HDFC Bank MobileBanking',\n",
       "       'HESI A2 Pocket Prep',\n",
       "       'HISTORY: Watch TV Show Full Episodes & Specials', 'HTC Calendar',\n",
       "       'HTC File Manager', 'HTC Gallery', 'HTC Help', 'HTC Lock Screen',\n",
       "       'HTC Mail', 'HTC Sense Input', 'HTC Sense Input-AR',\n",
       "       'HTC Service － DLNA', 'HTC Service—Video Player',\n",
       "       'HTC Social Plugin - Facebook', 'HTC Speak', 'HTC Weather',\n",
       "       \"Hacker's Keyboard\", 'Hairstyles step by step',\n",
       "       'Hamilton — The Official App', 'Hangouts', 'Happify',\n",
       "       'Happy Birthday Songs Offline', 'Happy Fruits Bomb - Cube Blast',\n",
       "       'Happy Street', 'Harkins Theatres',\n",
       "       'Harry Potter: Hogwarts Mystery', 'HauteLook', 'Hay Day',\n",
       "       'Haystack TV: Local & World News - Free',\n",
       "       'Headspace: Meditation & Mindfulness',\n",
       "       'Health and Nutrition Guide', 'HealtheLife',\n",
       "       'Healthy Recipes Free', 'Helix Jump', 'Hello Kitty Lunchbox',\n",
       "       'Hello Kitty Nail Salon', 'Hello Stars',\n",
       "       'HelloTalk — Chat, Speak & Learn Foreign Languages',\n",
       "       'Hero Hunters', 'Herpes Dating: 1,000K+ Singles',\n",
       "       'Herpes Positive Singles Dating',\n",
       "       'Hide App, Private Dating, Safe Chat - PrivacyHider',\n",
       "       'Hide Something - Photo, Video', 'Hideman VPN',\n",
       "       'High Blood Pressure Symptoms', 'High-Powered Flashlight',\n",
       "       'High-Speed Camera (GIF,Burst)', 'Hill Climb Racing',\n",
       "       'Hill Climb Racing 2', 'Hily: Dating, Chat, Match, Meet & Hook up',\n",
       "       'Hinge: Dating & Relationships', 'HipChat - Chat Built for Teams',\n",
       "       'Hipmunk Hotels & Flights', 'Hitwe - meet people and chat',\n",
       "       'Hole19: Golf GPS App, Rangefinder & Scorecard',\n",
       "       'Home Decor Showpiece Art making: Medium Difficulty',\n",
       "       'Home Scouting® MLS Mobile',\n",
       "       'Home Security Camera WardenCam - reuse old phones',\n",
       "       'Home Street – Home Design Game', 'Home Workout - No Equipment',\n",
       "       'Home Workout for Men - Bodybuilding',\n",
       "       'Home workouts - fat burning, abs, legs, arms,chest', 'HomeWork',\n",
       "       'Homes.com 🏠 For Sale, Rent', 'Homescapes',\n",
       "       'Homesnap Real Estate & Rentals',\n",
       "       'Homestyler Interior Design & Decorating Ideas',\n",
       "       'Homework Planner', 'Honkai Impact 3rd',\n",
       "       'Hopper - Watch & Book Flights',\n",
       "       'Horoscopes – Daily Zodiac Horoscope and Astrology',\n",
       "       'Horses Live Wallpaper',\n",
       "       'Hostelworld: Hostels & Cheap Hotels Travel App',\n",
       "       'Hot Wheels: Race Off',\n",
       "       'HotelTonight: Book amazing deals at great hotels',\n",
       "       'Hotels Combined - Cheap deals',\n",
       "       'Hotels.com: Book Hotel Rooms & Find Vacation Deals',\n",
       "       'Hotspot Shield Free VPN Proxy & Wi-Fi Security', 'Hotstar',\n",
       "       'Hotwire Hotel & Car Rental App', 'Housing-Real Estate & Property'],\n",
       "      dtype=object)"
      ]
     },
     "execution_count": 49,
     "metadata": {},
     "output_type": "execute_result"
    }
   ],
   "source": [
    "google_review['App'].unique()"
   ]
  },
  {
   "cell_type": "code",
   "execution_count": 54,
   "metadata": {},
   "outputs": [
    {
     "data": {
      "text/html": [
       "<div>\n",
       "<style scoped>\n",
       "    .dataframe tbody tr th:only-of-type {\n",
       "        vertical-align: middle;\n",
       "    }\n",
       "\n",
       "    .dataframe tbody tr th {\n",
       "        vertical-align: top;\n",
       "    }\n",
       "\n",
       "    .dataframe thead th {\n",
       "        text-align: right;\n",
       "    }\n",
       "</style>\n",
       "<table border=\"1\" class=\"dataframe\">\n",
       "  <thead>\n",
       "    <tr style=\"text-align: right;\">\n",
       "      <th></th>\n",
       "      <th>Rating</th>\n",
       "      <th>Reviews</th>\n",
       "      <th>Price_numerical</th>\n",
       "      <th>Positive Ratio</th>\n",
       "      <th>Installs_numerical</th>\n",
       "      <th>Free</th>\n",
       "      <th>Paid</th>\n",
       "    </tr>\n",
       "  </thead>\n",
       "  <tbody>\n",
       "    <tr>\n",
       "      <th>Rating</th>\n",
       "      <td>1.000000</td>\n",
       "      <td>0.119560</td>\n",
       "      <td>-0.008638</td>\n",
       "      <td>0.307136</td>\n",
       "      <td>0.017998</td>\n",
       "      <td>-0.005415</td>\n",
       "      <td>0.005415</td>\n",
       "    </tr>\n",
       "    <tr>\n",
       "      <th>Reviews</th>\n",
       "      <td>0.119560</td>\n",
       "      <td>1.000000</td>\n",
       "      <td>-0.021728</td>\n",
       "      <td>-0.093544</td>\n",
       "      <td>0.426118</td>\n",
       "      <td>0.029242</td>\n",
       "      <td>-0.029242</td>\n",
       "    </tr>\n",
       "    <tr>\n",
       "      <th>Price_numerical</th>\n",
       "      <td>-0.008638</td>\n",
       "      <td>-0.021728</td>\n",
       "      <td>1.000000</td>\n",
       "      <td>0.046967</td>\n",
       "      <td>-0.025259</td>\n",
       "      <td>-0.734187</td>\n",
       "      <td>0.734187</td>\n",
       "    </tr>\n",
       "    <tr>\n",
       "      <th>Positive Ratio</th>\n",
       "      <td>0.307136</td>\n",
       "      <td>-0.093544</td>\n",
       "      <td>0.046967</td>\n",
       "      <td>1.000000</td>\n",
       "      <td>-0.049604</td>\n",
       "      <td>-0.055440</td>\n",
       "      <td>0.055440</td>\n",
       "    </tr>\n",
       "    <tr>\n",
       "      <th>Installs_numerical</th>\n",
       "      <td>0.017998</td>\n",
       "      <td>0.426118</td>\n",
       "      <td>-0.025259</td>\n",
       "      <td>-0.049604</td>\n",
       "      <td>1.000000</td>\n",
       "      <td>0.034255</td>\n",
       "      <td>-0.034255</td>\n",
       "    </tr>\n",
       "    <tr>\n",
       "      <th>Free</th>\n",
       "      <td>-0.005415</td>\n",
       "      <td>0.029242</td>\n",
       "      <td>-0.734187</td>\n",
       "      <td>-0.055440</td>\n",
       "      <td>0.034255</td>\n",
       "      <td>1.000000</td>\n",
       "      <td>-1.000000</td>\n",
       "    </tr>\n",
       "    <tr>\n",
       "      <th>Paid</th>\n",
       "      <td>0.005415</td>\n",
       "      <td>-0.029242</td>\n",
       "      <td>0.734187</td>\n",
       "      <td>0.055440</td>\n",
       "      <td>-0.034255</td>\n",
       "      <td>-1.000000</td>\n",
       "      <td>1.000000</td>\n",
       "    </tr>\n",
       "  </tbody>\n",
       "</table>\n",
       "</div>"
      ],
      "text/plain": [
       "                      Rating   Reviews  Price_numerical  Positive Ratio  \\\n",
       "Rating              1.000000  0.119560        -0.008638        0.307136   \n",
       "Reviews             0.119560  1.000000        -0.021728       -0.093544   \n",
       "Price_numerical    -0.008638 -0.021728         1.000000        0.046967   \n",
       "Positive Ratio      0.307136 -0.093544         0.046967        1.000000   \n",
       "Installs_numerical  0.017998  0.426118        -0.025259       -0.049604   \n",
       "Free               -0.005415  0.029242        -0.734187       -0.055440   \n",
       "Paid                0.005415 -0.029242         0.734187        0.055440   \n",
       "\n",
       "                    Installs_numerical      Free      Paid  \n",
       "Rating                        0.017998 -0.005415  0.005415  \n",
       "Reviews                       0.426118  0.029242 -0.029242  \n",
       "Price_numerical              -0.025259 -0.734187  0.734187  \n",
       "Positive Ratio               -0.049604 -0.055440  0.055440  \n",
       "Installs_numerical            1.000000  0.034255 -0.034255  \n",
       "Free                          0.034255  1.000000 -1.000000  \n",
       "Paid                         -0.034255 -1.000000  1.000000  "
      ]
     },
     "execution_count": 54,
     "metadata": {},
     "output_type": "execute_result"
    }
   ],
   "source": [
    "google_work.corr()"
   ]
  },
  {
   "cell_type": "code",
   "execution_count": null,
   "metadata": {},
   "outputs": [],
   "source": []
  }
 ],
 "metadata": {
  "kernelspec": {
   "display_name": "Python 3",
   "language": "python",
   "name": "python3"
  },
  "language_info": {
   "codemirror_mode": {
    "name": "ipython",
    "version": 3
   },
   "file_extension": ".py",
   "mimetype": "text/x-python",
   "name": "python",
   "nbconvert_exporter": "python",
   "pygments_lexer": "ipython3",
   "version": "3.6.7"
  }
 },
 "nbformat": 4,
 "nbformat_minor": 2
}
