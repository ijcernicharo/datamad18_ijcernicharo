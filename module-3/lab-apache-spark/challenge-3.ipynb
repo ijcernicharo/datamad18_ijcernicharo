{
 "cells": [
  {
   "cell_type": "markdown",
   "metadata": {},
   "source": [
    "# Challenge 3: PySpark Demo\n",
    "\n",
    "In this Challenge we'll show you how to use Spark to run intensive computation jobs in Jupyter Notebook. \n",
    "\n",
    "#### Suggested time on this challenge: 120-150 min\n",
    "\n",
    "So far you should have installed PySpark in local mode, configured your environment variables, and started Jupyter Notebook with PySpark. If you haven't completed any of the previous steps, please go back and complete them because otherwise you won't be able to complete this challenge.\n",
    "\n",
    "If everything works so far, you should be able to create a `SparkContext` instance in Jupyter Notebook. Try to execute the next cell where the code is already written for you to create a new `SparkContext` instance."
   ]
  },
  {
   "cell_type": "code",
   "execution_count": 1,
   "metadata": {},
   "outputs": [],
   "source": [
    "# Create a `SparkContext` instance or reuse an existing one\n",
    "sc = SparkContext.getOrCreate()"
   ]
  },
  {
   "cell_type": "markdown",
   "metadata": {},
   "source": [
    "[Spark localhost link](http://localhost:4040/jobs/)"
   ]
  },
  {
   "cell_type": "markdown",
   "metadata": {},
   "source": [
    "No errors? Congrats! But in case you do, review Challenge 2 and google your error to see what could have possibly gone wrong.\n",
    "\n",
    "SparkContext is a library that helps you access the Spark execution environment in order to use the [Spark Python APIs](https://spark.apache.org/docs/latest/api/python/index.html). We will show you an example of how to call the Spark API using the SparkContext instance.\n",
    "\n",
    "But before we start the real work, we'd like you to get familiar with the concept of [benchmarking](https://en.wikipedia.org/wiki/Benchmark_(computing)). Benchmarking is a common technique in software engineering and data engineering to evaluate the efficiency of your codes. The idea is to measure the execution time of your program and research if there is room to improve your code in order to get the job done with shorter time. In machine learning a lot of times you'be doing repeated sampling and complex queries that could run for hours, days, or even weeks. It is important that you improve your code efficiency whenever you can. Otherwise you'll waste a lot of time and computation powers in executing inefficient code.\n",
    "\n",
    "We will benchmark a code snippet that estimates Pi (`π`) by repeated sampling. We will first benchmark this without using Spark. The idea of the Pi estimation is to randomly generate many points with `x` and `y` coordinates between 0 and 1. These points will fall in a square whose side length is 1 (the upper right grid of the square in the image below that combines the red and green areas). We will count the number of sample points that fall into the 1/4 circle sector (the area in red) against all points which allows us to calculate Pi.\n",
    "\n",
    "![pi.png](pi.png)\n",
    "\n",
    "Below are the math formulas to calculate the probability of a point to fall into the 1/4 circle sector (*A0*) and the square area (*A0*).\n",
    "\n",
    "```\n",
    "A0 = π * r^2\n",
    "A1 = (2r)^2\n",
    "```\n",
    "\n",
    "From the formulas above, you can deduce ` π = 4 * A0` if *r* is 1, which means Pi equals to 4 times the probability of a point falling into the red area.\n",
    "\n",
    "Because this lab focuses on Spark, we will provide you the code snippet for estimating Pi based on the mathematical concept discussed above. Read the code carefully and make sure you fully understand what the code does."
   ]
  },
  {
   "cell_type": "code",
   "execution_count": 2,
   "metadata": {},
   "outputs": [],
   "source": [
    "import numpy as np\n",
    "from timeit import default_timer as timer\n",
    "\n",
    "def inside(p):\n",
    "    \"\"\"\n",
    "    Generate a random point and check if the point is within the circle with radius=1.\n",
    "    \n",
    "    Returns:\n",
    "        (bool) whether the generated point is within the circle area\n",
    "    \"\"\"\n",
    "    x, y = np.random.random(), np.random.random()\n",
    "    return x*x + y*y < 1\n",
    "\n",
    "def estimate_pi(num_samples):\n",
    "    \"\"\"\n",
    "    Estimate the value of Pi by means of repeated sampling. Benchmark the repeated sampling time cost.\n",
    "    \n",
    "    Params:\n",
    "        num_sampes (int): the number of sample points to generate\n",
    "    \n",
    "    Returns:\n",
    "        (float) estimated value of Pi\n",
    "    \"\"\"\n",
    "    print(\"Executing Spark job...\")\n",
    "    start = timer()\n",
    "    dots = list(filter(inside,list(range(num_samples)))) \n",
    "    count = len(dots)\n",
    "    end = timer()\n",
    "    print(\"Spark job ended. Total time elapsed: %s\" % (end-start))\n",
    "    return 4.0 * count / num_samples,end-start"
   ]
  },
  {
   "cell_type": "markdown",
   "metadata": {},
   "source": [
    "In the cell below, call `estimate_pi()` with `50000`, `500000`, and `5000000` sample sizes. See what you get."
   ]
  },
  {
   "cell_type": "code",
   "execution_count": 3,
   "metadata": {
    "scrolled": true
   },
   "outputs": [
    {
     "name": "stdout",
     "output_type": "stream",
     "text": [
      "Executing Spark job...\n",
      "Spark job ended. Total time elapsed: 0.0005363199998100754\n",
      "Executing Spark job...\n",
      "Spark job ended. Total time elapsed: 0.00019729799987544538\n",
      "Executing Spark job...\n",
      "Spark job ended. Total time elapsed: 0.00023508600042987382\n",
      "Executing Spark job...\n",
      "Spark job ended. Total time elapsed: 0.00012540200077637564\n",
      "Executing Spark job...\n",
      "Spark job ended. Total time elapsed: 0.00016692699955456192\n",
      "Executing Spark job...\n",
      "Spark job ended. Total time elapsed: 0.0001727010003378382\n",
      "Executing Spark job...\n",
      "Spark job ended. Total time elapsed: 0.0001684279995970428\n",
      "Executing Spark job...\n",
      "Spark job ended. Total time elapsed: 0.0003653049998320057\n",
      "Executing Spark job...\n",
      "Spark job ended. Total time elapsed: 0.00014667300001747208\n",
      "Executing Spark job...\n",
      "Spark job ended. Total time elapsed: 0.00021756599926447961\n",
      "Executing Spark job...\n",
      "Spark job ended. Total time elapsed: 0.0004026690003229305\n",
      "Executing Spark job...\n",
      "Spark job ended. Total time elapsed: 0.0005546080001295195\n",
      "Executing Spark job...\n",
      "Spark job ended. Total time elapsed: 0.0008774999996603583\n",
      "Executing Spark job...\n",
      "Spark job ended. Total time elapsed: 0.0007759970003462513\n",
      "Executing Spark job...\n",
      "Spark job ended. Total time elapsed: 0.00026604600043356186\n",
      "Executing Spark job...\n",
      "Spark job ended. Total time elapsed: 0.0002768749991446384\n",
      "Executing Spark job...\n",
      "Spark job ended. Total time elapsed: 0.0002825740002663224\n",
      "Executing Spark job...\n",
      "Spark job ended. Total time elapsed: 0.00028843699965364067\n",
      "Executing Spark job...\n",
      "Spark job ended. Total time elapsed: 0.00029667699982383056\n",
      "Executing Spark job...\n",
      "Spark job ended. Total time elapsed: 0.0003714679996846826\n",
      "Executing Spark job...\n",
      "Spark job ended. Total time elapsed: 0.0005506730003617122\n",
      "Executing Spark job...\n",
      "Spark job ended. Total time elapsed: 0.00076923300002818\n",
      "Executing Spark job...\n",
      "Spark job ended. Total time elapsed: 0.000902458999917144\n",
      "Executing Spark job...\n",
      "Spark job ended. Total time elapsed: 0.0008606360006524483\n",
      "Executing Spark job...\n",
      "Spark job ended. Total time elapsed: 0.0008725370007596212\n",
      "Executing Spark job...\n",
      "Spark job ended. Total time elapsed: 0.0011994110000159708\n",
      "Executing Spark job...\n",
      "Spark job ended. Total time elapsed: 0.0011964119994445355\n",
      "Executing Spark job...\n",
      "Spark job ended. Total time elapsed: 0.001180889000352181\n",
      "Executing Spark job...\n",
      "Spark job ended. Total time elapsed: 0.001837601000261202\n",
      "Executing Spark job...\n",
      "Spark job ended. Total time elapsed: 0.003975309000452398\n",
      "Executing Spark job...\n",
      "Spark job ended. Total time elapsed: 0.005295216000376968\n",
      "Executing Spark job...\n",
      "Spark job ended. Total time elapsed: 0.00681041100051516\n",
      "Executing Spark job...\n",
      "Spark job ended. Total time elapsed: 0.008621793999736838\n",
      "Executing Spark job...\n",
      "Spark job ended. Total time elapsed: 0.009121121000134735\n",
      "Executing Spark job...\n",
      "Spark job ended. Total time elapsed: 0.00770139299947914\n",
      "Executing Spark job...\n",
      "Spark job ended. Total time elapsed: 0.010882534999836935\n",
      "Executing Spark job...\n",
      "Spark job ended. Total time elapsed: 0.00991949699982797\n",
      "Executing Spark job...\n",
      "Spark job ended. Total time elapsed: 0.015995987000678724\n",
      "Executing Spark job...\n",
      "Spark job ended. Total time elapsed: 0.023245235000104003\n",
      "Executing Spark job...\n",
      "Spark job ended. Total time elapsed: 0.029807676000018546\n",
      "Executing Spark job...\n",
      "Spark job ended. Total time elapsed: 0.038099156000498624\n",
      "Executing Spark job...\n",
      "Spark job ended. Total time elapsed: 0.05392348999976093\n",
      "Executing Spark job...\n",
      "Spark job ended. Total time elapsed: 0.052072610999857716\n",
      "Executing Spark job...\n",
      "Spark job ended. Total time elapsed: 0.061321954999584705\n",
      "Executing Spark job...\n",
      "Spark job ended. Total time elapsed: 0.06906511099987256\n",
      "Executing Spark job...\n",
      "Spark job ended. Total time elapsed: 0.08091351599978225\n",
      "Executing Spark job...\n",
      "Spark job ended. Total time elapsed: 0.1493800950001969\n",
      "Executing Spark job...\n",
      "Spark job ended. Total time elapsed: 0.22714581099990028\n",
      "Executing Spark job...\n",
      "Spark job ended. Total time elapsed: 0.3262137299998358\n",
      "Executing Spark job...\n",
      "Spark job ended. Total time elapsed: 0.3979679149997537\n",
      "Executing Spark job...\n",
      "Spark job ended. Total time elapsed: 0.47926110200023686\n",
      "Executing Spark job...\n",
      "Spark job ended. Total time elapsed: 0.5650248649999412\n",
      "Executing Spark job...\n",
      "Spark job ended. Total time elapsed: 0.5978926670004512\n",
      "Executing Spark job...\n",
      "Spark job ended. Total time elapsed: 0.6725971170008052\n",
      "Executing Spark job...\n",
      "Spark job ended. Total time elapsed: 0.7825017410004875\n",
      "Executing Spark job...\n",
      "Spark job ended. Total time elapsed: 1.5019415859997025\n",
      "Executing Spark job...\n",
      "Spark job ended. Total time elapsed: 2.27358027199989\n",
      "Executing Spark job...\n",
      "Spark job ended. Total time elapsed: 2.9667136339994613\n",
      "Executing Spark job...\n",
      "Spark job ended. Total time elapsed: 3.795096062000084\n",
      "Executing Spark job...\n",
      "Spark job ended. Total time elapsed: 4.659416781999425\n",
      "Executing Spark job...\n",
      "Spark job ended. Total time elapsed: 5.168434299000182\n",
      "Executing Spark job...\n",
      "Spark job ended. Total time elapsed: 6.135483869000382\n",
      "Executing Spark job...\n",
      "Spark job ended. Total time elapsed: 6.617937433999941\n",
      "Executing Spark job...\n",
      "Spark job ended. Total time elapsed: 7.371780430000399\n",
      "Executing Spark job...\n",
      "Spark job ended. Total time elapsed: 14.87970294600018\n",
      "Executing Spark job...\n",
      "Spark job ended. Total time elapsed: 22.980363709999438\n",
      "Executing Spark job...\n",
      "Spark job ended. Total time elapsed: 29.73439167200013\n",
      "Executing Spark job...\n",
      "Spark job ended. Total time elapsed: 38.510441983999954\n",
      "Executing Spark job...\n",
      "Spark job ended. Total time elapsed: 46.3784916300001\n",
      "Executing Spark job...\n",
      "Spark job ended. Total time elapsed: 52.87846669699957\n",
      "Executing Spark job...\n",
      "Spark job ended. Total time elapsed: 58.75900475200069\n",
      "Executing Spark job...\n",
      "Spark job ended. Total time elapsed: 69.45128152000052\n",
      "\n",
      "N of samples:  1  | Pi:  0.0\n",
      "N of samples:  2  | Pi:  0.0\n",
      "N of samples:  3  | Pi:  4.0\n",
      "N of samples:  4  | Pi:  3.0\n",
      "N of samples:  5  | Pi:  3.2\n",
      "N of samples:  6  | Pi:  4.0\n",
      "N of samples:  7  | Pi:  1.7142857142857142\n",
      "N of samples:  8  | Pi:  3.0\n",
      "N of samples:  9  | Pi:  3.5555555555555554\n",
      "N of samples:  10  | Pi:  2.4\n",
      "N of samples:  20  | Pi:  3.2\n",
      "N of samples:  30  | Pi:  2.533333333333333\n",
      "N of samples:  40  | Pi:  2.9\n",
      "N of samples:  50  | Pi:  2.96\n",
      "N of samples:  60  | Pi:  2.933333333333333\n",
      "N of samples:  70  | Pi:  2.857142857142857\n",
      "N of samples:  80  | Pi:  2.85\n",
      "N of samples:  90  | Pi:  3.111111111111111\n",
      "N of samples:  100  | Pi:  3.12\n",
      "N of samples:  200  | Pi:  3.1\n",
      "N of samples:  300  | Pi:  3.1466666666666665\n",
      "N of samples:  400  | Pi:  3.11\n",
      "N of samples:  500  | Pi:  3.312\n",
      "N of samples:  600  | Pi:  3.1733333333333333\n",
      "N of samples:  700  | Pi:  3.2057142857142855\n",
      "N of samples:  800  | Pi:  3.085\n",
      "N of samples:  900  | Pi:  3.1244444444444444\n",
      "N of samples:  1000  | Pi:  3.108\n",
      "N of samples:  2000  | Pi:  3.112\n",
      "N of samples:  3000  | Pi:  3.1213333333333333\n",
      "N of samples:  4000  | Pi:  3.147\n",
      "N of samples:  5000  | Pi:  3.1832\n",
      "N of samples:  6000  | Pi:  3.114\n",
      "N of samples:  7000  | Pi:  3.161714285714286\n",
      "N of samples:  8000  | Pi:  3.1395\n",
      "N of samples:  9000  | Pi:  3.143111111111111\n",
      "N of samples:  10000  | Pi:  3.1388\n",
      "N of samples:  20000  | Pi:  3.122\n",
      "N of samples:  30000  | Pi:  3.1510666666666665\n",
      "N of samples:  40000  | Pi:  3.1459\n",
      "N of samples:  50000  | Pi:  3.14512\n",
      "N of samples:  60000  | Pi:  3.1364666666666667\n",
      "N of samples:  70000  | Pi:  3.1390285714285713\n",
      "N of samples:  80000  | Pi:  3.14175\n",
      "N of samples:  90000  | Pi:  3.1367555555555557\n",
      "N of samples:  100000  | Pi:  3.14368\n",
      "N of samples:  200000  | Pi:  3.1424\n",
      "N of samples:  300000  | Pi:  3.145\n",
      "N of samples:  400000  | Pi:  3.14162\n",
      "N of samples:  500000  | Pi:  3.139408\n",
      "N of samples:  600000  | Pi:  3.1421466666666666\n",
      "N of samples:  700000  | Pi:  3.1427485714285712\n",
      "N of samples:  800000  | Pi:  3.139635\n",
      "N of samples:  900000  | Pi:  3.1415155555555554\n",
      "N of samples:  1000000  | Pi:  3.143644\n",
      "N of samples:  2000000  | Pi:  3.140796\n",
      "N of samples:  3000000  | Pi:  3.140748\n",
      "N of samples:  4000000  | Pi:  3.141515\n",
      "N of samples:  5000000  | Pi:  3.1417896\n",
      "N of samples:  6000000  | Pi:  3.141685333333333\n",
      "N of samples:  7000000  | Pi:  3.141822857142857\n",
      "N of samples:  8000000  | Pi:  3.141825\n",
      "N of samples:  9000000  | Pi:  3.1413355555555555\n",
      "N of samples:  10000000  | Pi:  3.1421412\n",
      "N of samples:  20000000  | Pi:  3.1412734\n",
      "N of samples:  30000000  | Pi:  3.141487466666667\n",
      "N of samples:  40000000  | Pi:  3.1413189\n",
      "N of samples:  50000000  | Pi:  3.141654\n",
      "N of samples:  60000000  | Pi:  3.1415218\n",
      "N of samples:  70000000  | Pi:  3.141195657142857\n",
      "N of samples:  80000000  | Pi:  3.1416971\n",
      "N of samples:  90000000  | Pi:  3.1417182666666665\n"
     ]
    }
   ],
   "source": [
    "# Your code here\n",
    "\n",
    "samples = [e*(10**k) for k in range(0,8) for e in range(1,10)]\n",
    "\n",
    "data_ls = []\n",
    "for item in samples:\n",
    "    pi_z,times = estimate_pi(item)\n",
    "    data_ls.append([item,pi_z,times])\n",
    "    print('N of samples: ',item,' | Pi: ',pi_z,' | Time: ',times)\n"
   ]
  },
  {
   "cell_type": "code",
   "execution_count": 5,
   "metadata": {},
   "outputs": [
    {
     "data": {
      "image/png": "[encoded data removed]",
      "text/plain": [
       "<Figure size 1008x504 with 2 Axes>"
      ]
     },
     "metadata": {
      "needs_background": "light"
     },
     "output_type": "display_data"
    }
   ],
   "source": [
    "import matplotlib.pyplot as plt\n",
    "\n",
    "data = np.asarray(data_ls)\n",
    "\n",
    "fig = plt.figure(figsize=(14,7))\n",
    "\n",
    "ax=plt.subplot(111)\n",
    "ax.plot(data[:,0],data[:,1],label='Pi_Value',color='red',marker='D')\n",
    "ax.set_xlabel('Num of Samples')\n",
    "ax.set_ylabel('Pi_value')\n",
    "ax.grid()\n",
    "ax.set_ylim(min(data[:,1])*0.8,max(data[:,1])*1.2)\n",
    "ax.legend(loc='upper left')\n",
    "ax1=ax.twinx()\n",
    "ax1.plot(data[:,0],data[:,2],color='blue',marker='x',label='Processing Time')\n",
    "ax1.fill_between(data[:,0],data[:,2],color='cyan',alpha=0.3)\n",
    "ax1.set_ylabel('Time (s)')\n",
    "ax1.set_xscale('log')\n",
    "ax1.set_yscale('log')\n",
    "ax1.grid()\n",
    "ax1.set_ylim(min(data[:,2])*0.1,max(data[:,2])*3)\n",
    "ax1.legend(loc='upper right')\n",
    "\n",
    "plt.show()"
   ]
  },
  {
   "cell_type": "markdown",
   "metadata": {},
   "source": [
    "As you see, the excution time increases when you increase the sample size. In addition, the accuracy of the Pi value increases as you increase the sample size. But if you keep increasing the sample size you have to wait a long time for the script to finish execution. What can you do if you really need to run a very large sample size?\n",
    "\n",
    "There are several options. You can **use a computer with higher processing speed**. This allows you to execute the sampling jobs faster. But this is usually not the best option because the improvement of CPU processing speed has limited impacts on executing millions of sampling jobs.\n",
    "\n",
    "The second option is to **run multiple sampling jobs in parallel**. In case you don't know yet, Python is a linear programming language which means it executes one job then the next. If you wait for millions of samping jobs to finish in a single queue it will take you a lot of time. Therefore, most modern programming languages including Python and R have introduced a feature called [parallel programming or parallel processing](https://wiki.python.org/moin/ParallelProcessing) so that you can save time by running several tasks at the same time. Say if your sampling jobs would take 1,000 seconds to finish in a single queue, you can finish them in 250 seconds with 4 parallel processing queues. Note that this time calculation is theoretical. In reality with 4 parallel queues the finishing time is usually more than 250 seconds because Python has to spend some overhead time to [spawn](https://en.wikipedia.org/wiki/Spawn_(computing)) the parallel processes.\n",
    "\n",
    "**How many parallel processes you can run depends on how many CPU cores you have** on your computer. If you have 8 CPU cores on your computer, the max number of parallel processes you can run is 8. What if you attempt to run more processes than the number of your CPU cores? The excessive jobs will be queued up in the same CPU core which makes your parallel programming meaningless. Therefore, in order to run parallel programming you need to use a multi-core computer and the parallel processes can't exceed your number of CPU cores. \n",
    "\n",
    "Then you may ask, **should I allocate all my CPU cores to parallel programming?** Remember that besides executing the parallel programming scripts, your computer's CPUs also need to run your operation system and some other system processes. Therefore, **you typically reserve 1-2 CPU cores for the OS and system processes and allocate the rest to parallel programming**. However, with Apache Spark you don't need to manually allocate the CPU cores because Spark will automatically do that for you depending on how many cores it has access to. Remember in Challenge 2 we asked you to use the following command to start Spark:\n",
    "\n",
    "```\n",
    "$SPARK_PATH/bin/pyspark --master \"local[*]\"\n",
    "```\n",
    "\n",
    "The `*` directive tells Sparks to decide how many CPU cores to use by itself. If you start Spark with `local[2]`, it means you allocate 2 CPU cores to Spark.\n",
    "\n",
    "Another note is **your computer memory may also set a bottleneck on the performance of parallel programming**. When your computer runs parallel jobs, its memory consumption is multiplied. If a single process consumes 256mb memory, four parallel processes will consume 1,024mb memory. This is in addition to the memory consumption of Apache Spark that keeps your dataset in the memory to improve processing speed. Therefore, in order to use Spark successfully in local mode, you really need a high-end computer with multi-cores and high memory (8gb or above). If your computer runs out of memory, your parallel scripts will be shut down.  \n",
    "\n",
    "So far we have discussed the multi-core and memory concerns of running Spark in the local mode. These concerns are similar if you run Spark in the cluster mode. With the cluster mode each cluster has its own memory and one or multiple cores. Spark is smart enough to automatically allocate the resources in the cluster mode too.\n",
    "\n",
    "Now let's move on to the real stuff. How do you run parallel programming with Apache Spark? **That is achieved by invoking Spark's `parallelize` method** ([documentation](https://spark.apache.org/docs/latest/rdd-programming-guide.html#parallelized-collections)). In the next cell, we have a function called `estimate_pi_parallel` for you to complete. You will rewrite the `estimate_pi` function we gave you earlier and use `SparkContext.parallelize` to spawn parallel processes to create the random point samples then use the samples to estimate Pi. \n",
    "\n",
    "If you are stuck, you can reference [this Jupyter Notebook example](https://github.com/mGalarnyk/Installations_Mac_Ubuntu_Windows/blob/master/Spark/Estimating%20PI.ipynb) (but don't simply copy and paste). **Make sure to benchmark your function so that we know if Spark helps improve the code executing time.**\n",
    "\n",
    "*Hint: You can re-use the `inside` function we gave you earlier in your code.*"
   ]
  },
  {
   "cell_type": "code",
   "execution_count": 7,
   "metadata": {},
   "outputs": [],
   "source": [
    "import time\n",
    "def estimate_pi_parallel(num_samples):\n",
    "    \"\"\"\n",
    "    Estimate the value of Pi by means of repeated sampling using Spark's `parallelize` method. \n",
    "    Benchmark the repeated sampling time cost.\n",
    "    \n",
    "    Params:\n",
    "        num_sampes (int): the number of sample points to generate\n",
    "    \n",
    "    Returns:\n",
    "        (float) estimated value of Pi\n",
    "    \"\"\"\n",
    "    # Your code here\n",
    "    t0=time.time()\n",
    "    count = sc.parallelize(range(0, num_samples)).filter(inside).count() \n",
    "    t1=time.time()\n",
    "    tt=t1-t0\n",
    "    return 4 * count/num_samples,tt"
   ]
  },
  {
   "cell_type": "markdown",
   "metadata": {},
   "source": [
    "Next, test your `estimate_pi_parallel` function with `5000000` and `50000000` sample sizes. Run it more than once for each sample size to see how the execution time varies."
   ]
  },
  {
   "cell_type": "code",
   "execution_count": 8,
   "metadata": {},
   "outputs": [
    {
     "name": "stdout",
     "output_type": "stream",
     "text": [
      "Samples:  1  | Pi:  4.0  | Time:  0.9641759395599365\n",
      "Samples:  2  | Pi:  4.0  | Time:  0.10535311698913574\n",
      "Samples:  3  | Pi:  4.0  | Time:  0.10531282424926758\n",
      "Samples:  4  | Pi:  4.0  | Time:  0.10679817199707031\n",
      "Samples:  5  | Pi:  4.0  | Time:  0.11167216300964355\n",
      "Samples:  6  | Pi:  4.0  | Time:  0.1152033805847168\n",
      "Samples:  7  | Pi:  4.0  | Time:  0.11713814735412598\n",
      "Samples:  8  | Pi:  4.0  | Time:  0.11654043197631836\n",
      "Samples:  9  | Pi:  4.0  | Time:  0.1062321662902832\n",
      "Samples:  10  | Pi:  4.0  | Time:  0.10468554496765137\n",
      "Samples:  20  | Pi:  4.0  | Time:  0.10960054397583008\n",
      "Samples:  30  | Pi:  3.2  | Time:  0.10965323448181152\n",
      "Samples:  40  | Pi:  3.2  | Time:  0.1076042652130127\n",
      "Samples:  50  | Pi:  3.2  | Time:  0.10602879524230957\n",
      "Samples:  60  | Pi:  2.933333333333333  | Time:  0.10622668266296387\n",
      "Samples:  70  | Pi:  3.085714285714286  | Time:  0.10572576522827148\n",
      "Samples:  80  | Pi:  3.2  | Time:  0.10737991333007812\n",
      "Samples:  90  | Pi:  3.2  | Time:  0.09445738792419434\n",
      "Samples:  100  | Pi:  3.04  | Time:  0.0927741527557373\n",
      "Samples:  200  | Pi:  2.72  | Time:  0.09371733665466309\n",
      "Samples:  300  | Pi:  2.933333333333333  | Time:  0.09798455238342285\n",
      "Samples:  400  | Pi:  3.12  | Time:  0.09127092361450195\n",
      "Samples:  500  | Pi:  3.168  | Time:  0.09594130516052246\n",
      "Samples:  600  | Pi:  3.04  | Time:  0.08763337135314941\n",
      "Samples:  700  | Pi:  2.9257142857142857  | Time:  0.10760259628295898\n",
      "Samples:  800  | Pi:  2.96  | Time:  0.10003089904785156\n",
      "Samples:  900  | Pi:  2.933333333333333  | Time:  0.1032559871673584\n",
      "Samples:  1000  | Pi:  2.944  | Time:  0.09216666221618652\n",
      "Samples:  2000  | Pi:  3.024  | Time:  0.09233593940734863\n",
      "Samples:  3000  | Pi:  3.050666666666667  | Time:  0.08822965621948242\n",
      "Samples:  4000  | Pi:  3.056  | Time:  0.0910940170288086\n",
      "Samples:  5000  | Pi:  3.0656  | Time:  0.0917208194732666\n",
      "Samples:  6000  | Pi:  3.0773333333333333  | Time:  0.0941317081451416\n",
      "Samples:  7000  | Pi:  3.0354285714285716  | Time:  0.0910189151763916\n",
      "Samples:  8000  | Pi:  3.064  | Time:  0.09656572341918945\n",
      "Samples:  9000  | Pi:  3.072  | Time:  0.0900275707244873\n",
      "Samples:  10000  | Pi:  3.0944  | Time:  0.09293889999389648\n",
      "Samples:  20000  | Pi:  3.1328  | Time:  0.09704017639160156\n",
      "Samples:  30000  | Pi:  3.1626666666666665  | Time:  0.09282398223876953\n",
      "Samples:  40000  | Pi:  3.168  | Time:  0.11468982696533203\n",
      "Samples:  50000  | Pi:  3.16416  | Time:  0.09780359268188477\n",
      "Samples:  60000  | Pi:  3.1738666666666666  | Time:  0.09579873085021973\n",
      "Samples:  70000  | Pi:  3.164342857142857  | Time:  0.11106443405151367\n",
      "Samples:  80000  | Pi:  3.1648  | Time:  0.11158490180969238\n",
      "Samples:  90000  | Pi:  3.159466666666667  | Time:  0.11552548408508301\n",
      "Samples:  100000  | Pi:  3.16576  | Time:  0.11780667304992676\n",
      "Samples:  200000  | Pi:  3.15376  | Time:  0.16926264762878418\n",
      "Samples:  300000  | Pi:  3.1476266666666666  | Time:  0.18078255653381348\n",
      "Samples:  400000  | Pi:  3.15048  | Time:  0.2138655185699463\n",
      "Samples:  500000  | Pi:  3.14304  | Time:  0.25046658515930176\n",
      "Samples:  600000  | Pi:  3.1373333333333333  | Time:  0.2887003421783447\n",
      "Samples:  700000  | Pi:  3.1374171428571427  | Time:  0.31289052963256836\n",
      "Samples:  800000  | Pi:  3.13696  | Time:  0.32700467109680176\n",
      "Samples:  900000  | Pi:  3.1406222222222224  | Time:  0.36451268196105957\n",
      "Samples:  1000000  | Pi:  3.140928  | Time:  0.4286224842071533\n",
      "Samples:  2000000  | Pi:  3.14  | Time:  0.8139262199401855\n",
      "Samples:  3000000  | Pi:  3.139136  | Time:  1.053011417388916\n",
      "Samples:  4000000  | Pi:  3.139952  | Time:  1.3767549991607666\n",
      "Samples:  5000000  | Pi:  3.1395776  | Time:  1.6636018753051758\n",
      "Samples:  6000000  | Pi:  3.139248  | Time:  2.031507968902588\n",
      "Samples:  7000000  | Pi:  3.1401965714285716  | Time:  2.3236083984375\n",
      "Samples:  8000000  | Pi:  3.140532  | Time:  2.6171672344207764\n",
      "Samples:  9000000  | Pi:  3.140608  | Time:  2.9760689735412598\n",
      "Samples:  10000000  | Pi:  3.14136  | Time:  3.275080442428589\n",
      "Samples:  20000000  | Pi:  3.142408  | Time:  6.506470680236816\n",
      "Samples:  30000000  | Pi:  3.1421248  | Time:  9.59446907043457\n",
      "Samples:  40000000  | Pi:  3.1429048  | Time:  12.588029861450195\n",
      "Samples:  50000000  | Pi:  3.14287424  | Time:  15.707060098648071\n",
      "Samples:  60000000  | Pi:  3.1424485333333334  | Time:  19.503480195999146\n",
      "Samples:  70000000  | Pi:  3.1423396571428572  | Time:  22.672439098358154\n",
      "Samples:  80000000  | Pi:  3.1419896  | Time:  27.12748432159424\n",
      "Samples:  90000000  | Pi:  3.1419079111111112  | Time:  30.309702396392822\n"
     ]
    }
   ],
   "source": [
    "# Your code here\n",
    "times2 = []\n",
    "pi_2 = []\n",
    "\n",
    "for item in samples:\n",
    "    pi_z,t = estimate_pi_parallel(item)\n",
    "    print('Samples: ',item,' | Pi: ',pi_z,' | Time: ',t)\n",
    "    times2.append(t)\n",
    "    pi_2.append(pi_z)"
   ]
  },
  {
   "cell_type": "code",
   "execution_count": 9,
   "metadata": {},
   "outputs": [
    {
     "data": {
      "image/png": "[encoded data removed]",
      "text/plain": [
       "<Figure size 1008x504 with 1 Axes>"
      ]
     },
     "metadata": {
      "needs_background": "light"
     },
     "output_type": "display_data"
    }
   ],
   "source": [
    "fig = plt.figure(figsize=(14,7))\n",
    "\n",
    "ax=plt.gca()\n",
    "ax.plot(samples,data[:,2],label='Standard',color='red',marker='D',clip_on=False)\n",
    "ax.plot(samples,times2,label='Parallel Spark',color='blue',marker='x',clip_on=False)\n",
    "ax.fill_between(samples,data[:,2],times2,where=data[:,2]>=times2,color='green',alpha=0.5,label='Spark GOOD')\n",
    "ax.fill_between(samples,data[:,2],times2,where=data[:,2]<=times2,color='red',alpha=0.5,label='Spark BAD')\n",
    "ax.set_xlabel('Num of Samples')\n",
    "ax.set_ylabel('Time (s)')\n",
    "ax.grid()\n",
    "ax.set_ylim(min(min(data[:,2]),min(times2))*0.8,max(max(data[:,2]),max(times2))*1.2)\n",
    "ax.legend()\n",
    "ax.set_xscale('log')\n",
    "ax.set_yscale('log')\n",
    "\n",
    "plt.show()"
   ]
  },
  {
   "cell_type": "markdown",
   "metadata": {},
   "source": [
    "You should have noticed the execution time is significantly shorter with Spark's `parallelize` method than without using Spark. However, if you find the execution time is actually longer, it could be because your code is not efficient or Spark doesn't have access to multiple CPU cores. If it's the latter case, don't worry. You can still experience the power of parallel programming in Challenge 4 when we run Spark in the cluster mode.\n",
    "\n",
    "You may have also noticed the first time to execute your function takes significantly longer time than executing it in the second and third time (you need to execute the commands consequtively in a row). This is because at the first time you execute the function, Spark has to acquire the memory and CPUs it needs from the system. After the execution is finished Spark does not release the memory immediately. So when you execute the script consequtively, Spark does not need to acquire the hardware resources again.\n",
    "\n",
    "Spark is written in Java (you are interacting with its Java core via a Python wrapper). Java applications typically maintain a minimum memory even if it is idling. When memory-demanding processes are being executed, Java will *burst* its memory consumption by acquiring more from the system."
   ]
  },
  {
   "cell_type": "markdown",
   "metadata": {},
   "source": [
    "# Data Wrangling with PySpark Dataframes\n",
    "\n",
    "Next, you will be practicing data wrangling with the Pandas-like dataframes that PySpark provides you. You should have already used the equivalent of these functions with Pandas in the previous labs. We just want to show you the Spark way of doing the similar things. Note that the syntax in Pyspark is different from that in Pandas. Use Google to find the examples you need."
   ]
  },
  {
   "cell_type": "markdown",
   "metadata": {},
   "source": [
    "#### Import `SparkSession` from `pyspark.sql`. Create a new instance of SparkSession."
   ]
  },
  {
   "cell_type": "code",
   "execution_count": 68,
   "metadata": {},
   "outputs": [],
   "source": [
    "from pyspark.sql import SparkSession\n",
    "spark = SparkSession.builder.appName('patients').getOrCreate()"
   ]
  },
  {
   "cell_type": "markdown",
   "metadata": {},
   "source": [
    "#### Read a CSV dataset from a previous lab using `spark.read.csv()` and assign the returned dataframe into a variable called `patients`.\n",
    "\n",
    "The dataset path is `../lab-sklearn-and-unsupervised-learning/patient-admission-dataset-for-learning-data-mining.csv`. \n",
    "\n",
    "*Hint: Use `spark.read.csv()` to read from the dataset.*"
   ]
  },
  {
   "cell_type": "code",
   "execution_count": 69,
   "metadata": {},
   "outputs": [],
   "source": [
    "# Use `spark.read.csv\n",
    "patients = spark.read.csv('../lab-sklearn-and-unsupervised-learning/patient-admission-dataset-for-learning-data-mining.csv', \n",
    "                          header=True)"
   ]
  },
  {
   "cell_type": "markdown",
   "metadata": {},
   "source": [
    "#### Print a summary of `patients` using `printSchema()`.\n",
    "\n",
    "*Hint: Use `printSchema`.*"
   ]
  },
  {
   "cell_type": "code",
   "execution_count": 70,
   "metadata": {},
   "outputs": [
    {
     "name": "stdout",
     "output_type": "stream",
     "text": [
      "root\n",
      " |-- id: string (nullable = true)\n",
      " |-- patient_name: string (nullable = true)\n",
      " |-- patient_email: string (nullable = true)\n",
      " |-- doctor_phone: string (nullable = true)\n",
      " |-- patient_gender: string (nullable = true)\n",
      " |-- patient_dob: string (nullable = true)\n",
      " |-- patient_diabetic: string (nullable = true)\n",
      " |-- patient_allergic: string (nullable = true)\n",
      " |-- patient_weight_kg: string (nullable = true)\n",
      " |-- patient_height_sm: string (nullable = true)\n",
      " |-- patient_nhs_number: string (nullable = true)\n",
      " |-- doctor_name: string (nullable = true)\n",
      " |-- appointment_date: string (nullable = true)\n",
      " |-- patient_show: string (nullable = true)\n",
      " |-- is_regular_visit: string (nullable = true)\n",
      " |-- prescribed_medicines: string (nullable = true)\n",
      " |-- diagnosis: string (nullable = true)\n",
      "\n"
     ]
    }
   ],
   "source": [
    "# Your code here\n",
    "patients.printSchema()"
   ]
  },
  {
   "cell_type": "markdown",
   "metadata": {},
   "source": [
    "#### Count the missing values in the `patients[\"diagnosis\"]`. Your output should be `488`."
   ]
  },
  {
   "cell_type": "code",
   "execution_count": 71,
   "metadata": {},
   "outputs": [
    {
     "name": "stdout",
     "output_type": "stream",
     "text": [
      "Number of missing values in Diagnosis:  488\n"
     ]
    }
   ],
   "source": [
    "# Your code here\n",
    "\n",
    "print('Number of missing values in Diagnosis: ',patients.filter(patients['diagnosis'].isNull()).count())"
   ]
  },
  {
   "cell_type": "markdown",
   "metadata": {},
   "source": [
    "#### Print the `diagnosis` column in `patients`.\n",
    "\n",
    "*Hint: First select the column (`.select()`) then use the `show()` method*."
   ]
  },
  {
   "cell_type": "code",
   "execution_count": 72,
   "metadata": {},
   "outputs": [
    {
     "name": "stdout",
     "output_type": "stream",
     "text": [
      "+---------+\n",
      "|diagnosis|\n",
      "+---------+\n",
      "|     I669|\n",
      "|     null|\n",
      "|     null|\n",
      "|     null|\n",
      "|     null|\n",
      "|     null|\n",
      "|  S72309N|\n",
      "|     null|\n",
      "|   T508X6|\n",
      "|     null|\n",
      "|     S420|\n",
      "|    T8743|\n",
      "|  M80072A|\n",
      "|     null|\n",
      "|     null|\n",
      "|     null|\n",
      "|  T22342A|\n",
      "|     null|\n",
      "|     null|\n",
      "|     null|\n",
      "+---------+\n",
      "only showing top 20 rows\n",
      "\n"
     ]
    }
   ],
   "source": [
    "# Your code here\n",
    "patients.select('diagnosis').show()"
   ]
  },
  {
   "cell_type": "markdown",
   "metadata": {},
   "source": [
    "#### Fill the missing values in column `diagnosis` with a string `no diagnosis`.\n",
    "\n",
    "*Hint: Use `.fillna()`.*"
   ]
  },
  {
   "cell_type": "code",
   "execution_count": 73,
   "metadata": {},
   "outputs": [],
   "source": [
    "# Your code here\n",
    "\n",
    "patients = patients.fillna({'diagnosis':'no diagnosis'})"
   ]
  },
  {
   "cell_type": "code",
   "execution_count": 74,
   "metadata": {},
   "outputs": [
    {
     "name": "stdout",
     "output_type": "stream",
     "text": [
      "Missing values:  0\n"
     ]
    }
   ],
   "source": [
    "print('Missing values: ',patients.filter(patients['diagnosis'].isNull()).count())"
   ]
  },
  {
   "cell_type": "markdown",
   "metadata": {},
   "source": [
    "#### Print the `diagnosis` column again to confirm null values are replaced."
   ]
  },
  {
   "cell_type": "code",
   "execution_count": 75,
   "metadata": {},
   "outputs": [
    {
     "name": "stdout",
     "output_type": "stream",
     "text": [
      "+------------+\n",
      "|   diagnosis|\n",
      "+------------+\n",
      "|        I669|\n",
      "|no diagnosis|\n",
      "|no diagnosis|\n",
      "|no diagnosis|\n",
      "|no diagnosis|\n",
      "|no diagnosis|\n",
      "|     S72309N|\n",
      "|no diagnosis|\n",
      "|      T508X6|\n",
      "|no diagnosis|\n",
      "|        S420|\n",
      "|       T8743|\n",
      "|     M80072A|\n",
      "|no diagnosis|\n",
      "|no diagnosis|\n",
      "|no diagnosis|\n",
      "|     T22342A|\n",
      "|no diagnosis|\n",
      "|no diagnosis|\n",
      "|no diagnosis|\n",
      "+------------+\n",
      "only showing top 20 rows\n",
      "\n"
     ]
    }
   ],
   "source": [
    "# Your code here\n",
    "patients.select('diagnosis').show()"
   ]
  },
  {
   "cell_type": "markdown",
   "metadata": {},
   "source": [
    "#### Count the missing values in column `doctor_name`. You should see output `58`."
   ]
  },
  {
   "cell_type": "code",
   "execution_count": 76,
   "metadata": {},
   "outputs": [
    {
     "name": "stdout",
     "output_type": "stream",
     "text": [
      "Missing values:  58\n"
     ]
    }
   ],
   "source": [
    "# Your code here\n",
    "print('Missing values: ',patients.filter(patients['doctor_name'].isNull()).count())"
   ]
  },
  {
   "cell_type": "markdown",
   "metadata": {},
   "source": [
    "#### Drop the rows in `patients` where column `doctor_name` is missing data. Remember to assign the converted dataset back to `patients`.\n",
    "\n",
    "*Hint: Use `.dropna()`.*"
   ]
  },
  {
   "cell_type": "code",
   "execution_count": 77,
   "metadata": {},
   "outputs": [],
   "source": [
    "# Your code here\n",
    "patients = patients.na.drop(subset=[\"doctor_name\"])"
   ]
  },
  {
   "cell_type": "markdown",
   "metadata": {},
   "source": [
    "#### Now count the missing values in `doctor_name` again. You should see output `0`."
   ]
  },
  {
   "cell_type": "code",
   "execution_count": 78,
   "metadata": {},
   "outputs": [
    {
     "data": {
      "text/plain": [
       "0"
      ]
     },
     "execution_count": 78,
     "metadata": {},
     "output_type": "execute_result"
    }
   ],
   "source": [
    "# Your code here\n",
    "patients.filter( patients[\"doctor_name\"].isNull() ).count()"
   ]
  },
  {
   "cell_type": "markdown",
   "metadata": {},
   "source": [
    "#### Convert the boolean columns `patient_show`, `is_regular_visist`, `patient_diabetic`, and `patient_allergic` to int.\n",
    "\n",
    "*Hint: [Here](https://stackoverflow.com/questions/33354571/casting-a-new-derived-column-in-a-dataframe-from-boolean-to-integer) is an example.*"
   ]
  },
  {
   "cell_type": "code",
   "execution_count": 79,
   "metadata": {},
   "outputs": [],
   "source": [
    "# Needed functionality\n",
    "from pyspark.sql import functions as F"
   ]
  },
  {
   "cell_type": "code",
   "execution_count": 80,
   "metadata": {},
   "outputs": [],
   "source": [
    "# Your code here\n",
    "\n",
    "for item in ['patient_show','is_regular_visit','patient_diabetic','patient_allergic']:\n",
    "    patients = patients.withColumn(item, \n",
    "                                   F.when(F.col(item)==\"true\",1).otherwise(0))\n"
   ]
  },
  {
   "cell_type": "code",
   "execution_count": 81,
   "metadata": {},
   "outputs": [
    {
     "name": "stdout",
     "output_type": "stream",
     "text": [
      "+------------+----------------+----------------+----------------+\n",
      "|patient_show|is_regular_visit|patient_diabetic|patient_allergic|\n",
      "+------------+----------------+----------------+----------------+\n",
      "|           1|               1|               0|               1|\n",
      "|           1|               1|               0|               1|\n",
      "|           0|               0|               1|               1|\n",
      "|           0|               1|               1|               1|\n",
      "|           0|               0|               0|               1|\n",
      "|           0|               1|               0|               1|\n",
      "|           0|               0|               1|               1|\n",
      "|           0|               0|               0|               0|\n",
      "|           0|               0|               1|               0|\n",
      "|           1|               0|               0|               0|\n",
      "|           0|               1|               1|               1|\n",
      "|           0|               1|               0|               0|\n",
      "|           1|               1|               1|               0|\n",
      "|           1|               0|               1|               1|\n",
      "|           0|               0|               0|               1|\n",
      "|           0|               0|               1|               0|\n",
      "|           1|               1|               1|               0|\n",
      "|           1|               0|               0|               1|\n",
      "|           0|               1|               0|               1|\n",
      "|           1|               1|               0|               1|\n",
      "+------------+----------------+----------------+----------------+\n",
      "only showing top 20 rows\n",
      "\n"
     ]
    }
   ],
   "source": [
    "patients.select('patient_show','is_regular_visit','patient_diabetic','patient_allergic').show()"
   ]
  },
  {
   "cell_type": "markdown",
   "metadata": {},
   "source": [
    "#### Add a new column called `diagnosis_int`. The value in this column should be `0` if the corresponding row of the `diagnosis` column is `no diagnosis`. Otherwise the value should be `1`.\n",
    "\n",
    "*Hint: The way to add a derived coloumn is similar to converting a column values as you've done in the previous question.*"
   ]
  },
  {
   "cell_type": "code",
   "execution_count": 83,
   "metadata": {},
   "outputs": [
    {
     "name": "stdout",
     "output_type": "stream",
     "text": [
      "+-------------+\n",
      "|diagnosis_int|\n",
      "+-------------+\n",
      "|            1|\n",
      "|            0|\n",
      "|            0|\n",
      "|            0|\n",
      "|            0|\n",
      "|            0|\n",
      "|            1|\n",
      "|            0|\n",
      "|            1|\n",
      "|            0|\n",
      "|            1|\n",
      "|            1|\n",
      "|            1|\n",
      "|            0|\n",
      "|            0|\n",
      "|            0|\n",
      "|            1|\n",
      "|            0|\n",
      "|            0|\n",
      "|            0|\n",
      "+-------------+\n",
      "only showing top 20 rows\n",
      "\n"
     ]
    }
   ],
   "source": [
    "# Your code here\n",
    "\n",
    "patients = patients.withColumn('diagnosis_int', \n",
    "                    F.when(F.col('diagnosis')=='no diagnosis',0).otherwise(1))\n",
    "\n",
    "patients.select('diagnosis_int').show()"
   ]
  },
  {
   "cell_type": "markdown",
   "metadata": {},
   "source": [
    "#### Add a new column called `gender_int`. The value in this column should be `0` if the corresponding row of the `patient_gender` column is `Male`. Otherwise the value should be `1`."
   ]
  },
  {
   "cell_type": "code",
   "execution_count": 86,
   "metadata": {},
   "outputs": [
    {
     "name": "stdout",
     "output_type": "stream",
     "text": [
      "+----------+\n",
      "|gender_int|\n",
      "+----------+\n",
      "|         1|\n",
      "|         1|\n",
      "|         1|\n",
      "|         0|\n",
      "|         1|\n",
      "|         1|\n",
      "|         0|\n",
      "|         1|\n",
      "|         0|\n",
      "|         0|\n",
      "|         0|\n",
      "|         1|\n",
      "|         0|\n",
      "|         0|\n",
      "|         1|\n",
      "|         0|\n",
      "|         1|\n",
      "|         1|\n",
      "|         0|\n",
      "|         1|\n",
      "+----------+\n",
      "only showing top 20 rows\n",
      "\n"
     ]
    }
   ],
   "source": [
    "# Your code here\n",
    "patients = patients.withColumn('gender_int', \n",
    "                    F.when(F.col('patient_gender')=='Male',0).otherwise(1))\n",
    "\n",
    "patients.select('gender_int').show()"
   ]
  },
  {
   "cell_type": "markdown",
   "metadata": {},
   "source": [
    "Due to the time limitation for this lab, we won't go through all steps of data wrangling like we did in the Unsupervised Learning with Scikit-Learn Lab. We'll simply keep the numerical columns we have so far and drop the rest so that we'll have time to practice MLlib.\n",
    "\n",
    "#### Drop the following columns from `patients`: \n",
    "\n",
    "```\n",
    "['id', 'patient_name', 'patient_email', 'patient_nhs_number', 'doctor_phone', 'patient_dob', 'doctor_name', 'appointment_date', 'prescribed_medicines', 'diagnosis', 'patient_gender']\n",
    "```"
   ]
  },
  {
   "cell_type": "code",
   "execution_count": 92,
   "metadata": {},
   "outputs": [],
   "source": [
    "# Your code here\n",
    "drop_list = ['id', 'patient_name', \n",
    "             'patient_email', \n",
    "             'patient_nhs_number', \n",
    "             'doctor_phone', 'patient_dob', \n",
    "             'doctor_name', 'appointment_date', \n",
    "             'prescribed_medicines', \n",
    "             'diagnosis', \n",
    "             'patient_gender']\n",
    "\n",
    "patients = patients.select([column for column in patients.columns if column not in drop_list])"
   ]
  },
  {
   "cell_type": "markdown",
   "metadata": {},
   "source": [
    "#### Call `printSchema()` again for `patients`. You should see all fields remaining are interger types."
   ]
  },
  {
   "cell_type": "code",
   "execution_count": 93,
   "metadata": {},
   "outputs": [
    {
     "name": "stdout",
     "output_type": "stream",
     "text": [
      "root\n",
      " |-- patient_diabetic: integer (nullable = false)\n",
      " |-- patient_allergic: integer (nullable = false)\n",
      " |-- patient_weight_kg: string (nullable = true)\n",
      " |-- patient_height_sm: string (nullable = true)\n",
      " |-- patient_show: integer (nullable = false)\n",
      " |-- is_regular_visit: integer (nullable = false)\n",
      " |-- diagnosis_int: integer (nullable = false)\n",
      " |-- gender_int: integer (nullable = false)\n",
      "\n"
     ]
    }
   ],
   "source": [
    "# Your code here\n",
    "\n",
    "patients.printSchema()"
   ]
  },
  {
   "cell_type": "markdown",
   "metadata": {},
   "source": [
    "#### You now get the feeling that PySpark have similar features as Pandas to perform data wrangling. However data wrangling with PySpark is not as convenient as in Pandas because PySpark is specialized for data engineering rather than data processing. The real value of Spark is to compute really big datasets with complex and time-consuming algorithms. Many data scientists/engieers use Pandas for data wrangling then import the data to Spark for computation."
   ]
  },
  {
   "cell_type": "markdown",
   "metadata": {},
   "source": [
    "# KMeans Analysis Example\n",
    "\n",
    "Finally we will show you an example of clustering the cleaned data with KMeans. Because you have done the same thing in the Supervised Learning with Scikit-Learn lab, we won't ask you to figure it out with PySpark's MLlib. We are providing the code for you to reference.\n",
    "\n",
    "In order to perform KMeans analysis in PySpark, **we need to first use the `VectorAssembler` to convert the existing data into high-dimensional vectors**. We will assign the generated vectors into a new column called `features`."
   ]
  },
  {
   "cell_type": "code",
   "execution_count": 96,
   "metadata": {},
   "outputs": [],
   "source": [
    "for col in patients.columns:\n",
    "    patients = patients.withColumn(col, patients[col].cast(\"double\"))"
   ]
  },
  {
   "cell_type": "code",
   "execution_count": 97,
   "metadata": {},
   "outputs": [
    {
     "name": "stdout",
     "output_type": "stream",
     "text": [
      "+-------------------------------------+\n",
      "|features                             |\n",
      "+-------------------------------------+\n",
      "|[0.0,1.0,59.0,176.0,1.0,1.0,1.0,1.0] |\n",
      "|[0.0,1.0,77.0,186.0,1.0,1.0,0.0,1.0] |\n",
      "|[1.0,1.0,90.0,177.0,0.0,0.0,0.0,1.0] |\n",
      "|[1.0,1.0,70.0,150.0,0.0,1.0,0.0,0.0] |\n",
      "|(8,[1,2,3,7],[1.0,82.0,140.0,1.0])   |\n",
      "|[0.0,1.0,105.0,179.0,0.0,1.0,0.0,1.0]|\n",
      "|[1.0,1.0,87.0,180.0,0.0,0.0,1.0,0.0] |\n",
      "|(8,[2,3,7],[73.0,152.0,1.0])         |\n",
      "|(8,[0,2,3,6],[1.0,83.0,156.0,1.0])   |\n",
      "|(8,[2,3,4],[89.0,160.0,1.0])         |\n",
      "|[1.0,1.0,108.0,165.0,0.0,1.0,1.0,0.0]|\n",
      "|[0.0,0.0,53.0,147.0,0.0,1.0,1.0,1.0] |\n",
      "|[1.0,0.0,51.0,170.0,1.0,1.0,1.0,0.0] |\n",
      "|[1.0,1.0,106.0,142.0,1.0,0.0,0.0,0.0]|\n",
      "|(8,[1,2,3,7],[1.0,58.0,169.0,1.0])   |\n",
      "|(8,[0,2,3],[1.0,64.0,150.0])         |\n",
      "|[1.0,0.0,56.0,168.0,1.0,1.0,1.0,1.0] |\n",
      "|[0.0,1.0,69.0,182.0,1.0,0.0,0.0,1.0] |\n",
      "|(8,[1,2,3,5],[1.0,69.0,178.0,1.0])   |\n",
      "|[0.0,1.0,77.0,155.0,1.0,1.0,0.0,1.0] |\n",
      "+-------------------------------------+\n",
      "only showing top 20 rows\n",
      "\n"
     ]
    }
   ],
   "source": [
    "from pyspark.ml.feature import VectorAssembler\n",
    "assembler = VectorAssembler(\n",
    "    inputCols=[\"patient_diabetic\", \"patient_allergic\", \"patient_weight_kg\", \"patient_height_sm\", \"patient_show\", \"is_regular_visit\", \"diagnosis_int\", \"gender_int\"],\n",
    "    outputCol=\"features\")\n",
    "\n",
    "output = assembler.transform(patients)\n",
    "output.select(\"features\").show(truncate=False)"
   ]
  },
  {
   "cell_type": "markdown",
   "metadata": {},
   "source": [
    "Then we import the `KMeans` class from Pyspark's MLlib and fit the new dataset with the `features` column to KMeans. We call `KMeans().setK(4)` to indicate we would like to receive 4 data clusters. Finally we print the center of each cluster."
   ]
  },
  {
   "cell_type": "code",
   "execution_count": 98,
   "metadata": {},
   "outputs": [
    {
     "name": "stdout",
     "output_type": "stream",
     "text": [
      "Within Set Sum of Squared Errors = 119574.87827302358\n",
      "Cluster Centers: \n",
      "[  0.51260504   0.52941176  62.76890756 176.96638655   0.47058824\n",
      "   0.5          0.44957983   0.55042017]\n",
      "[  0.55504587   0.51834862  97.75229358 153.49541284   0.49082569\n",
      "   0.50458716   0.59174312   0.48165138]\n",
      "[  0.50643777   0.49785408  65.5751073  152.26180258   0.50643777\n",
      "   0.55364807   0.50643777   0.44635193]\n",
      "[  0.48616601   0.49407115  93.88142292 178.70355731   0.50988142\n",
      "   0.52964427   0.51778656   0.53754941]\n"
     ]
    }
   ],
   "source": [
    "from pyspark.ml.clustering import KMeans\n",
    "\n",
    "kmeans = KMeans().setK(4).setSeed(1)\n",
    "\n",
    "model = kmeans.fit(output)\n",
    "\n",
    "wssse = model.computeCost(output)\n",
    "print(\"Within Set Sum of Squared Errors = \" + str(wssse))\n",
    "\n",
    "centers = model.clusterCenters()\n",
    "print(\"Cluster Centers: \")\n",
    "for center in centers:\n",
    "    print(center)"
   ]
  },
  {
   "cell_type": "markdown",
   "metadata": {},
   "source": [
    "___"
   ]
  }
 ],
 "metadata": {
  "kernelspec": {
   "display_name": "Python 3",
   "language": "python",
   "name": "python3"
  },
  "language_info": {
   "codemirror_mode": {
    "name": "ipython",
    "version": 3
   },
   "file_extension": ".py",
   "mimetype": "text/x-python",
   "name": "python",
   "nbconvert_exporter": "python",
   "pygments_lexer": "ipython3",
   "version": "3.6.7"
  }
 },
 "nbformat": 4,
 "nbformat_minor": 2
}
