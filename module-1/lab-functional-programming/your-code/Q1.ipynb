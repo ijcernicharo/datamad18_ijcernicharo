{
 "cells": [
  {
   "cell_type": "markdown",
   "metadata": {},
   "source": [
    "In the cell below, create a Python function that wraps your previous solution for the Bag of Words lab.\n",
    "\n",
    "Requirements:\n",
    "\n",
    "1. Your function should accept the following parameters:\n",
    "    * `docs` [REQUIRED] - array of document paths.\n",
    "    * `stop_words` [OPTIONAL] - array of stop words. The default value is an empty array.\n",
    "\n",
    "1. Your function should return a Python object that contains the following:\n",
    "    * `bag_of_words` - array of strings of normalized unique words in the corpus.\n",
    "    * `term_freq` - array of the term-frequency vectors."
   ]
  },
  {
   "cell_type": "code",
   "execution_count": 1,
   "metadata": {},
   "outputs": [],
   "source": [
    "import os"
   ]
  },
  {
   "cell_type": "code",
   "execution_count": 2,
   "metadata": {},
   "outputs": [],
   "source": [
    "# Import required libraries\n",
    "\n",
    "# Define function\n",
    "def get_bow_from_docs(docs, stop_words=[]):\n",
    "    \n",
    "    # In the function, first define the variables you will use such as `corpus`, `bag_of_words`, and `term_freq`.\n",
    "    \n",
    "    \n",
    "    \"\"\"\n",
    "    Loop `docs` and read the content of each doc into a string in `corpus`.\n",
    "    Remember to convert the doc content to lowercases and remove punctuation.\n",
    "    \"\"\"\n",
    "\n",
    "    corpus = []\n",
    "\n",
    "    # Write your code here\n",
    "\n",
    "    for item in docs:\n",
    "        doc_file=open(item,'r')\n",
    "        while 1:\n",
    "            line=doc_file.readline().replace('.','').replace(',','').strip().lower()\n",
    "            if len(line)==0:\n",
    "                break\n",
    "            corpus.append(line)\n",
    "        doc_file.close()\n",
    "    \n",
    "    \"\"\"\n",
    "    Loop `corpus`. Append the terms in each doc into the `bag_of_words` array. The terms in `bag_of_words` \n",
    "    should be unique which means before adding each term you need to check if it's already added to the array.\n",
    "    In addition, check if each term is in the `stop_words` array. Only append the term to `bag_of_words`\n",
    "    if it is not a stop word.\n",
    "    \"\"\"\n",
    "\n",
    "    bag_of_words = []\n",
    "\n",
    "    # Write your code here\n",
    "\n",
    "    for item in corpus:\n",
    "        for element in item.split():\n",
    "            if element not in bag_of_words and element!='' and element not in stop_words:\n",
    "                bag_of_words.append(element)\n",
    "    \n",
    "    \"\"\"\n",
    "    Loop `corpus` again. For each doc string, count the number of occurrences of each term in `bag_of_words`. \n",
    "    Create an array for each doc's term frequency and append it to `term_freq`.\n",
    "    \"\"\"\n",
    "    \n",
    "    term_freq = []\n",
    "\n",
    "    # Write your code here\n",
    "\n",
    "    for item in corpus:\n",
    "        freq_2=[]\n",
    "        for element in bag_of_words:\n",
    "            if element in item:\n",
    "                freq_2.append(1)\n",
    "            else:\n",
    "                freq_2.append(0)\n",
    "        term_freq.append(freq_2)\n",
    "    \n",
    "    # Now return your output as an object\n",
    "    return {\n",
    "        \"bag_of_words\": bag_of_words,\n",
    "        \"term_freq\": term_freq\n",
    "    }\n",
    "    "
   ]
  },
  {
   "cell_type": "markdown",
   "metadata": {},
   "source": [
    "Test your function without stop words. You should see the output like below:\n",
    "\n",
    "```{'bag_of_words': ['ironhack', 'is', 'cool', 'i', 'love', 'am', 'a', 'student', 'at'], 'term_freq': [[1, 1, 1, 0, 0, 0, 0, 0, 0], [1, 0, 0, 1, 1, 0, 0, 0, 0], [1, 0, 0, 1, 0, 1, 1, 1, 1]]}```"
   ]
  },
  {
   "cell_type": "code",
   "execution_count": 3,
   "metadata": {},
   "outputs": [
    {
     "name": "stdout",
     "output_type": "stream",
     "text": [
      "['doc2.txt', 'doc1.txt', 'doc3.txt']\n"
     ]
    }
   ],
   "source": [
    "# Define doc paths array\n",
    "\n",
    "def look_files_format(file_form):\n",
    "    \n",
    "    \"\"\"\n",
    "    look_files_format main function is to find the names of the files with an specific file format\n",
    "    \n",
    "    It take as input the files format.\n",
    "    \n",
    "    Example:\n",
    "        For txt files   >> loook_files_format(txt)\n",
    "        For Excel files >> loook_files_format(xlsx)\n",
    "        For CSV files   >> loook_files_format(csv)\n",
    "        \n",
    "    \"\"\"\n",
    "    \n",
    "    docs=[item for item in next(os.walk('./'))[2] if os.path.isfile(os.path.join('./',item)) and item.endswith(file_form)]\n",
    "    return docs\n",
    "\n",
    "docs = []\n",
    "docs=look_files_format('txt')\n",
    "print(docs)"
   ]
  },
  {
   "cell_type": "code",
   "execution_count": 4,
   "metadata": {},
   "outputs": [
    {
     "name": "stdout",
     "output_type": "stream",
     "text": [
      "Help on function look_files_format in module __main__:\n",
      "\n",
      "look_files_format(file_form)\n",
      "    look_files_format main function is to find the names of the files with an specific file format\n",
      "    \n",
      "    It take as input the files format.\n",
      "    \n",
      "    Example:\n",
      "        For txt files   >> loook_files_format(txt)\n",
      "        For Excel files >> loook_files_format(xlsx)\n",
      "        For CSV files   >> loook_files_format(csv)\n",
      "\n"
     ]
    }
   ],
   "source": [
    "help(look_files_format)"
   ]
  },
  {
   "cell_type": "code",
   "execution_count": 5,
   "metadata": {},
   "outputs": [
    {
     "name": "stdout",
     "output_type": "stream",
     "text": [
      "{'bag_of_words': ['i', 'love', 'ironhack', 'is', 'cool', 'am', 'a', 'student', 'at'], 'term_freq': [[1, 1, 1, 0, 0, 0, 1, 0, 0], [1, 0, 1, 1, 1, 0, 1, 0, 0], [1, 0, 1, 0, 0, 1, 1, 1, 1]]}\n"
     ]
    }
   ],
   "source": [
    "# Obtain BoW from your function\n",
    "bow = get_bow_from_docs(docs)\n",
    "\n",
    "# Print BoW\n",
    "print(bow)"
   ]
  },
  {
   "cell_type": "markdown",
   "metadata": {},
   "source": [
    "If your attempt above is successful, nice work done!\n",
    "\n",
    "Now test your function again with the stop words. In the previous lab we defined the stop words in a large array. In this lab, we'll import the stop words from Scikit-Learn."
   ]
  },
  {
   "cell_type": "code",
   "execution_count": 6,
   "metadata": {},
   "outputs": [
    {
     "name": "stdout",
     "output_type": "stream",
     "text": [
      "frozenset({'somewhere', 'third', 'within', 'yourself', 'have', 'nevertheless', 'either', 'inc', 'whenever', 'an', 'describe', 'least', 'beforehand', 'few', 'serious', 'anyhow', 'ours', 'out', 'therein', 'thus', 'hence', 'yet', 'etc', 'nothing', 'over', 'otherwise', 'it', 'most', 'ie', 'so', 'something', 'we', 'find', 'they', 'back', 'can', 'afterwards', 'may', 'except', 'onto', 'ever', 'hereby', 'us', 'while', 'therefore', 'found', 'once', 'neither', 'anyone', 'empty', 'our', 'though', 'without', 'should', 'almost', 'someone', 'how', 'or', 'forty', 'sincere', 'if', 'than', 'thence', 'all', 'above', 'behind', 'anything', 'hundred', 'itself', 'into', 'take', 'this', 'next', 'these', 'wherein', 'hasnt', 'de', 'thereby', 'any', 'your', 'each', 'other', 'five', 'who', 'below', 'noone', 'become', 'both', 'those', 'for', 'top', 'be', 'side', 'hers', 'nine', 'un', 'else', 'eight', 'during', 'herself', 'fire', 'might', 'same', 'under', 'elsewhere', 'whither', 'meanwhile', 'cry', 'rather', 'against', 'two', 'its', 'put', 'via', 'mill', 'in', 'twelve', 'after', 'where', 'and', 'cant', 'sometime', 'however', 'very', 'cannot', 'along', 'became', 'fifteen', 'what', 'also', 'fill', 'there', 'whoever', 'enough', 'never', 'with', 'whereas', 'namely', 'across', 'now', 'move', 'before', 'could', 'must', 'seems', 'mostly', 'due', 'interest', 'to', 'himself', 'been', 'will', 'latterly', 'nobody', 'whatever', 'seem', 'even', 'co', 'every', 'only', 'part', 'show', 'when', 'call', 'becoming', 'ourselves', 'eg', 'latter', 'alone', 'besides', 'first', 'thru', 'further', 'give', 'him', 'indeed', 'formerly', 'bill', 'nowhere', 'done', 'thin', 'throughout', 'his', 'toward', 'whom', 'bottom', 'he', 'nor', 'less', 'about', 'from', 'yours', 'everything', 'again', 'her', 'do', 'please', 'amount', 'get', 'others', 'already', 'no', 'sixty', 'thereupon', 'ltd', 'at', 'everywhere', 'down', 'herein', 'i', 'per', 'she', 'still', 'well', 'whence', 'last', 'that', 'con', 'mine', 'own', 'a', 'name', 'whereupon', 'four', 'whereafter', 'sometimes', 'then', 'yourselves', 'but', 'until', 'often', 'by', 'go', 'whereby', 'keep', 'beside', 'my', 'anyway', 'upon', 'wherever', 'eleven', 'thick', 'ten', 'am', 'are', 'through', 'always', 'full', 'one', 'themselves', 'not', 'me', 'seeming', 'couldnt', 'because', 'of', 'were', 'you', 'together', 'three', 'off', 'here', 'none', 'perhaps', 'detail', 'why', 'system', 'some', 'being', 'fifty', 'thereafter', 'somehow', 'too', 'many', 'towards', 'whole', 'everyone', 'was', 'such', 'which', 'moreover', 'six', 'their', 'the', 'them', 'whose', 'several', 'up', 'is', 'amoungst', 'much', 'myself', 'has', 'among', 'seemed', 'former', 'although', 'see', 'more', 'since', 'twenty', 'would', 'front', 'whether', 'had', 'becomes', 'between', 'beyond', 'made', 're', 'anywhere', 'amongst', 'around', 'another', 'as', 'on', 'hereafter', 'hereupon'})\n"
     ]
    }
   ],
   "source": [
    "from sklearn.feature_extraction import stop_words\n",
    "print(stop_words.ENGLISH_STOP_WORDS)"
   ]
  },
  {
   "cell_type": "markdown",
   "metadata": {},
   "source": [
    "You should have seen a large list of words that looks like:\n",
    "\n",
    "```frozenset({'across', 'mine', 'cannot', ...})```\n",
    "\n",
    "`frozenset` is a type of Python object that is immutable. In this lab you can use it just like an array without conversion."
   ]
  },
  {
   "cell_type": "markdown",
   "metadata": {},
   "source": [
    "Next, test your function with supplying `stop_words.ENGLISH_STOP_WORDS` as the second parameter."
   ]
  },
  {
   "cell_type": "code",
   "execution_count": 7,
   "metadata": {},
   "outputs": [
    {
     "name": "stdout",
     "output_type": "stream",
     "text": [
      "{'bag_of_words': ['love', 'ironhack', 'cool', 'student'], 'term_freq': [[1, 1, 0, 0], [0, 1, 1, 0], [0, 1, 0, 1]]}\n"
     ]
    }
   ],
   "source": [
    "bow = get_bow_from_docs(docs, stop_words.ENGLISH_STOP_WORDS)\n",
    "\n",
    "print(bow)"
   ]
  },
  {
   "cell_type": "markdown",
   "metadata": {},
   "source": [
    "You should have seen:\n",
    "\n",
    "```{'bag_of_words': ['ironhack', 'cool', 'love', 'student'], 'term_freq': [[1, 1, 0, 0], [1, 0, 1, 0], [1, 0, 0, 1]]}```"
   ]
  }
 ],
 "metadata": {
  "kernelspec": {
   "display_name": "Python 3",
   "language": "python",
   "name": "python3"
  },
  "language_info": {
   "codemirror_mode": {
    "name": "ipython",
    "version": 3
   },
   "file_extension": ".py",
   "mimetype": "text/x-python",
   "name": "python",
   "nbconvert_exporter": "python",
   "pygments_lexer": "ipython3",
   "version": "3.6.6"
  }
 },
 "nbformat": 4,
 "nbformat_minor": 2
}
