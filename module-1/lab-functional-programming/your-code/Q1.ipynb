{
 "cells": [
  {
   "cell_type": "markdown",
   "metadata": {},
   "source": [
    "In the cell below, create a Python function that wraps your previous solution for the Bag of Words lab.\n",
    "\n",
    "Requirements:\n",
    "\n",
    "1. Your function should accept the following parameters:\n",
    "    * `docs` [REQUIRED] - array of document paths.\n",
    "    * `stop_words` [OPTIONAL] - array of stop words. The default value is an empty array.\n",
    "\n",
    "1. Your function should return a Python object that contains the following:\n",
    "    * `bag_of_words` - array of strings of normalized unique words in the corpus.\n",
    "    * `term_freq` - array of the term-frequency vectors."
   ]
  },
  {
   "cell_type": "code",
   "execution_count": 1,
   "metadata": {},
   "outputs": [],
   "source": [
    "import os"
   ]
  },
  {
   "cell_type": "code",
   "execution_count": 7,
   "metadata": {},
   "outputs": [],
   "source": [
    "# Import required libraries\n",
    "\n",
    "# Define function\n",
    "def get_bow_from_docs(docs, stop_words=[]):\n",
    "    \n",
    "    # In the function, first define the variables you will use such as `corpus`, `bag_of_words`, and `term_freq`.\n",
    "    \n",
    "    \n",
    "    \"\"\"\n",
    "    Loop `docs` and read the content of each doc into a string in `corpus`.\n",
    "    Remember to convert the doc content to lowercases and remove punctuation.\n",
    "    \"\"\"\n",
    "\n",
    "    corpus = []\n",
    "\n",
    "    # Write your code here\n",
    "\n",
    "    for item in docs:\n",
    "        doc_file=open(item,'r')\n",
    "        while 1:\n",
    "            line=doc_file.readline().replace('.','').replace(',','').strip().lower()\n",
    "            if len(line)==0:\n",
    "                break\n",
    "            corpus.append(line)\n",
    "        doc_file.close()\n",
    "    \n",
    "    \"\"\"\n",
    "    Loop `corpus`. Append the terms in each doc into the `bag_of_words` array. The terms in `bag_of_words` \n",
    "    should be unique which means before adding each term you need to check if it's already added to the array.\n",
    "    In addition, check if each term is in the `stop_words` array. Only append the term to `bag_of_words`\n",
    "    if it is not a stop word.\n",
    "    \"\"\"\n",
    "\n",
    "    bag_of_words = []\n",
    "\n",
    "    # Write your code here\n",
    "\n",
    "    for item in corpus:\n",
    "        for element in item.split():\n",
    "            if element not in bag_of_words and element!='' and element not in stop_words:\n",
    "                bag_of_words.append(element)\n",
    "    \n",
    "    \"\"\"\n",
    "    Loop `corpus` again. For each doc string, count the number of occurrences of each term in `bag_of_words`. \n",
    "    Create an array for each doc's term frequency and append it to `term_freq`.\n",
    "    \"\"\"\n",
    "    \n",
    "    term_freq = []\n",
    "\n",
    "    # Write your code here\n",
    "\n",
    "    for item in corpus:\n",
    "        freq_2=[]\n",
    "        for element in bag_of_words:\n",
    "            if element in item:\n",
    "                freq_2.append(1)\n",
    "            else:\n",
    "                freq_2.append(0)\n",
    "        term_freq.append(freq_2)\n",
    "    \n",
    "    # Now return your output as an object\n",
    "    return {\n",
    "        \"bag_of_words\": bag_of_words,\n",
    "        \"term_freq\": term_freq\n",
    "    }\n",
    "    "
   ]
  },
  {
   "cell_type": "markdown",
   "metadata": {},
   "source": [
    "Test your function without stop words. You should see the output like below:\n",
    "\n",
    "```{'bag_of_words': ['ironhack', 'is', 'cool', 'i', 'love', 'am', 'a', 'student', 'at'], 'term_freq': [[1, 1, 1, 0, 0, 0, 0, 0, 0], [1, 0, 0, 1, 1, 0, 0, 0, 0], [1, 0, 0, 1, 0, 1, 1, 1, 1]]}```"
   ]
  },
  {
   "cell_type": "code",
   "execution_count": 8,
   "metadata": {},
   "outputs": [
    {
     "name": "stdout",
     "output_type": "stream",
     "text": [
      "['doc2.txt', 'doc1.txt', 'doc3.txt']\n"
     ]
    }
   ],
   "source": [
    "# Define doc paths array\n",
    "def look_files_format(format):\n",
    "    docs=[item for item in next(os.walk('./'))[2] if os.path.isfile(os.path.join('./',item)) and item.endswith(format)]\n",
    "    return docs\n",
    "docs = []\n",
    "docs=look_files_format('txt')\n",
    "print(docs)"
   ]
  },
  {
   "cell_type": "code",
   "execution_count": 9,
   "metadata": {},
   "outputs": [
    {
     "name": "stdout",
     "output_type": "stream",
     "text": [
      "{'bag_of_words': ['i', 'love', 'ironhack', 'is', 'cool', 'am', 'a', 'student', 'at'], 'term_freq': [[1, 1, 1, 0, 0, 0, 1, 0, 0], [1, 0, 1, 1, 1, 0, 1, 0, 0], [1, 0, 1, 0, 0, 1, 1, 1, 1]]}\n"
     ]
    }
   ],
   "source": [
    "# Obtain BoW from your function\n",
    "bow = get_bow_from_docs(docs)\n",
    "\n",
    "# Print BoW\n",
    "print(bow)"
   ]
  },
  {
   "cell_type": "markdown",
   "metadata": {},
   "source": [
    "If your attempt above is successful, nice work done!\n",
    "\n",
    "Now test your function again with the stop words. In the previous lab we defined the stop words in a large array. In this lab, we'll import the stop words from Scikit-Learn."
   ]
  },
  {
   "cell_type": "code",
   "execution_count": 10,
   "metadata": {},
   "outputs": [
    {
     "name": "stdout",
     "output_type": "stream",
     "text": [
      "frozenset({'once', 'seem', 'own', 'sometime', 'together', 'keep', 'the', 'whereby', 'each', 'else', 'ever', 'not', 'had', 'amount', 'bottom', 'meanwhile', 'describe', 'seeming', 'has', 'among', 'though', 'every', 'alone', 'beforehand', 'beside', 'formerly', 'yourselves', 'towards', 'thick', 'those', 'via', 'only', 'whence', 'along', 'some', 'twelve', 'something', 'whoever', 'four', 'see', 'latter', 'whom', 'whither', 'hence', 'between', 'eight', 'on', 'fire', 'anyone', 'per', 'upon', 'another', 'nowhere', 'almost', 'ten', 'they', 'un', 'since', 'well', 'less', 'toward', 'should', 'because', 'where', 'either', 'more', 'in', 'as', 'sixty', 'thereafter', 'becoming', 'anywhere', 'itself', 'everywhere', 'hereby', 'indeed', 'or', 'within', 'show', 'yet', 'ie', 'when', 'their', 'even', 'again', 'her', 'will', 'con', 'to', 'become', 'wherein', 'then', 'whole', 'during', 'already', 'third', 'themselves', 'yours', 'forty', 'out', 'yourself', 'do', 'him', 'without', 'ourselves', 'hers', 'most', 'very', 'he', 'across', 'mostly', 'ours', 'here', 'you', 'might', 'anyway', 'back', 'besides', 'done', 'except', 'became', 'found', 'this', 'an', 'former', 'anything', 'could', 'detail', 'move', 'my', 'onto', 'other', 'put', 'been', 'his', 'still', 'am', 'however', 'mill', 'enough', 'thus', 'these', 'front', 'empty', 'others', 'we', 'are', 'so', 'three', 'until', 'find', 'neither', 'if', 'nevertheless', 'go', 'therein', 'cannot', 'beyond', 'last', 'bill', 'over', 'latterly', 'by', 'name', 'would', 'moreover', 'amongst', 'first', 'often', 'etc', 'now', 'seems', 'she', 'such', 'while', 'must', 'everything', 'below', 'both', 'full', 'many', 'serious', 'its', 'down', 'herself', 'one', 'sincere', 'were', 'myself', 'your', 'me', 'same', 'de', 'thereupon', 'who', 'cant', 'further', 'few', 'therefore', 'whenever', 'somewhere', 'couldnt', 'is', 'too', 'up', 'why', 'above', 'for', 'twenty', 'top', 'thereby', 'whose', 'behind', 'which', 'becomes', 'after', 'with', 'us', 'any', 'seemed', 'a', 'anyhow', 'himself', 'much', 'how', 'it', 'cry', 'afterwards', 'side', 'that', 'at', 'around', 'have', 'whereas', 'six', 'be', 'under', 'interest', 'mine', 'ltd', 'several', 'eleven', 'thin', 'all', 'nine', 'hasnt', 'whereupon', 'fill', 'noone', 'there', 'herein', 'give', 'whereafter', 'them', 'someone', 'fifty', 'next', 'was', 'namely', 'hereafter', 'can', 'eg', 'also', 'of', 'no', 'nor', 'nothing', 'five', 'due', 'may', 'our', 'being', 'elsewhere', 'part', 'throughout', 'about', 'thru', 'fifteen', 'against', 'take', 'what', 'never', 'wherever', 'amoungst', 'but', 'i', 'everyone', 'least', 'otherwise', 'perhaps', 'please', 're', 'than', 'whatever', 'from', 'made', 'sometimes', 'inc', 'system', 'although', 'hundred', 'none', 'call', 'rather', 'somehow', 'always', 'get', 'through', 'co', 'hereupon', 'into', 'nobody', 'off', 'before', 'two', 'thence', 'whether', 'and'})\n"
     ]
    }
   ],
   "source": [
    "from sklearn.feature_extraction import stop_words\n",
    "print(stop_words.ENGLISH_STOP_WORDS)"
   ]
  },
  {
   "cell_type": "markdown",
   "metadata": {},
   "source": [
    "You should have seen a large list of words that looks like:\n",
    "\n",
    "```frozenset({'across', 'mine', 'cannot', ...})```\n",
    "\n",
    "`frozenset` is a type of Python object that is immutable. In this lab you can use it just like an array without conversion."
   ]
  },
  {
   "cell_type": "markdown",
   "metadata": {},
   "source": [
    "Next, test your function with supplying `stop_words.ENGLISH_STOP_WORDS` as the second parameter."
   ]
  },
  {
   "cell_type": "code",
   "execution_count": 11,
   "metadata": {},
   "outputs": [
    {
     "name": "stdout",
     "output_type": "stream",
     "text": [
      "{'bag_of_words': ['love', 'ironhack', 'cool', 'student'], 'term_freq': [[1, 1, 0, 0], [0, 1, 1, 0], [0, 1, 0, 1]]}\n"
     ]
    }
   ],
   "source": [
    "bow = get_bow_from_docs(docs, stop_words.ENGLISH_STOP_WORDS)\n",
    "\n",
    "print(bow)"
   ]
  },
  {
   "cell_type": "markdown",
   "metadata": {},
   "source": [
    "You should have seen:\n",
    "\n",
    "```{'bag_of_words': ['ironhack', 'cool', 'love', 'student'], 'term_freq': [[1, 1, 0, 0], [1, 0, 1, 0], [1, 0, 0, 1]]}```"
   ]
  }
 ],
 "metadata": {
  "kernelspec": {
   "display_name": "Python 3",
   "language": "python",
   "name": "python3"
  },
  "language_info": {
   "codemirror_mode": {
    "name": "ipython",
    "version": 3
   },
   "file_extension": ".py",
   "mimetype": "text/x-python",
   "name": "python",
   "nbconvert_exporter": "python",
   "pygments_lexer": "ipython3",
   "version": "3.6.6"
  }
 },
 "nbformat": 4,
 "nbformat_minor": 2
}
