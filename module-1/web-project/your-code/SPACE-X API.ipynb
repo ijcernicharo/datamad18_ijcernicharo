{
 "cells": [
  {
   "cell_type": "markdown",
   "metadata": {},
   "source": [
    "# SPACE-X API"
   ]
  },
  {
   "cell_type": "code",
   "execution_count": 1,
   "metadata": {},
   "outputs": [],
   "source": [
    "import requests\n",
    "from pandas.io.json import json_normalize\n",
    "import pandas as pd\n",
    "import os,datetime\n",
    "import numpy as np\n",
    "date=datetime.datetime.now().date().isoformat()"
   ]
  },
  {
   "cell_type": "markdown",
   "metadata": {},
   "source": [
    "#### Generating data storage folder"
   ]
  },
  {
   "cell_type": "code",
   "execution_count": 2,
   "metadata": {},
   "outputs": [],
   "source": [
    "destfolder='./Data'\n",
    "if not os.path.exists(destfolder):\n",
    "    os.mkdir(destfolder)"
   ]
  },
  {
   "cell_type": "markdown",
   "metadata": {},
   "source": [
    "___"
   ]
  },
  {
   "cell_type": "markdown",
   "metadata": {},
   "source": [
    "## Retrieve Company info"
   ]
  },
  {
   "cell_type": "code",
   "execution_count": 3,
   "metadata": {},
   "outputs": [],
   "source": [
    "api='https://api.spacexdata.com'\n",
    "cinfo='/v3/info' # COMPANY INFO\n",
    "req_SX_info=api+cinfo"
   ]
  },
  {
   "cell_type": "code",
   "execution_count": 4,
   "metadata": {},
   "outputs": [],
   "source": [
    "response = requests.get(req_SX_info)\n",
    "result = response.json()"
   ]
  },
  {
   "cell_type": "code",
   "execution_count": 5,
   "metadata": {},
   "outputs": [],
   "source": [
    "info=json_normalize(result).T\n",
    "info.columns=['Info']\n",
    "info.to_csv(destfolder+\"/Space_X_info.csv\")"
   ]
  },
  {
   "cell_type": "markdown",
   "metadata": {},
   "source": [
    "___"
   ]
  },
  {
   "cell_type": "markdown",
   "metadata": {},
   "source": [
    "## Retrieve Upcoming Launchs Information"
   ]
  },
  {
   "cell_type": "code",
   "execution_count": 6,
   "metadata": {},
   "outputs": [],
   "source": [
    "urlrockets='https://api.spacexdata.com/v3/launches/upcoming'"
   ]
  },
  {
   "cell_type": "code",
   "execution_count": 7,
   "metadata": {},
   "outputs": [],
   "source": [
    "response = requests.get(urlrockets)\n",
    "result = response.json()"
   ]
  },
  {
   "cell_type": "code",
   "execution_count": 8,
   "metadata": {},
   "outputs": [],
   "source": [
    "upcoming_launches=json_normalize(result)"
   ]
  },
  {
   "cell_type": "code",
   "execution_count": 9,
   "metadata": {},
   "outputs": [],
   "source": [
    "cols=(upcoming_launches.columns).unique().tolist()\n",
    "upcoming_launches=upcoming_launches[cols]"
   ]
  },
  {
   "cell_type": "code",
   "execution_count": 10,
   "metadata": {},
   "outputs": [],
   "source": [
    "mydicts_1=upcoming_launches['rocket.first_stage.cores']\n",
    "\n",
    "data_1st_stage=pd.concat([pd.Series(d[0]) for d in mydicts_1], axis=1).T\n",
    "data_1st_stage.columns=['rocket.first_stage.cores.'+item for item in data_1st_stage.columns]\n",
    "\n",
    "mydicts_2=upcoming_launches['rocket.second_stage.payloads']\n",
    "\n",
    "data_2nd_stage=pd.concat([pd.Series(d[0]) for d in mydicts_1], axis=1).T\n",
    "data_2nd_stage.columns=['rocket.second_stage.payloads.'+item for item in data_2nd_stage.columns]"
   ]
  },
  {
   "cell_type": "code",
   "execution_count": 11,
   "metadata": {},
   "outputs": [],
   "source": [
    "final_upcoming=pd.concat([upcoming_launches[upcoming_launches.columns.tolist()[:28]],data_1st_stage,\n",
    "                          upcoming_launches[upcoming_launches.columns.tolist()[30:34]],data_2nd_stage,\n",
    "                          upcoming_launches[upcoming_launches.columns.tolist()[36:]]],axis=1)"
   ]
  },
  {
   "cell_type": "code",
   "execution_count": 12,
   "metadata": {},
   "outputs": [],
   "source": [
    "final_upcoming.to_csv(destfolder+\"/\"+date+\"_Space_X_Upcoming_Launchs.csv\")"
   ]
  },
  {
   "cell_type": "markdown",
   "metadata": {},
   "source": [
    "___"
   ]
  },
  {
   "cell_type": "markdown",
   "metadata": {},
   "source": [
    "## Retrieve Starman Information"
   ]
  },
  {
   "cell_type": "code",
   "execution_count": 13,
   "metadata": {},
   "outputs": [],
   "source": [
    "urlstarman='https://api.spacexdata.com/v3/roadster'"
   ]
  },
  {
   "cell_type": "code",
   "execution_count": 14,
   "metadata": {},
   "outputs": [],
   "source": [
    "response = requests.get(urlstarman)\n",
    "result = response.json()"
   ]
  },
  {
   "cell_type": "code",
   "execution_count": 15,
   "metadata": {},
   "outputs": [],
   "source": [
    "starman=json_normalize(result)\n",
    "starman=starman.drop_duplicates(['period_days'])\n",
    "if not os.path.exists('./Data/Space_X_Starman.csv'):\n",
    "    starman.to_csv('./Data/Space_X_Starman.csv',index=False)\n",
    "else:\n",
    "    data=pd.read_csv('./Data/Space_X_Starman.csv')\n",
    "    data.columns=starman.columns.tolist()\n",
    "    datad=pd.concat([starman,data],axis=0,sort=True)\n",
    "    datad=datad.drop_duplicates(['period_days'])\n",
    "    datad.to_csv('./Data/Space_X_Starman.csv',index=False)\n",
    "    "
   ]
  },
  {
   "cell_type": "markdown",
   "metadata": {},
   "source": [
    "### With crontab to make a request each hour\n",
    "These results will be updated every 10 mins, so Im going to create a script .py to automatize it with crontab"
   ]
  },
  {
   "cell_type": "markdown",
   "metadata": {},
   "source": [
    "____"
   ]
  }
 ],
 "metadata": {
  "kernelspec": {
   "display_name": "Python 3",
   "language": "python",
   "name": "python3"
  },
  "language_info": {
   "codemirror_mode": {
    "name": "ipython",
    "version": 3
   },
   "file_extension": ".py",
   "mimetype": "text/x-python",
   "name": "python",
   "nbconvert_exporter": "python",
   "pygments_lexer": "ipython3",
   "version": "3.6.6"
  }
 },
 "nbformat": 4,
 "nbformat_minor": 2
}
