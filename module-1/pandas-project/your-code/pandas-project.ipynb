{
 "cells": [
  {
   "cell_type": "markdown",
   "metadata": {},
   "source": [
    "# PANDAS PROJECT - October 24, 2018"
   ]
  },
  {
   "cell_type": "markdown",
   "metadata": {},
   "source": [
    "## First step, Import the necessary modules"
   ]
  },
  {
   "cell_type": "code",
   "execution_count": null,
   "metadata": {},
   "outputs": [],
   "source": [
    "import pandas as pd\n",
    "import numpy as np\n",
    "import os\n",
    "print(\"Have to install xlrd (with a version equal or higher than 0.9.0)\")\n",
    "print(\" >> xlrd module succesfully imported\")\n",
    "print(\"\")\n",
    "import xlrd\n",
    "print(\"To see xlrd version we have to import pkg_resources\")\n",
    "import pkg_resources\n",
    "print(\" >> pkg_resources module succesfully imported\")\n",
    "print(\"\")\n",
    "print(\"xlrd version >> \"+str(pkg_resources.get_distribution(\"xlrd\").version))"
   ]
  },
  {
   "cell_type": "markdown",
   "metadata": {},
   "source": [
    "## Database Main Function is to store the evolution of human population for a range of years\n",
    "## In this case, it begins on 3700 BD and finish on 2000 AD\n",
    "The Data Base is downloaded from the next link:<br>\n",
    "[Nasa_population_register](http://sedac.ciesin.columbia.edu/data/set/urbanspatial-hist-urban-pop-3700bc-ad2000)"
   ]
  },
  {
   "cell_type": "markdown",
   "metadata": {},
   "source": [
    "#### Function to list all files inside a folder tree for a specific file format"
   ]
  },
  {
   "cell_type": "code",
   "execution_count": null,
   "metadata": {},
   "outputs": [],
   "source": [
    "def list_files(startpath,form):\n",
    "    gd=[]\n",
    "    for root, dirs, files in os.walk(startpath):\n",
    "        for f in files:\n",
    "            fn,ext=os.path.splitext(f)\n",
    "            if ext.lower()==form:\n",
    "                a=root+\"/\"+f\n",
    "                a=a.replace('\\\\\\\\','/')\n",
    "                gd.append(a)\n",
    "    return gd"
   ]
  },
  {
   "cell_type": "markdown",
   "metadata": {},
   "source": [
    "## Listing files"
   ]
  },
  {
   "cell_type": "code",
   "execution_count": null,
   "metadata": {},
   "outputs": [],
   "source": [
    "gd=list_files(os.getcwd(),'.xlsx')"
   ]
  },
  {
   "cell_type": "code",
   "execution_count": null,
   "metadata": {},
   "outputs": [],
   "source": [
    "counter_ind=-1\n",
    "for item in gd:\n",
    "    counter_ind+=1\n",
    "    print(\"Index \"+str(counter_ind)+\" >> \"+item)"
   ]
  },
  {
   "cell_type": "markdown",
   "metadata": {},
   "source": [
    "## Reading the Database (Excel File) for the sheet named as \"Historical Urban Population\""
   ]
  },
  {
   "cell_type": "code",
   "execution_count": null,
   "metadata": {},
   "outputs": [],
   "source": [
    "excel_file=pd.read_excel(gd[0],sheet_name='Historical Urban Population')"
   ]
  },
  {
   "cell_type": "code",
   "execution_count": null,
   "metadata": {
    "scrolled": true
   },
   "outputs": [],
   "source": [
    "print(\"Displaying the 10 first registers of the Database\")\n",
    "display(excel_file.head(10))"
   ]
  },
  {
   "cell_type": "markdown",
   "metadata": {},
   "source": [
    "## Checking basic statistical info and info type"
   ]
  },
  {
   "cell_type": "code",
   "execution_count": null,
   "metadata": {},
   "outputs": [],
   "source": [
    "info=excel_file.describe(include='all').T\n",
    "info['Data Type']=excel_file.dtypes\n",
    "info=info\n",
    "display(info)"
   ]
  },
  {
   "cell_type": "markdown",
   "metadata": {},
   "source": [
    "## Evolution of human population from 3700 BD to 2000 AD"
   ]
  },
  {
   "cell_type": "code",
   "execution_count": null,
   "metadata": {},
   "outputs": [],
   "source": [
    "# Spanish Population evolution\n",
    "pop_spain=excel_file[excel_file['Country']=='Spain'].reset_index(drop=True)"
   ]
  },
  {
   "cell_type": "code",
   "execution_count": null,
   "metadata": {},
   "outputs": [],
   "source": [
    "# Which is the oldest country?\n",
    "# First, lets find the oldest date in the data base\n",
    "old_country=excel_file.loc[excel_file['year']==excel_file['year'].min()]['Country'][0]\n",
    "print(\"\")\n",
    "print(chr(27)+\"[1;31m\"+\"The oldest country registred in the data base >> \"+chr(27)+\"[1;34m\"+old_country+chr(27)+\"[0m\"+\"\")\n",
    "print(\"\")"
   ]
  },
  {
   "cell_type": "code",
   "execution_count": null,
   "metadata": {},
   "outputs": [],
   "source": [
    "# Spanish Population evolution\n",
    "pop_oldest=excel_file[excel_file['Country']==old_country].reset_index(drop=True)"
   ]
  },
  {
   "cell_type": "markdown",
   "metadata": {},
   "source": [
    "#### Lets check the basics of both data frames"
   ]
  },
  {
   "cell_type": "code",
   "execution_count": null,
   "metadata": {},
   "outputs": [],
   "source": [
    "info2=pop_spain.describe(include='all').T\n",
    "print(\"\")\n",
    "print(chr(27)+\"[1;31m\"+\">>  Spain Info  <<\"+chr(27)+\"[0m\"+\"\")\n",
    "print(\"\")\n",
    "display(info2)"
   ]
  },
  {
   "cell_type": "code",
   "execution_count": null,
   "metadata": {},
   "outputs": [],
   "source": [
    "info3=pop_oldest.describe(include='all').T\n",
    "print(\"\")\n",
    "print(chr(27)+\"[1;31m\"+\">>  \"+old_country.capitalize()+\"  <<\"+chr(27)+\"[0m\"+\"\")\n",
    "print(\"\")\n",
    "display(info3)"
   ]
  },
  {
   "cell_type": "markdown",
   "metadata": {},
   "source": [
    "#### Following function returns year interval and population interval for each city of a country"
   ]
  },
  {
   "cell_type": "code",
   "execution_count": null,
   "metadata": {},
   "outputs": [],
   "source": [
    "def dif_pop(df,name_city):\n",
    "    df_year_pop=df[df['City']==name_city][['year','pop']].sort_values('year',ascending=True).reset_index(drop=True)\n",
    "    year=df_year_pop['year'].values\n",
    "    pop=df_year_pop['pop'].values\n",
    "    if np.size(df_year_pop,0)>1:\n",
    "        year_interval=year[-1]-year[0]\n",
    "        return year[0],year[1],pop[0],pop[1]\n",
    "    else:\n",
    "        return year[0],year[0],pop[0],pop[0]"
   ]
  },
  {
   "cell_type": "markdown",
   "metadata": {},
   "source": [
    "#### Spain Cities population evolution evaluation"
   ]
  },
  {
   "cell_type": "code",
   "execution_count": null,
   "metadata": {},
   "outputs": [],
   "source": [
    "year_pop_spain=[]\n",
    "for city_name in pop_spain['City'].unique().tolist():\n",
    "    y0,y1,p0,p1=dif_pop(pop_spain,city_name)\n",
    "    year_pop_spain.append([city_name,y0,y1,p0,p1])\n",
    "    \n",
    "df_spain=pd.DataFrame(year_pop_spain,columns=['City','from Year','to Year','from Population','to Population'])\n",
    "df_spain['Population Diff']=df_spain['to Population']-df_spain['from Population']"
   ]
  },
  {
   "cell_type": "code",
   "execution_count": null,
   "metadata": {},
   "outputs": [],
   "source": [
    "label=['Decrease','Stable','Increase']\n",
    "\n",
    "## Defining bins width\n",
    "\n",
    "margin=[(df_spain['to Population']-df_spain['from Population']).min()*1.1,-10000,10000,\n",
    "        (df_spain['to Population']-df_spain['from Population']).max()*1.1]\n",
    "\n",
    "## Decrease will be one with a Population Diff less than -10000 people\n",
    "## Increase will be one with a Population Diff more than 10000 people\n",
    "## Stable will be one with a Population Diff between -10000 and 10000 people"
   ]
  },
  {
   "cell_type": "code",
   "execution_count": null,
   "metadata": {},
   "outputs": [],
   "source": [
    "bins = pd.cut(df_spain['Population Diff'],margin, labels=label)\n",
    "final_spain=df_spain\n",
    "final_spain['Pop Eval']=bins\n",
    "display(final_spain.head(5))"
   ]
  },
  {
   "cell_type": "code",
   "execution_count": null,
   "metadata": {},
   "outputs": [],
   "source": [
    "spanish_deviation=final_spain['Pop Eval'].value_counts().sort_values()\n",
    "print(\"-----------------------------------------------------------------------------\")\n",
    "print(\"\")\n",
    "print(\"  >> Summary of Population variation for spanish cities\")\n",
    "display(spanish_deviation)"
   ]
  },
  {
   "cell_type": "markdown",
   "metadata": {},
   "source": [
    "### Iraq population evolution evaluation (Oldest country available)"
   ]
  },
  {
   "cell_type": "code",
   "execution_count": null,
   "metadata": {},
   "outputs": [],
   "source": [
    "year_pop_oldest=[]\n",
    "for city_name in pop_oldest['City'].unique().tolist():\n",
    "    y0,y1,p0,p1=dif_pop(pop_oldest,city_name)\n",
    "    year_pop_oldest.append([city_name,y0,y1,p0,p1])\n",
    "    \n",
    "df_oldest=pd.DataFrame(year_pop_oldest,columns=['City','from Year','to Year','from Population','to Population'])\n",
    "df_oldest['Population Diff']=df_oldest['to Population']-df_oldest['from Population']"
   ]
  },
  {
   "cell_type": "code",
   "execution_count": null,
   "metadata": {},
   "outputs": [],
   "source": [
    "label=['Decrease','Stable','Increase']\n",
    "\n",
    "## Defining bins width\n",
    "\n",
    "margin=[(df_oldest['to Population']-df_oldest['from Population']).min()*1.1,-10000,10000,\n",
    "        (df_oldest['to Population']-df_oldest['from Population']).max()*1.1]\n",
    "\n",
    "## Decrease will be one with a Population Diff less than -10000 people\n",
    "## Increase will be one with a Population Diff more than 10000 people\n",
    "## Stable will be one with a Population Diff between -10000 and 10000 people\n"
   ]
  },
  {
   "cell_type": "code",
   "execution_count": null,
   "metadata": {},
   "outputs": [],
   "source": [
    "bins = pd.cut(df_oldest['Population Diff'],margin, labels=label)\n",
    "final_oldest=df_oldest\n",
    "final_oldest['Pop Eval']=bins\n",
    "display(final_oldest.head(5))"
   ]
  },
  {
   "cell_type": "code",
   "execution_count": null,
   "metadata": {},
   "outputs": [],
   "source": [
    "oldest_deviation=final_oldest['Pop Eval'].value_counts().sort_values()\n",
    "print(\"-----------------------------------------------------------------------------\")\n",
    "print(\"\")\n",
    "print(\"  >> Summary of Population variation for spanish cities\")\n",
    "display(oldest_deviation)"
   ]
  },
  {
   "cell_type": "markdown",
   "metadata": {},
   "source": [
    "### Concatenating Population summary for both countries"
   ]
  },
  {
   "cell_type": "code",
   "execution_count": null,
   "metadata": {},
   "outputs": [],
   "source": [
    "Summ_pop=pd.DataFrame(np.c_[np.r_[spanish_deviation,final_spain['Population Diff'].sum()],\n",
    "                            np.r_[oldest_deviation,final_oldest['Population Diff'].sum()]])\n",
    "Summ_pop.columns=['Spain','Iraq']\n",
    "Summ_pop.index=['Decrease','Increase','Stable','Total Pop variation']\n",
    "display(Summ_pop)"
   ]
  },
  {
   "cell_type": "markdown",
   "metadata": {},
   "source": [
    "# Final Summary"
   ]
  },
  {
   "cell_type": "markdown",
   "metadata": {},
   "source": [
    "The table below shows us that Spain, Even having more cities in expansion than Iraq from 3700BD to 2000AD,<br>\n",
    "Iraq has a higher expansion in total population than Spain.<br>\n",
    "As conclusion, For a deeper study of population evolution we should have an accurate data base with more continued<br>\n",
    "registers. For each year there are only a couple of registers for each city that make our job more harder than usual<br> \n",
    "to reach an overall evaluation of wolrd population with high accuracy.<br>\n"
   ]
  },
  {
   "cell_type": "markdown",
   "metadata": {},
   "source": [
    "### Global evaluation (Not totally finished, have to check some values)"
   ]
  },
  {
   "cell_type": "code",
   "execution_count": null,
   "metadata": {},
   "outputs": [],
   "source": [
    "%%time\n",
    "\n",
    "counter=0\n",
    "for country in excel_file['Country'].unique().tolist():\n",
    "    counter+=1\n",
    "    pop_country=excel_file[excel_file['Country']==country]\n",
    "    year_pop=[]\n",
    "    for city_name in pop_country['City'].unique().tolist():\n",
    "        y0,y1,p0,p1=dif_pop(pop_country,city_name)\n",
    "        year_pop.append([country,city_name,y0,y1,p0,p1])\n",
    "        \n",
    "    \n",
    "    if counter==1:\n",
    "        df_year_pop=pd.DataFrame(year_pop,columns=['Country','City','from Year','to Year','from Population','to Population'])\n",
    "        df_final=df_year_pop\n",
    "    else:\n",
    "        df_year_pop=pd.DataFrame(year_pop,columns=['Country','City','from Year','to Year','from Population','to Population'])\n",
    "        df_final=pd.concat((df_final,df_year_pop),axis=0).reset_index(drop=True)\n",
    "\n",
    "df_final['Population Diff']=df_final['to Population']-df_final['from Population']\n",
    "label=['Decrease','Stable','Increase']\n",
    "\n",
    "## Defining bins width\n",
    "\n",
    "margin=[(df_final['to Population']-df_final['from Population']).min()*1.1,-10000,10000,\n",
    "        (df_final['to Population']-df_final['from Population']).max()*1.1]\n",
    "\n",
    "## Decrease will be one with a Population Diff less than -10000 people\n",
    "## Increase will be one with a Population Diff more than 10000 people\n",
    "## Stable will be one with a Population Diff between -10000 and 10000 people\n",
    "\n",
    "bins = pd.cut(df_final['Population Diff'],margin, labels=label)\n",
    "final_final=df_final\n",
    "final_final['Pop Eval']=bins\n",
    "    \n",
    "print(\"\")\n",
    "print(\"  >>  Displaying 20 first registers of our final data frame for all countries\")\n",
    "display(final_final.head(5))"
   ]
  },
  {
   "cell_type": "code",
   "execution_count": null,
   "metadata": {},
   "outputs": [],
   "source": [
    "print(\"  >> Displaying the basics statistics for the table above\")\n",
    "display(final_final.describe())"
   ]
  },
  {
   "cell_type": "code",
   "execution_count": null,
   "metadata": {},
   "outputs": [],
   "source": [
    "final_deviation=final_final['Pop Eval'].value_counts().sort_values()\n",
    "Summ_pop_final=pd.DataFrame(np.r_[final_deviation,final_final['from Population'].sum(),\n",
    "                                  final_final['to Population'].sum(),final_final['Population Diff'].sum()])\n",
    "Summ_pop_final.columns=['Global']\n",
    "Summ_pop_final.index=['Decrease','Increase','Stable','Initial Pop','Final Pop','Total Pop variance']\n",
    "\n",
    "print(\"  >> Final Summary\")\n",
    "display(Summ_pop_final)"
   ]
  },
  {
   "cell_type": "markdown",
   "metadata": {},
   "source": [
    "______"
   ]
  }
 ],
 "metadata": {
  "kernelspec": {
   "display_name": "Python 3",
   "language": "python",
   "name": "python3"
  },
  "language_info": {
   "codemirror_mode": {
    "name": "ipython",
    "version": 3
   },
   "file_extension": ".py",
   "mimetype": "text/x-python",
   "name": "python",
   "nbconvert_exporter": "python",
   "pygments_lexer": "ipython3",
   "version": "3.6.6"
  }
 },
 "nbformat": 4,
 "nbformat_minor": 2
}
