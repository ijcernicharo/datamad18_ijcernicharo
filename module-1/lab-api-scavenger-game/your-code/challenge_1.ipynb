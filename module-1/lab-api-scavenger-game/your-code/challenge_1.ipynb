{
 "cells": [
  {
   "cell_type": "markdown",
   "metadata": {},
   "source": [
    "# Challenge 1"
   ]
  },
  {
   "cell_type": "code",
   "execution_count": 1,
   "metadata": {},
   "outputs": [],
   "source": [
    "import requests\n",
    "import json\n",
    "import pandas as pd\n",
    "from pandas.io.json import json_normalize"
   ]
  },
  {
   "cell_type": "markdown",
   "metadata": {},
   "source": [
    "You will find out among all the forks created from the ironhack-datalabs/madrid-oct-2018 repo, how many types of languages are used. Steps:\n",
    "    1. Obtain all the forks of the ironhack-datalabs/madrid-oct-2018 through Github API."
   ]
  },
  {
   "cell_type": "code",
   "execution_count": 3,
   "metadata": {},
   "outputs": [],
   "source": [
    "response = requests.get(\"https://api.github.com/repos/ironhack-datalabs/madrid-oct-2018/forks\")\n",
    "result = response.json()\n",
    "with open('challenge_1.json', 'w') as outfile:\n",
    "    json.dump(result, outfile)"
   ]
  },
  {
   "cell_type": "code",
   "execution_count": 15,
   "metadata": {},
   "outputs": [
    {
     "name": "stdout",
     "output_type": "stream",
     "text": [
      "\n",
      "Available Attribuites\n",
      "\n",
      "  |index|    |archive_url|    |archived|    |assignees_url|    |blobs_url|  \n",
      "\n",
      "  |branches_url|    |clone_url|    |collaborators_url|    |comments_url|    |commits_url|  \n",
      "\n",
      "  |compare_url|    |contents_url|    |contributors_url|    |created_at|    |default_branch|  \n",
      "\n",
      "  |deployments_url|    |description|    |downloads_url|    |events_url|    |fork|  \n",
      "\n",
      "  |forks|    |forks_count|    |forks_url|    |full_name|    |git_commits_url|  \n",
      "\n",
      "  |git_refs_url|    |git_tags_url|    |git_url|    |has_downloads|    |has_issues|  \n",
      "\n",
      "  |has_pages|    |has_projects|    |has_wiki|    |homepage|    |hooks_url|  \n",
      "\n",
      "  |html_url|    |id|    |issue_comment_url|    |issue_events_url|    |issues_url|  \n",
      "\n",
      "  |keys_url|    |labels_url|    |language|    |languages_url|    |license|  \n",
      "\n",
      "  |merges_url|    |milestones_url|    |mirror_url|    |name|    |node_id|  \n",
      "\n",
      "  |notifications_url|    |open_issues|    |open_issues_count|    |owner|    |private|  \n",
      "\n",
      "  |pulls_url|    |pushed_at|    |releases_url|    |size|    |ssh_url|  \n",
      "\n",
      "  |stargazers_count|    |stargazers_url|    |statuses_url|    |subscribers_url|    |subscription_url|  \n",
      "\n",
      "  |svn_url|    |tags_url|    |teams_url|    |trees_url|    |updated_at|  \n",
      "\n"
     ]
    }
   ],
   "source": [
    "forks=pd.DataFrame(result)\n",
    "forks=forks.reset_index()\n",
    "print(\"\")\n",
    "print(\"Available Attribuites\")\n",
    "print(\"\")\n",
    "counter=0\n",
    "string=''\n",
    "for item in forks.columns:\n",
    "    counter+=1\n",
    "    if counter<5:\n",
    "        string+=\"  |\"+item+\"|  \"\n",
    "    else:\n",
    "        string+=\"  |\"+item+\"|  \"\n",
    "        print(string)\n",
    "        print(\"\")\n",
    "        string=''\n",
    "        counter=0"
   ]
  },
  {
   "cell_type": "markdown",
   "metadata": {},
   "source": [
    "___"
   ]
  },
  {
   "cell_type": "markdown",
   "metadata": {},
   "source": [
    "    2. Loop the JSON response for the language attribute of each fork. Use an array to store the language attributes of each fork. The values in the array should be unique.\n",
    "\n",
    "    3. Print the language array. It should be something like:\n",
    "\n",
    "```\n",
    "    [\"Python\", \"Jupyter Notebook\", \"HTML\"]\n",
    "```"
   ]
  },
  {
   "cell_type": "code",
   "execution_count": 6,
   "metadata": {},
   "outputs": [
    {
     "name": "stdout",
     "output_type": "stream",
     "text": [
      "\n",
      "Available Fork Languages: \n",
      "['HTML', 'Jupyter Notebook', 'Python']\n",
      "\n",
      "-------------------------------\n",
      "\n",
      "Frequency of languages\n"
     ]
    },
    {
     "data": {
      "text/plain": [
       "HTML                7\n",
       "Jupyter Notebook    3\n",
       "Python              2\n",
       "Name: language, dtype: int64"
      ]
     },
     "metadata": {},
     "output_type": "display_data"
    }
   ],
   "source": [
    "languages=forks['language'].value_counts()\n",
    "print(\"\")\n",
    "print(\"Available Fork Languages: \")\n",
    "print(languages.index.tolist())\n",
    "print(\"\")\n",
    "print(\"-------------------------------\")\n",
    "print(\"\")\n",
    "print(\"Frequency of languages\")\n",
    "display(languages)"
   ]
  },
  {
   "cell_type": "markdown",
   "metadata": {},
   "source": [
    "_____________"
   ]
  }
 ],
 "metadata": {
  "kernelspec": {
   "display_name": "Python 3",
   "language": "python",
   "name": "python3"
  },
  "language_info": {
   "codemirror_mode": {
    "name": "ipython",
    "version": 3
   },
   "file_extension": ".py",
   "mimetype": "text/x-python",
   "name": "python",
   "nbconvert_exporter": "python",
   "pygments_lexer": "ipython3",
   "version": "3.6.6"
  }
 },
 "nbformat": 4,
 "nbformat_minor": 2
}
